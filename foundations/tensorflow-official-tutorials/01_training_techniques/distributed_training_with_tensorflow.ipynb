{
 "cells": [
  {
   "cell_type": "markdown",
   "metadata": {
    "id": "Tce3stUlHN0L"
   },
   "source": [
    "##### Copyright 2018 The TensorFlow Authors.\n"
   ]
  },
  {
   "cell_type": "code",
   "execution_count": 1,
   "metadata": {
    "cellView": "form",
    "execution": {
     "iopub.execute_input": "2022-12-14T02:47:46.186398Z",
     "iopub.status.busy": "2022-12-14T02:47:46.185987Z",
     "iopub.status.idle": "2022-12-14T02:47:46.189691Z",
     "shell.execute_reply": "2022-12-14T02:47:46.189087Z"
    },
    "id": "tuOe1ymfHZPu"
   },
   "outputs": [],
   "source": [
    "#@title Licensed under the Apache License, Version 2.0 (the \"License\");\n",
    "# you may not use this file except in compliance with the License.\n",
    "# You may obtain a copy of the License at\n",
    "#\n",
    "# https://www.apache.org/licenses/LICENSE-2.0\n",
    "#\n",
    "# Unless required by applicable law or agreed to in writing, software\n",
    "# distributed under the License is distributed on an \"AS IS\" BASIS,\n",
    "# WITHOUT WARRANTIES OR CONDITIONS OF ANY KIND, either express or implied.\n",
    "# See the License for the specific language governing permissions and\n",
    "# limitations under the License."
   ]
  },
  {
   "cell_type": "markdown",
   "metadata": {
    "id": "MfBg1C5NB3X0"
   },
   "source": [
    "# Distributed training with TensorFlow"
   ]
  },
  {
   "cell_type": "markdown",
   "metadata": {
    "id": "r6P32iYYV27b"
   },
   "source": [
    "<table class=\"tfo-notebook-buttons\" align=\"left\">\n",
    "  <td>\n",
    "    <a target=\"_blank\" href=\"https://www.tensorflow.org/guide/distributed_training\"><img src=\"https://www.tensorflow.org/images/tf_logo_32px.png\" />View on TensorFlow.org</a>\n",
    "  </td>\n",
    "  <td>\n",
    "    <a target=\"_blank\" href=\"https://colab.research.google.com/github/tensorflow/docs/blob/master/site/en/guide/distributed_training.ipynb\"><img src=\"https://www.tensorflow.org/images/colab_logo_32px.png\" />Run in Google Colab</a>\n",
    "  </td>\n",
    "  <td>\n",
    "    <a target=\"_blank\" href=\"https://github.com/tensorflow/docs/blob/master/site/en/guide/distributed_training.ipynb\"><img src=\"https://www.tensorflow.org/images/GitHub-Mark-32px.png\" />View source on GitHub</a>\n",
    "  </td>\n",
    "  <td>\n",
    "    <a href=\"https://storage.googleapis.com/tensorflow_docs/docs/site/en/guide/distributed_training.ipynb\"><img src=\"https://www.tensorflow.org/images/download_logo_32px.png\" />Download notebook</a>\n",
    "  </td>\n",
    "</table>"
   ]
  },
  {
   "cell_type": "markdown",
   "metadata": {
    "id": "xHxb-dlhMIzW"
   },
   "source": [
    "## Overview\n",
    "\n",
    "`tf.distribute.Strategy` is a TensorFlow API to distribute training across multiple GPUs, multiple machines, or TPUs. Using this API, you can distribute your existing models and training code with minimal code changes.\n",
    "\n",
    "`tf.distribute.Strategy` has been designed with these key goals in mind:\n",
    "\n",
    "* Easy to use and support multiple user segments, including researchers, machine learning engineers, etc.\n",
    "* Provide good performance out of the box.\n",
    "* Easy switching between strategies.\n",
    "\n",
    "You can distribute training using `tf.distribute.Strategy` with a high-level API like Keras `Model.fit`, as well as [custom training loops](https://www.tensorflow.org/guide/keras/writing_a_training_loop_from_scratch) (and, in general, any computation using TensorFlow).\n",
    "\n",
    "In TensorFlow 2.x, you can execute your programs eagerly, or in a graph using [`tf.function`](function.ipynb). `tf.distribute.Strategy` intends to support both these modes of execution, but works best with `tf.function`. Eager mode is only recommended for debugging purposes and not supported for `tf.distribute.TPUStrategy`. Although training is the focus of this guide, this API can also be used for distributing evaluation and prediction on different platforms.\n",
    "\n",
    "You can use `tf.distribute.Strategy` with very few changes to your code, because the underlying components of TensorFlow have been changed to become strategy-aware. This includes variables, layers, models, optimizers, metrics, summaries, and checkpoints.\n",
    "\n",
    "In this guide, you will learn about various types of strategies and how you can use them in different situations. To learn how to debug performance issues, check out the [Optimize TensorFlow GPU performance](gpu_performance_analysis.md) guide.\n",
    "\n",
    "Note: For a deeper understanding of the concepts, watch the deep-dive presentation—[Inside TensorFlow: `tf.distribute.Strategy`](https://youtu.be/jKV53r9-H14). This is especially recommended if you plan to write your own training loop.\n"
   ]
  },
  {
   "cell_type": "markdown",
   "metadata": {
    "id": "b3600ee25c8e"
   },
   "source": [
    "## Set up TensorFlow"
   ]
  },
  {
   "cell_type": "code",
   "execution_count": 1,
   "metadata": {
    "execution": {
     "iopub.execute_input": "2022-12-14T02:47:46.193170Z",
     "iopub.status.busy": "2022-12-14T02:47:46.192666Z",
     "iopub.status.idle": "2022-12-14T02:47:48.116865Z",
     "shell.execute_reply": "2022-12-14T02:47:48.116153Z"
    },
    "id": "EVOZFbNgXghB",
    "ExecuteTime": {
     "start_time": "2023-05-09T11:17:31.283295Z",
     "end_time": "2023-05-09T11:17:33.010952Z"
    }
   },
   "outputs": [
    {
     "name": "stderr",
     "output_type": "stream",
     "text": [
      "2023-05-09 12:17:31.488607: I tensorflow/core/platform/cpu_feature_guard.cc:182] This TensorFlow binary is optimized to use available CPU instructions in performance-critical operations.\n",
      "To enable the following instructions: AVX2 FMA, in other operations, rebuild TensorFlow with the appropriate compiler flags.\n",
      "2023-05-09 12:17:32.135336: W tensorflow/compiler/tf2tensorrt/utils/py_utils.cc:38] TF-TRT Warning: Could not find TensorRT\n"
     ]
    }
   ],
   "source": [
    "import tensorflow as tf"
   ]
  },
  {
   "cell_type": "markdown",
   "metadata": {
    "id": "eQ1QESxxEbCh"
   },
   "source": [
    "## Types of strategies\n",
    "\n",
    "`tf.distribute.Strategy` intends to cover a number of use cases along different axes. Some of these combinations are currently supported and others will be added in the future. Some of these axes are:\n",
    "\n",
    "- *Synchronous vs asynchronous training:* These are two common ways of distributing training with data parallelism. In sync training, all workers train over different slices of input data in sync, and aggregating gradients at each step. In async training, all workers are independently training over the input data and updating variables asynchronously. Typically sync training is supported via all-reduce and async through parameter server architecture.\n",
    "- *Hardware platform:* You may want to scale your training onto multiple GPUs on one machine, or multiple machines in a network (with 0 or more GPUs each), or on Cloud TPUs.\n",
    "\n",
    "In order to support these use cases, TensorFlow has `MirroredStrategy`, `TPUStrategy`, `MultiWorkerMirroredStrategy`, `ParameterServerStrategy`, `CentralStorageStrategy`, as well as other strategies available. The next section explains which of these are supported in which scenarios in TensorFlow. Here is a quick overview:\n",
    "\n",
    "| Training API             | `MirroredStrategy` | `TPUStrategy` | `MultiWorkerMirroredStrategy` | `CentralStorageStrategy` | `ParameterServerStrategy` |\n",
    "| :----------------------- | :----------------- | :------------ | :---------------------------- | :----------------------- | :------------------------ |\n",
    "| **Keras `Model.fit`**    | Supported          | Supported     | Supported                     | Experimental support     | Experimental support      |\n",
    "| **Custom training loop** | Supported          | Supported     | Supported                     | Experimental support     | Experimental support      |\n",
    "| **Estimator API**        | Limited Support    | Not supported | Limited Support               | Limited Support          | Limited Support           |\n",
    "\n",
    "Note: [Experimental support](https://www.tensorflow.org/guide/versions#what_is_not_covered) means the APIs are not covered by any compatibility guarantees.\n",
    "\n",
    "Warning: Estimator support is limited. Basic training and evaluation are experimental, and advanced features—such as scaffold—are not implemented. You should be using Keras or custom training loops if a use case is not covered. Estimators are not recommended for new code. Estimators run `v1.Session`-style code which is more difficult to write correctly, and can behave unexpectedly, especially when combined with TF 2 code. Estimators do fall under our [compatibility guarantees](https://tensorflow.org/guide/versions), but will receive no fixes other than security vulnerabilities. Go to the [migration guide](https://tensorflow.org/guide/migrate) for details."
   ]
  },
  {
   "cell_type": "markdown",
   "metadata": {
    "id": "DoQKKK8dtfg6"
   },
   "source": [
    "### MirroredStrategy\n",
    "\n",
    "`tf.distribute.MirroredStrategy` supports synchronous distributed training on multiple GPUs on one machine. It creates one replica per GPU device. Each variable in the model is mirrored across all the replicas. Together, these variables form a single conceptual variable called `MirroredVariable`. These variables are kept in sync with each other by applying identical updates.\n",
    "\n",
    "Efficient all-reduce algorithms are used to communicate the variable updates across the devices. All-reduce aggregates tensors across all the devices by adding them up, and makes them available on each device. It’s a fused algorithm that is very efficient and can reduce the overhead of synchronization significantly. There are many all-reduce algorithms and implementations available, depending on the type of communication available between devices. By default, it uses the NVIDIA Collective Communication Library ([NCCL](https://developer.nvidia.com/nccl)) as the all-reduce implementation. You can choose from a few other options or write your own.\n",
    "\n",
    "Here is the simplest way of creating `MirroredStrategy`:"
   ]
  },
  {
   "cell_type": "code",
   "execution_count": 2,
   "metadata": {
    "execution": {
     "iopub.execute_input": "2022-12-14T02:47:48.121477Z",
     "iopub.status.busy": "2022-12-14T02:47:48.120834Z",
     "iopub.status.idle": "2022-12-14T02:47:52.560141Z",
     "shell.execute_reply": "2022-12-14T02:47:52.559283Z"
    },
    "id": "9Z4FMAY9ADxK",
    "ExecuteTime": {
     "start_time": "2023-05-09T11:28:37.805801Z",
     "end_time": "2023-05-09T11:28:39.235574Z"
    }
   },
   "outputs": [
    {
     "name": "stderr",
     "output_type": "stream",
     "text": [
      "2023-05-09 12:28:37.050789: I tensorflow/compiler/xla/stream_executor/cuda/cuda_gpu_executor.cc:982] could not open file to read NUMA node: /sys/bus/pci/devices/0000:01:00.0/numa_node\n",
      "Your kernel may have been built without NUMA support.\n",
      "2023-05-09 12:28:37.091194: I tensorflow/compiler/xla/stream_executor/cuda/cuda_gpu_executor.cc:982] could not open file to read NUMA node: /sys/bus/pci/devices/0000:01:00.0/numa_node\n",
      "Your kernel may have been built without NUMA support.\n",
      "2023-05-09 12:28:37.091251: I tensorflow/compiler/xla/stream_executor/cuda/cuda_gpu_executor.cc:982] could not open file to read NUMA node: /sys/bus/pci/devices/0000:01:00.0/numa_node\n",
      "Your kernel may have been built without NUMA support.\n",
      "2023-05-09 12:28:37.093613: I tensorflow/compiler/xla/stream_executor/cuda/cuda_gpu_executor.cc:982] could not open file to read NUMA node: /sys/bus/pci/devices/0000:01:00.0/numa_node\n",
      "Your kernel may have been built without NUMA support.\n",
      "2023-05-09 12:28:37.093682: I tensorflow/compiler/xla/stream_executor/cuda/cuda_gpu_executor.cc:982] could not open file to read NUMA node: /sys/bus/pci/devices/0000:01:00.0/numa_node\n",
      "Your kernel may have been built without NUMA support.\n",
      "2023-05-09 12:28:37.093710: I tensorflow/compiler/xla/stream_executor/cuda/cuda_gpu_executor.cc:982] could not open file to read NUMA node: /sys/bus/pci/devices/0000:01:00.0/numa_node\n",
      "Your kernel may have been built without NUMA support.\n",
      "2023-05-09 12:28:37.800740: I tensorflow/compiler/xla/stream_executor/cuda/cuda_gpu_executor.cc:982] could not open file to read NUMA node: /sys/bus/pci/devices/0000:01:00.0/numa_node\n",
      "Your kernel may have been built without NUMA support.\n",
      "2023-05-09 12:28:37.800994: I tensorflow/compiler/xla/stream_executor/cuda/cuda_gpu_executor.cc:982] could not open file to read NUMA node: /sys/bus/pci/devices/0000:01:00.0/numa_node\n",
      "Your kernel may have been built without NUMA support.\n",
      "2023-05-09 12:28:37.801004: I tensorflow/core/common_runtime/gpu/gpu_device.cc:1722] Could not identify NUMA node of platform GPU id 0, defaulting to 0.  Your kernel may not have been built with NUMA support.\n",
      "2023-05-09 12:28:37.801043: I tensorflow/compiler/xla/stream_executor/cuda/cuda_gpu_executor.cc:982] could not open file to read NUMA node: /sys/bus/pci/devices/0000:01:00.0/numa_node\n",
      "Your kernel may have been built without NUMA support.\n",
      "2023-05-09 12:28:37.801072: I tensorflow/core/common_runtime/gpu/gpu_device.cc:1635] Created device /job:localhost/replica:0/task:0/device:GPU:0 with 5843 MB memory:  -> device: 0, name: NVIDIA GeForce RTX 2070 with Max-Q Design, pci bus id: 0000:01:00.0, compute capability: 7.5\n"
     ]
    },
    {
     "name": "stdout",
     "output_type": "stream",
     "text": [
      "INFO:tensorflow:Using MirroredStrategy with devices ('/job:localhost/replica:0/task:0/device:GPU:0',)\n"
     ]
    }
   ],
   "source": [
    "mirrored_strategy = tf.distribute.MirroredStrategy()"
   ]
  },
  {
   "cell_type": "markdown",
   "metadata": {
    "id": "wldY4aFCAH4r"
   },
   "source": [
    "This will create a `MirroredStrategy` instance, which will use all the GPUs that are visible to TensorFlow, and NCCL—as the cross-device communication.\n",
    "\n",
    "If you wish to use only some of the GPUs on your machine, you can do so like this:"
   ]
  },
  {
   "cell_type": "code",
   "execution_count": 3,
   "metadata": {
    "execution": {
     "iopub.execute_input": "2022-12-14T02:47:52.563954Z",
     "iopub.status.busy": "2022-12-14T02:47:52.563344Z",
     "iopub.status.idle": "2022-12-14T02:47:52.571005Z",
     "shell.execute_reply": "2022-12-14T02:47:52.570336Z"
    },
    "id": "nbGleskCACv_",
    "ExecuteTime": {
     "start_time": "2023-05-09T11:29:28.569944Z",
     "end_time": "2023-05-09T11:29:28.580445Z"
    }
   },
   "outputs": [
    {
     "name": "stdout",
     "output_type": "stream",
     "text": [
      "WARNING:tensorflow:Some requested devices in `tf.distribute.Strategy` are not visible to TensorFlow: /job:localhost/replica:0/task:0/device:GPU:1,/job:localhost/replica:0/task:0/device:GPU:0\n",
      "INFO:tensorflow:Using MirroredStrategy with devices ('/job:localhost/replica:0/task:0/device:GPU:0', '/job:localhost/replica:0/task:0/device:GPU:1')\n"
     ]
    }
   ],
   "source": [
    "mirrored_strategy = tf.distribute.MirroredStrategy(devices=[\"/gpu:0\", \"/gpu:1\"])"
   ]
  },
  {
   "cell_type": "code",
   "execution_count": 6,
   "outputs": [
    {
     "name": "stdout",
     "output_type": "stream",
     "text": [
      "INFO:tensorflow:Using MirroredStrategy with devices ('/job:localhost/replica:0/task:0/device:GPU:0',)\n"
     ]
    }
   ],
   "source": [
    "mirrored_strategy = tf.distribute.MirroredStrategy(devices=[\"/gpu:0\"])"
   ],
   "metadata": {
    "collapsed": false,
    "ExecuteTime": {
     "start_time": "2023-05-09T11:30:20.823311Z",
     "end_time": "2023-05-09T11:30:20.848331Z"
    }
   }
  },
  {
   "cell_type": "markdown",
   "metadata": {
    "id": "8-KDnrJLAhav"
   },
   "source": [
    "If you wish to override the cross device communication, you can do so using the `cross_device_ops` argument by supplying an instance of `tf.distribute.CrossDeviceOps`. Currently, `tf.distribute.HierarchicalCopyAllReduce` and `tf.distribute.ReductionToOneDevice` are two options other than `tf.distribute.NcclAllReduce`, which is the default."
   ]
  },
  {
   "cell_type": "code",
   "execution_count": 7,
   "metadata": {
    "execution": {
     "iopub.execute_input": "2022-12-14T02:47:52.573755Z",
     "iopub.status.busy": "2022-12-14T02:47:52.573533Z",
     "iopub.status.idle": "2022-12-14T02:47:52.579758Z",
     "shell.execute_reply": "2022-12-14T02:47:52.579059Z"
    },
    "id": "6-xIOIpgBItn",
    "ExecuteTime": {
     "start_time": "2023-05-09T11:31:00.390517Z",
     "end_time": "2023-05-09T11:31:00.396016Z"
    }
   },
   "outputs": [
    {
     "name": "stdout",
     "output_type": "stream",
     "text": [
      "INFO:tensorflow:Using MirroredStrategy with devices ('/job:localhost/replica:0/task:0/device:GPU:0',)\n"
     ]
    }
   ],
   "source": [
    "mirrored_strategy = tf.distribute.MirroredStrategy(\n",
    "    cross_device_ops=tf.distribute.HierarchicalCopyAllReduce()\n",
    ")"
   ]
  },
  {
   "cell_type": "markdown",
   "metadata": {
    "id": "kPEBCMzsGaO5"
   },
   "source": [
    "### TPUStrategy\n",
    "\n",
    "`tf.distribute.TPUStrategy` lets you run your TensorFlow training on [Tensor Processing Units (TPUs)](tpu.ipynb). TPUs are Google's specialized ASICs designed to dramatically accelerate machine learning workloads. They are available on [Google Colab](https://colab.research.google.com/), the [TPU Research Cloud](https://sites.research.google/trc/), and [Cloud TPU](https://cloud.google.com/tpu).\n",
    "\n",
    "In terms of distributed training architecture, `TPUStrategy` is the same `MirroredStrategy`—it implements synchronous distributed training. TPUs provide their own implementation of efficient all-reduce and other collective operations across multiple TPU cores, which are used in `TPUStrategy`.\n",
    "\n",
    "Here is how you would instantiate `TPUStrategy`:\n",
    "\n",
    "Note: To run any TPU code in Colab, you should select TPU as the Colab runtime. Refer to the [Use TPUs](tpu.ipynb) guide for a complete example.\n",
    "\n",
    "```python\n",
    "cluster_resolver = tf.distribute.cluster_resolver.TPUClusterResolver(\n",
    "    tpu=tpu_address)\n",
    "tf.config.experimental_connect_to_cluster(cluster_resolver)\n",
    "tf.tpu.experimental.initialize_tpu_system(cluster_resolver)\n",
    "tpu_strategy = tf.distribute.TPUStrategy(cluster_resolver)\n",
    "```\n",
    "\n",
    "The `TPUClusterResolver` instance helps locate the TPUs. In Colab, you don't need to specify any arguments to it.\n",
    "\n",
    "If you want to use this for Cloud TPUs:\n",
    "\n",
    "- You must specify the name of your TPU resource in the `tpu` argument.\n",
    "- You must initialize the TPU system explicitly at the *start* of the program. This is required before TPUs can be used for computation. Initializing the TPU system also wipes out the TPU memory, so it's important to complete this step first in order to avoid losing state."
   ]
  },
  {
   "cell_type": "markdown",
   "metadata": {
    "id": "8Xc3gyo0Bejd"
   },
   "source": [
    "### MultiWorkerMirroredStrategy\n",
    "\n",
    "`tf.distribute.MultiWorkerMirroredStrategy` is very similar to `MirroredStrategy`. It implements synchronous distributed training across multiple workers, each with potentially multiple GPUs. Similar to `tf.distribute.MirroredStrategy`, it creates copies of all variables in the model on each device across all workers.\n",
    "\n",
    "Here is the simplest way of creating `MultiWorkerMirroredStrategy`:"
   ]
  },
  {
   "cell_type": "code",
   "execution_count": 8,
   "metadata": {
    "execution": {
     "iopub.execute_input": "2022-12-14T02:47:52.583053Z",
     "iopub.status.busy": "2022-12-14T02:47:52.582433Z",
     "iopub.status.idle": "2022-12-14T02:47:52.591280Z",
     "shell.execute_reply": "2022-12-14T02:47:52.590646Z"
    },
    "id": "m3a_6ebbEjre",
    "ExecuteTime": {
     "start_time": "2023-05-09T11:46:54.607979Z",
     "end_time": "2023-05-09T11:46:54.662928Z"
    }
   },
   "outputs": [
    {
     "name": "stdout",
     "output_type": "stream",
     "text": [
      "WARNING:tensorflow:Collective ops is not configured at program startup. Some performance features may not be enabled.\n",
      "INFO:tensorflow:Single-worker MultiWorkerMirroredStrategy with local_devices = ('/device:GPU:0',), communication = CommunicationImplementation.AUTO\n"
     ]
    }
   ],
   "source": [
    "strategy = tf.distribute.MultiWorkerMirroredStrategy()"
   ]
  },
  {
   "cell_type": "markdown",
   "metadata": {
    "id": "bt94JBvhEr4s"
   },
   "source": [
    "`MultiWorkerMirroredStrategy` has two implementations for cross-device communications. `CommunicationImplementation.RING` is [RPC](https://en.wikipedia.org/wiki/Remote_procedure_call)-based and supports both CPUs and GPUs. `CommunicationImplementation.NCCL` uses NCCL and provides state-of-art performance on GPUs but it doesn't support CPUs. `CollectiveCommunication.AUTO` defers the choice to Tensorflow. You can specify them in the following way:\n"
   ]
  },
  {
   "cell_type": "code",
   "execution_count": 10,
   "metadata": {
    "execution": {
     "iopub.execute_input": "2022-12-14T02:47:52.594298Z",
     "iopub.status.busy": "2022-12-14T02:47:52.593716Z",
     "iopub.status.idle": "2022-12-14T02:47:52.601511Z",
     "shell.execute_reply": "2022-12-14T02:47:52.600893Z"
    },
    "id": "QGX_QAEtFQSv",
    "ExecuteTime": {
     "start_time": "2023-05-09T11:48:39.338696Z",
     "end_time": "2023-05-09T11:48:39.352194Z"
    }
   },
   "outputs": [
    {
     "name": "stdout",
     "output_type": "stream",
     "text": [
      "WARNING:tensorflow:Collective ops is not configured at program startup. Some performance features may not be enabled.\n",
      "INFO:tensorflow:Single-worker MultiWorkerMirroredStrategy with local_devices = ('/device:GPU:0',), communication = CommunicationImplementation.NCCL\n"
     ]
    }
   ],
   "source": [
    "communication_options = tf.distribute.experimental.CommunicationOptions(\n",
    "    implementation=tf.distribute.experimental.CommunicationImplementation.NCCL\n",
    ")\n",
    "\n",
    "strategy = tf.distribute.MultiWorkerMirroredStrategy(\n",
    "    communication_options=communication_options\n",
    ")"
   ]
  },
  {
   "cell_type": "markdown",
   "metadata": {
    "id": "0JiImlw3F77E"
   },
   "source": [
    "One of the key differences to get multi worker training going, as compared to multi-GPU training, is the multi-worker setup. The `'TF_CONFIG'` environment variable is the standard way in TensorFlow to specify the cluster configuration to each worker that is part of the cluster. Learn more in the [setting up TF_CONFIG section](#TF_CONFIG) of this document.\n",
    "\n",
    "For more details about `MultiWorkerMirroredStrategy`, consider the following tutorials:\n",
    "\n",
    "- [Multi-worker training with Keras Model.fit](../tutorials/distribute/multi_worker_with_keras.ipynb)\n",
    "- [Multi-worker training with a custom training loop](../tutorials/distribute/multi_worker_with_ctl.ipynb)"
   ]
  },
  {
   "cell_type": "markdown",
   "metadata": {
    "id": "3ZLBhaP9NUNr"
   },
   "source": [
    "### ParameterServerStrategy\n",
    "\n",
    "Parameter server training is a common data-parallel method to scale up model training on multiple machines. A parameter server training cluster consists of workers and parameter servers. Variables are created on parameter servers and they are read and updated by workers in each step. Check out the [Parameter server training](../tutorials/distribute/parameter_server_training.ipynb) tutorial for details.\n",
    "\n",
    "In TensorFlow 2, parameter server training uses a central coordinator-based architecture via the `tf.distribute.experimental.coordinator.ClusterCoordinator` class.\n",
    "\n",
    "In this implementation, the `worker` and `parameter server` tasks run `tf.distribute.Server`s that listen for tasks from the coordinator. The coordinator creates resources, dispatches training tasks, writes checkpoints, and deals with task failures.\n",
    "\n",
    "In the programming running on the coordinator, you will use a `ParameterServerStrategy` object to define a training step and use a `ClusterCoordinator` to dispatch training steps to remote workers. Here is the simplest way to create them:\n",
    "\n",
    "```python\n",
    "strategy = tf.distribute.experimental.ParameterServerStrategy(\n",
    "    tf.distribute.cluster_resolver.TFConfigClusterResolver(),\n",
    "    variable_partitioner=variable_partitioner)\n",
    "coordinator = tf.distribute.experimental.coordinator.ClusterCoordinator(\n",
    "    strategy)\n",
    "```\n",
    "\n",
    "To learn more about `ParameterServerStrategy`, check out the [Parameter server training with Keras Model.fit and a custom training loop](../tutorials/distribute/parameter_server_training.ipynb) tutorial.\n",
    "\n",
    "Note: You will need to configure the `'TF_CONFIG'` environment variable if you use `TFConfigClusterResolver`. It is similar to [`'TF_CONFIG'`](#TF_CONFIG) in `MultiWorkerMirroredStrategy` but has additional caveats.\n",
    "\n",
    "In TensorFlow 1, `ParameterServerStrategy` is available only with an Estimator via `tf.compat.v1.distribute.experimental.ParameterServerStrategy` symbol."
   ]
  },
  {
   "cell_type": "markdown",
   "metadata": {
    "id": "E20tG21LFfv1"
   },
   "source": [
    "Note: This strategy is [`experimental`](https://www.tensorflow.org/guide/versions#what_is_not_covered) as it is currently under active development."
   ]
  },
  {
   "cell_type": "markdown",
   "metadata": {
    "id": "45H0Wa8WKI8z"
   },
   "source": [
    "### CentralStorageStrategy\n",
    "`tf.distribute.experimental.CentralStorageStrategy` does synchronous training as well. Variables are not mirrored, instead they are placed on the CPU and operations are replicated across all local GPUs. If there is only one GPU, all variables and operations will be placed on that GPU.\n",
    "\n",
    "Create an instance of `CentralStorageStrategy` by:\n"
   ]
  },
  {
   "cell_type": "code",
   "execution_count": 11,
   "metadata": {
    "execution": {
     "iopub.execute_input": "2022-12-14T02:47:52.604734Z",
     "iopub.status.busy": "2022-12-14T02:47:52.604274Z",
     "iopub.status.idle": "2022-12-14T02:47:52.608742Z",
     "shell.execute_reply": "2022-12-14T02:47:52.607916Z"
    },
    "id": "rtjZOyaoMWrP",
    "ExecuteTime": {
     "start_time": "2023-05-09T12:25:17.381960Z",
     "end_time": "2023-05-09T12:25:17.459801Z"
    }
   },
   "outputs": [
    {
     "name": "stdout",
     "output_type": "stream",
     "text": [
      "INFO:tensorflow:ParameterServerStrategy (CentralStorageStrategy if you are using a single machine) with compute_devices = ['/job:localhost/replica:0/task:0/device:GPU:0'], variable_device = '/job:localhost/replica:0/task:0/device:GPU:0'\n"
     ]
    }
   ],
   "source": [
    "central_storage_strategy = tf.distribute.experimental.CentralStorageStrategy()"
   ]
  },
  {
   "cell_type": "markdown",
   "metadata": {
    "id": "KY1nJHNkMl7b"
   },
   "source": [
    "This will create a `CentralStorageStrategy` instance which will use all visible GPUs and CPU. Update to variables on replicas will be aggregated before being applied to variables."
   ]
  },
  {
   "cell_type": "markdown",
   "metadata": {
    "id": "aAFycYUiNCUb"
   },
   "source": [
    "Note: This strategy is [`experimental`](https://www.tensorflow.org/guide/versions#what_is_not_covered), as it is currently a work in progress."
   ]
  },
  {
   "cell_type": "markdown",
   "metadata": {
    "id": "t2XUdmIxKljq"
   },
   "source": [
    "### Other strategies\n",
    "\n",
    "In addition to the above strategies, there are two other strategies which might be useful for prototyping and debugging when using `tf.distribute` APIs."
   ]
  },
  {
   "cell_type": "markdown",
   "metadata": {
    "id": "UD5I1beTpc7a"
   },
   "source": [
    "#### Default Strategy\n",
    "\n",
    "The Default Strategy is a distribution strategy which is present when no explicit distribution strategy is in scope. It implements the `tf.distribute.Strategy` interface but is a pass-through and provides no actual distribution. For instance, `Strategy.run(fn)` will simply call `fn`. Code written using this strategy should behave exactly as code written without any strategy. You can think of it as a \"no-op\" strategy.\n",
    "\n",
    "The Default Strategy is a singleton—and one cannot create more instances of it. It can be obtained using `tf.distribute.get_strategy` outside any explicit strategy's scope (the same API that can be used to get the current strategy inside an explicit strategy's scope)."
   ]
  },
  {
   "cell_type": "code",
   "execution_count": 12,
   "metadata": {
    "execution": {
     "iopub.execute_input": "2022-12-14T02:47:52.612578Z",
     "iopub.status.busy": "2022-12-14T02:47:52.611976Z",
     "iopub.status.idle": "2022-12-14T02:47:52.615359Z",
     "shell.execute_reply": "2022-12-14T02:47:52.614582Z"
    },
    "id": "ibHleFOOmPn9",
    "ExecuteTime": {
     "start_time": "2023-05-09T12:25:55.526855Z",
     "end_time": "2023-05-09T12:25:55.534849Z"
    }
   },
   "outputs": [],
   "source": [
    "default_strategy = tf.distribute.get_strategy()"
   ]
  },
  {
   "cell_type": "markdown",
   "metadata": {
    "id": "EkxPl_5ImLzc"
   },
   "source": [
    "This strategy serves two main purposes:\n",
    "\n",
    "* It allows writing distribution-aware library code unconditionally. For example, in `tf.keras.optimizers` you can use `tf.distribute.get_strategy` and use that strategy for reducing gradients—it will always return a strategy object on which you can call the `Strategy.reduce` API.\n"
   ]
  },
  {
   "cell_type": "code",
   "execution_count": 13,
   "metadata": {
    "execution": {
     "iopub.execute_input": "2022-12-14T02:47:52.618664Z",
     "iopub.status.busy": "2022-12-14T02:47:52.618062Z",
     "iopub.status.idle": "2022-12-14T02:47:52.625620Z",
     "shell.execute_reply": "2022-12-14T02:47:52.624782Z"
    },
    "id": "WECeRzUdT6bU",
    "ExecuteTime": {
     "start_time": "2023-05-09T12:26:01.961820Z",
     "end_time": "2023-05-09T12:26:01.968321Z"
    }
   },
   "outputs": [
    {
     "data": {
      "text/plain": "1.0"
     },
     "execution_count": 13,
     "metadata": {},
     "output_type": "execute_result"
    }
   ],
   "source": [
    "# In optimizer or other library code\n",
    "# Get currently active strategy\n",
    "strategy = tf.distribute.get_strategy()\n",
    "strategy.reduce(\"SUM\", 1., axis=None)  # reduce some values"
   ]
  },
  {
   "cell_type": "markdown",
   "metadata": {
    "id": "JURbH-pUT51B"
   },
   "source": [
    "* Similar to library code, it can be used to write end users' programs to work with and without distribution strategy, without requiring conditional logic. Here's a sample code snippet illustrating this:"
   ]
  },
  {
   "cell_type": "code",
   "execution_count": 14,
   "metadata": {
    "execution": {
     "iopub.execute_input": "2022-12-14T02:47:52.629226Z",
     "iopub.status.busy": "2022-12-14T02:47:52.628594Z",
     "iopub.status.idle": "2022-12-14T02:47:52.650059Z",
     "shell.execute_reply": "2022-12-14T02:47:52.649245Z"
    },
    "id": "O4Vmae5jmSE6",
    "ExecuteTime": {
     "start_time": "2023-05-09T12:26:08.046718Z",
     "end_time": "2023-05-09T12:26:09.173112Z"
    }
   },
   "outputs": [
    {
     "name": "stdout",
     "output_type": "stream",
     "text": [
      "INFO:tensorflow:Using MirroredStrategy with devices ('/job:localhost/replica:0/task:0/device:GPU:0',)\n",
      "MirroredVariable:{\n",
      "  0: <tf.Variable 'Variable:0' shape=() dtype=float32, numpy=1.0>\n",
      "}\n"
     ]
    }
   ],
   "source": [
    "if tf.config.list_physical_devices('GPU'):\n",
    "  strategy = tf.distribute.MirroredStrategy()\n",
    "else:  # Use the Default Strategy\n",
    "  strategy = tf.distribute.get_strategy()\n",
    "\n",
    "with strategy.scope():\n",
    "  # Do something interesting\n",
    "  print(tf.Variable(1.))"
   ]
  },
  {
   "cell_type": "markdown",
   "metadata": {
    "id": "kTzsqN4lmJ0d"
   },
   "source": [
    "#### OneDeviceStrategy\n",
    "\n",
    "`tf.distribute.OneDeviceStrategy` is a strategy to place all variables and computation on a single specified device.\n",
    "\n",
    "```python\n",
    "strategy = tf.distribute.OneDeviceStrategy(device=\"/gpu:0\")\n",
    "```\n",
    "\n",
    "This strategy is distinct from the Default Strategy in a number of ways. In the Default Strategy, the variable placement logic remains unchanged when compared to running TensorFlow without any distribution strategy. But when using `OneDeviceStrategy`, all variables created in its scope are explicitly placed on the specified device. Moreover, any functions called via `OneDeviceStrategy.run` will also be placed on the specified device.\n",
    "\n",
    "Input distributed through this strategy will be prefetched to the specified device. In the Default Strategy, there is no input distribution.\n",
    "\n",
    "Similar to the Default Strategy, this strategy could also be used to test your code before switching to other strategies which actually distribute to multiple devices/machines. This will exercise the distribution strategy machinery somewhat more than the Default Strategy, but not to the full extent of using, for example, `MirroredStrategy` or `TPUStrategy`. If you want code that behaves as if there is no strategy, then use the Default Strategy."
   ]
  },
  {
   "cell_type": "markdown",
   "metadata": {
    "id": "hQv1lm9UPDFy"
   },
   "source": [
    "So far you've learned about different strategies and how you can instantiate them. The next few sections show the different ways in which you can use them to distribute your training."
   ]
  },
  {
   "cell_type": "markdown",
   "metadata": {
    "id": "_mcuy3UhPcen"
   },
   "source": [
    "## Use tf.distribute.Strategy with Keras Model.fit\n",
    "\n",
    "`tf.distribute.Strategy` is integrated into `tf.keras`, which is TensorFlow's implementation of the [Keras API specification](https://keras.io/api/). `tf.keras` is a high-level API to build and train models. By integrating into the `tf.keras` backend, it's seamless for you to distribute your training written in the Keras training framework [using Model.fit](https://www.tensorflow.org/guide/keras/customizing_what_happens_in_fit).\n",
    "\n",
    "Here's what you need to change in your code:\n",
    "\n",
    "1. Create an instance of the appropriate `tf.distribute.Strategy`.\n",
    "2. Move the creation of Keras model, optimizer and metrics inside `strategy.scope`. Thus the code in the model's `call()`, `train_step()`, and `test_step()` methods will all be distributed and executed on the accelerator(s).\n",
    "\n",
    "TensorFlow distribution strategies support all types of Keras models—[Sequential](https://www.tensorflow.org/guide/keras/sequential_model), [Functional](https://www.tensorflow.org/guide/keras/functional), and [subclassed](https://www.tensorflow.org/guide/keras/custom_layers_and_models)\n",
    "\n",
    "Here is a snippet of code to do this for a very simple Keras model with one `Dense` layer:"
   ]
  },
  {
   "cell_type": "code",
   "execution_count": 15,
   "metadata": {
    "execution": {
     "iopub.execute_input": "2022-12-14T02:47:52.653573Z",
     "iopub.status.busy": "2022-12-14T02:47:52.652971Z",
     "iopub.status.idle": "2022-12-14T02:47:52.756288Z",
     "shell.execute_reply": "2022-12-14T02:47:52.755670Z"
    },
    "id": "gbbcpzRnPZ6V",
    "ExecuteTime": {
     "start_time": "2023-05-09T12:37:33.634902Z",
     "end_time": "2023-05-09T12:37:33.804487Z"
    }
   },
   "outputs": [
    {
     "name": "stdout",
     "output_type": "stream",
     "text": [
      "INFO:tensorflow:Using MirroredStrategy with devices ('/job:localhost/replica:0/task:0/device:GPU:0',)\n"
     ]
    }
   ],
   "source": [
    "mirrored_strategy = tf.distribute.MirroredStrategy()\n",
    "\n",
    "with mirrored_strategy.scope():\n",
    "  model = tf.keras.Sequential([tf.keras.layers.Dense(1, input_shape=(1,))])\n",
    "\n",
    "model.compile(loss='mse', optimizer='sgd')"
   ]
  },
  {
   "cell_type": "markdown",
   "metadata": {
    "id": "773EOxCRVlTg"
   },
   "source": [
    "This example uses `MirroredStrategy`, so you can run this on a machine with multiple GPUs. `strategy.scope()` indicates to Keras which strategy to use to distribute the training. Creating models/optimizers/metrics inside this scope allows you to create distributed variables instead of regular variables. Once this is set up, you can fit your model like you would normally. `MirroredStrategy` takes care of replicating the model's training on the available GPUs, aggregating gradients, and more."
   ]
  },
  {
   "cell_type": "code",
   "execution_count": 16,
   "metadata": {
    "execution": {
     "iopub.execute_input": "2022-12-14T02:47:52.760134Z",
     "iopub.status.busy": "2022-12-14T02:47:52.759466Z",
     "iopub.status.idle": "2022-12-14T02:47:58.912270Z",
     "shell.execute_reply": "2022-12-14T02:47:58.911355Z"
    },
    "id": "ZMmxEFRTEjH5",
    "ExecuteTime": {
     "start_time": "2023-05-09T12:37:36.726492Z",
     "end_time": "2023-05-09T12:37:42.079025Z"
    }
   },
   "outputs": [
    {
     "name": "stdout",
     "output_type": "stream",
     "text": [
      "Epoch 1/2\n"
     ]
    },
    {
     "name": "stderr",
     "output_type": "stream",
     "text": [
      "2023-05-09 13:37:36.784749: I tensorflow/core/common_runtime/executor.cc:1197] [/device:CPU:0] (DEBUG INFO) Executor start aborting (this does not indicate an error and you can ignore this message): INVALID_ARGUMENT: You must feed a value for placeholder tensor 'Placeholder/_1' with dtype float and shape [1]\n",
      "\t [[{{node Placeholder/_1}}]]\n",
      "2023-05-09 13:37:36.788838: W tensorflow/core/grappler/optimizers/data/auto_shard.cc:786] AUTO sharding policy will apply DATA sharding policy as it failed to apply FILE sharding policy because of the following reason: Found an unshardable source dataset: name: \"TensorDataset/_2\"\n",
      "op: \"TensorDataset\"\n",
      "input: \"Placeholder/_0\"\n",
      "input: \"Placeholder/_1\"\n",
      "attr {\n",
      "  key: \"Toutput_types\"\n",
      "  value {\n",
      "    list {\n",
      "      type: DT_FLOAT\n",
      "      type: DT_FLOAT\n",
      "    }\n",
      "  }\n",
      "}\n",
      "attr {\n",
      "  key: \"_cardinality\"\n",
      "  value {\n",
      "    i: 1\n",
      "  }\n",
      "}\n",
      "attr {\n",
      "  key: \"metadata\"\n",
      "  value {\n",
      "    s: \"\\n\\017TensorDataset:0\"\n",
      "  }\n",
      "}\n",
      "attr {\n",
      "  key: \"output_shapes\"\n",
      "  value {\n",
      "    list {\n",
      "      shape {\n",
      "        dim {\n",
      "          size: 1\n",
      "        }\n",
      "      }\n",
      "      shape {\n",
      "        dim {\n",
      "          size: 1\n",
      "        }\n",
      "      }\n",
      "    }\n",
      "  }\n",
      "}\n",
      "experimental_type {\n",
      "  type_id: TFT_PRODUCT\n",
      "  args {\n",
      "    type_id: TFT_DATASET\n",
      "    args {\n",
      "      type_id: TFT_PRODUCT\n",
      "      args {\n",
      "        type_id: TFT_TENSOR\n",
      "        args {\n",
      "          type_id: TFT_FLOAT\n",
      "        }\n",
      "      }\n",
      "      args {\n",
      "        type_id: TFT_TENSOR\n",
      "        args {\n",
      "          type_id: TFT_FLOAT\n",
      "        }\n",
      "      }\n",
      "    }\n",
      "  }\n",
      "}\n",
      "\n",
      "2023-05-09 13:37:36.819401: I tensorflow/core/common_runtime/executor.cc:1197] [/device:CPU:0] (DEBUG INFO) Executor start aborting (this does not indicate an error and you can ignore this message): INVALID_ARGUMENT: You must feed a value for placeholder tensor 'Placeholder/_1' with dtype float and shape [1]\n",
      "\t [[{{node Placeholder/_1}}]]\n",
      "2023-05-09 13:37:36.912823: I tensorflow/core/common_runtime/executor.cc:1197] [/device:CPU:0] (DEBUG INFO) Executor start aborting (this does not indicate an error and you can ignore this message): INVALID_ARGUMENT: You must feed a value for placeholder tensor 'Placeholder/_1' with dtype float and shape [1]\n",
      "\t [[{{node Placeholder/_1}}]]\n"
     ]
    },
    {
     "name": "stdout",
     "output_type": "stream",
     "text": [
      "INFO:tensorflow:Reduce to /job:localhost/replica:0/task:0/device:CPU:0 then broadcast to ('/job:localhost/replica:0/task:0/device:CPU:0',).\n",
      "INFO:tensorflow:Reduce to /job:localhost/replica:0/task:0/device:CPU:0 then broadcast to ('/job:localhost/replica:0/task:0/device:CPU:0',).\n",
      "INFO:tensorflow:Reduce to /job:localhost/replica:0/task:0/device:CPU:0 then broadcast to ('/job:localhost/replica:0/task:0/device:CPU:0',).\n",
      "INFO:tensorflow:Reduce to /job:localhost/replica:0/task:0/device:CPU:0 then broadcast to ('/job:localhost/replica:0/task:0/device:CPU:0',).\n",
      "INFO:tensorflow:Reduce to /job:localhost/replica:0/task:0/device:CPU:0 then broadcast to ('/job:localhost/replica:0/task:0/device:CPU:0',).\n"
     ]
    },
    {
     "name": "stderr",
     "output_type": "stream",
     "text": [
      "2023-05-09 13:37:38.911433: I tensorflow/compiler/xla/service/service.cc:169] XLA service 0x7f651bc8b1c0 initialized for platform CUDA (this does not guarantee that XLA will be used). Devices:\n",
      "2023-05-09 13:37:38.911498: I tensorflow/compiler/xla/service/service.cc:177]   StreamExecutor device (0): NVIDIA GeForce RTX 2070 with Max-Q Design, Compute Capability 7.5\n",
      "2023-05-09 13:37:41.028408: I tensorflow/compiler/xla/stream_executor/cuda/cuda_dnn.cc:424] Loaded cuDNN version 8900\n"
     ]
    },
    {
     "name": "stdout",
     "output_type": "stream",
     "text": [
      " 1/10 [==>...........................] - ETA: 39s - loss: 0.0690"
     ]
    },
    {
     "name": "stderr",
     "output_type": "stream",
     "text": [
      "2023-05-09 13:37:41.244837: I tensorflow/tsl/platform/default/subprocess.cc:304] Start cannot spawn child process: No such file or directory\n",
      "2023-05-09 13:37:41.380494: I ./tensorflow/compiler/jit/device_compiler.h:180] Compiled cluster using XLA!  This line is logged at most once for the lifetime of the process.\n"
     ]
    },
    {
     "name": "stdout",
     "output_type": "stream",
     "text": [
      " 9/10 [==========================>...] - ETA: 0s - loss: 0.0509 INFO:tensorflow:Reduce to /job:localhost/replica:0/task:0/device:CPU:0 then broadcast to ('/job:localhost/replica:0/task:0/device:CPU:0',).\n",
      "INFO:tensorflow:Reduce to /job:localhost/replica:0/task:0/device:CPU:0 then broadcast to ('/job:localhost/replica:0/task:0/device:CPU:0',).\n",
      "10/10 [==============================] - 5s 8ms/step - loss: 0.0491\n",
      "INFO:tensorflow:Reduce to /job:localhost/replica:0/task:0/device:CPU:0 then broadcast to ('/job:localhost/replica:0/task:0/device:CPU:0',).\n",
      "INFO:tensorflow:Reduce to /job:localhost/replica:0/task:0/device:CPU:0 then broadcast to ('/job:localhost/replica:0/task:0/device:CPU:0',).\n",
      "Epoch 2/2\n",
      " 9/10 [==========================>...] - ETA: 0s - loss: 0.0225INFO:tensorflow:Reduce to /job:localhost/replica:0/task:0/device:CPU:0 then broadcast to ('/job:localhost/replica:0/task:0/device:CPU:0',).\n",
      "10/10 [==============================] - 0s 8ms/step - loss: 0.0217\n"
     ]
    },
    {
     "name": "stderr",
     "output_type": "stream",
     "text": [
      "2023-05-09 13:37:41.497736: I tensorflow/core/common_runtime/executor.cc:1197] [/device:CPU:0] (DEBUG INFO) Executor start aborting (this does not indicate an error and you can ignore this message): INVALID_ARGUMENT: You must feed a value for placeholder tensor 'Placeholder/_0' with dtype float and shape [1]\n",
      "\t [[{{node Placeholder/_0}}]]\n",
      "2023-05-09 13:37:41.676537: I tensorflow/core/common_runtime/executor.cc:1197] [/device:CPU:0] (DEBUG INFO) Executor start aborting (this does not indicate an error and you can ignore this message): INVALID_ARGUMENT: You must feed a value for placeholder tensor 'Placeholder/_1' with dtype float and shape [1]\n",
      "\t [[{{node Placeholder/_1}}]]\n",
      "2023-05-09 13:37:41.677067: W tensorflow/core/grappler/optimizers/data/auto_shard.cc:786] AUTO sharding policy will apply DATA sharding policy as it failed to apply FILE sharding policy because of the following reason: Found an unshardable source dataset: name: \"TensorDataset/_2\"\n",
      "op: \"TensorDataset\"\n",
      "input: \"Placeholder/_0\"\n",
      "input: \"Placeholder/_1\"\n",
      "attr {\n",
      "  key: \"Toutput_types\"\n",
      "  value {\n",
      "    list {\n",
      "      type: DT_FLOAT\n",
      "      type: DT_FLOAT\n",
      "    }\n",
      "  }\n",
      "}\n",
      "attr {\n",
      "  key: \"_cardinality\"\n",
      "  value {\n",
      "    i: 1\n",
      "  }\n",
      "}\n",
      "attr {\n",
      "  key: \"metadata\"\n",
      "  value {\n",
      "    s: \"\\n\\017TensorDataset:0\"\n",
      "  }\n",
      "}\n",
      "attr {\n",
      "  key: \"output_shapes\"\n",
      "  value {\n",
      "    list {\n",
      "      shape {\n",
      "        dim {\n",
      "          size: 1\n",
      "        }\n",
      "      }\n",
      "      shape {\n",
      "        dim {\n",
      "          size: 1\n",
      "        }\n",
      "      }\n",
      "    }\n",
      "  }\n",
      "}\n",
      "experimental_type {\n",
      "  type_id: TFT_PRODUCT\n",
      "  args {\n",
      "    type_id: TFT_DATASET\n",
      "    args {\n",
      "      type_id: TFT_PRODUCT\n",
      "      args {\n",
      "        type_id: TFT_TENSOR\n",
      "        args {\n",
      "          type_id: TFT_FLOAT\n",
      "        }\n",
      "      }\n",
      "      args {\n",
      "        type_id: TFT_TENSOR\n",
      "        args {\n",
      "          type_id: TFT_FLOAT\n",
      "        }\n",
      "      }\n",
      "    }\n",
      "  }\n",
      "}\n",
      "\n",
      "2023-05-09 13:37:41.685989: I tensorflow/core/common_runtime/executor.cc:1197] [/device:CPU:0] (DEBUG INFO) Executor start aborting (this does not indicate an error and you can ignore this message): INVALID_ARGUMENT: You must feed a value for placeholder tensor 'Placeholder/_1' with dtype float and shape [1]\n",
      "\t [[{{node Placeholder/_1}}]]\n",
      "2023-05-09 13:37:41.752975: I tensorflow/core/common_runtime/executor.cc:1197] [/device:CPU:0] (DEBUG INFO) Executor start aborting (this does not indicate an error and you can ignore this message): INVALID_ARGUMENT: You must feed a value for placeholder tensor 'Placeholder/_1' with dtype float and shape [1]\n",
      "\t [[{{node Placeholder/_1}}]]\n"
     ]
    },
    {
     "name": "stdout",
     "output_type": "stream",
     "text": [
      "10/10 [==============================] - 0s 7ms/step - loss: 0.0135\n"
     ]
    },
    {
     "data": {
      "text/plain": "0.01347407978028059"
     },
     "execution_count": 16,
     "metadata": {},
     "output_type": "execute_result"
    }
   ],
   "source": [
    "dataset = tf.data.Dataset.from_tensors(([1.], [1.])).repeat(100).batch(10)\n",
    "model.fit(dataset, epochs=2)\n",
    "model.evaluate(dataset)"
   ]
  },
  {
   "cell_type": "markdown",
   "metadata": {
    "id": "nofTLwyXWHK8"
   },
   "source": [
    "Here a `tf.data.Dataset` provides the training and eval input. You can also use NumPy arrays:"
   ]
  },
  {
   "cell_type": "code",
   "execution_count": 17,
   "metadata": {
    "execution": {
     "iopub.execute_input": "2022-12-14T02:47:58.916210Z",
     "iopub.status.busy": "2022-12-14T02:47:58.915544Z",
     "iopub.status.idle": "2022-12-14T02:47:59.289702Z",
     "shell.execute_reply": "2022-12-14T02:47:59.288878Z"
    },
    "id": "Lqgd9SdxW5OW",
    "ExecuteTime": {
     "start_time": "2023-05-09T12:38:02.523538Z",
     "end_time": "2023-05-09T12:38:02.964549Z"
    }
   },
   "outputs": [
    {
     "name": "stdout",
     "output_type": "stream",
     "text": [
      "Epoch 1/2\n",
      "10/10 [==============================] - 0s 9ms/step - loss: 0.0096\n"
     ]
    },
    {
     "name": "stderr",
     "output_type": "stream",
     "text": [
      "2023-05-09 13:38:02.597570: I tensorflow/core/common_runtime/executor.cc:1197] [/device:CPU:0] (DEBUG INFO) Executor start aborting (this does not indicate an error and you can ignore this message): INVALID_ARGUMENT: You must feed a value for placeholder tensor 'Placeholder/_11' with dtype float and shape [100,1]\n",
      "\t [[{{node Placeholder/_11}}]]\n",
      "2023-05-09 13:38:02.597818: I tensorflow/core/common_runtime/executor.cc:1197] [/device:CPU:0] (DEBUG INFO) Executor start aborting (this does not indicate an error and you can ignore this message): INVALID_ARGUMENT: You must feed a value for placeholder tensor 'Placeholder/_11' with dtype float and shape [100,1]\n",
      "\t [[{{node Placeholder/_11}}]]\n"
     ]
    },
    {
     "name": "stdout",
     "output_type": "stream",
     "text": [
      "Epoch 2/2\n",
      "10/10 [==============================] - 0s 9ms/step - loss: 0.0042\n"
     ]
    },
    {
     "data": {
      "text/plain": "<keras.callbacks.History at 0x7f66c01efee0>"
     },
     "execution_count": 17,
     "metadata": {},
     "output_type": "execute_result"
    }
   ],
   "source": [
    "import numpy as np\n",
    "\n",
    "inputs, targets = np.ones((100, 1)), np.ones((100, 1))\n",
    "model.fit(inputs, targets, epochs=2, batch_size=10)"
   ]
  },
  {
   "cell_type": "markdown",
   "metadata": {
    "id": "IKqaj7QwX0Zb"
   },
   "source": [
    "In both cases—with `Dataset` or NumPy—each batch of the given input is divided equally among the multiple replicas. For instance, if you are using the `MirroredStrategy` with 2 GPUs, each batch of size 10 will be divided among the 2 GPUs, with each receiving 5 input examples in each step. Each epoch will then train faster as you add more GPUs. Typically, you would want to increase your batch size as you add more accelerators, so as to make effective use of the extra computing power. You will also need to re-tune your learning rate, depending on the model. You can use `strategy.num_replicas_in_sync` to get the number of replicas."
   ]
  },
  {
   "cell_type": "code",
   "execution_count": 18,
   "metadata": {
    "execution": {
     "iopub.execute_input": "2022-12-14T02:47:59.293528Z",
     "iopub.status.busy": "2022-12-14T02:47:59.292909Z",
     "iopub.status.idle": "2022-12-14T02:47:59.297831Z",
     "shell.execute_reply": "2022-12-14T02:47:59.297006Z"
    },
    "id": "8ZmJqErtS4A1",
    "ExecuteTime": {
     "start_time": "2023-05-09T12:38:23.308277Z",
     "end_time": "2023-05-09T12:38:23.316775Z"
    }
   },
   "outputs": [
    {
     "data": {
      "text/plain": "1"
     },
     "execution_count": 18,
     "metadata": {},
     "output_type": "execute_result"
    }
   ],
   "source": [
    "mirrored_strategy.num_replicas_in_sync"
   ]
  },
  {
   "cell_type": "code",
   "execution_count": 19,
   "metadata": {
    "execution": {
     "iopub.execute_input": "2022-12-14T02:47:59.301166Z",
     "iopub.status.busy": "2022-12-14T02:47:59.300628Z",
     "iopub.status.idle": "2022-12-14T02:47:59.306781Z",
     "shell.execute_reply": "2022-12-14T02:47:59.306186Z"
    },
    "id": "quNNTytWdGBf",
    "ExecuteTime": {
     "start_time": "2023-05-09T12:38:27.270889Z",
     "end_time": "2023-05-09T12:38:27.279389Z"
    }
   },
   "outputs": [],
   "source": [
    "# Compute a global batch size using a number of replicas.\n",
    "BATCH_SIZE_PER_REPLICA = 5\n",
    "global_batch_size = (BATCH_SIZE_PER_REPLICA *\n",
    "                     mirrored_strategy.num_replicas_in_sync)\n",
    "dataset = tf.data.Dataset.from_tensors(([1.], [1.])).repeat(100)\n",
    "dataset = dataset.batch(global_batch_size)\n",
    "\n",
    "LEARNING_RATES_BY_BATCH_SIZE = {5: 0.1, 10: 0.15, 20:0.175}\n",
    "learning_rate = LEARNING_RATES_BY_BATCH_SIZE[global_batch_size]"
   ]
  },
  {
   "cell_type": "markdown",
   "metadata": {
    "id": "z1Muy0gDZwO5"
   },
   "source": [
    "### What's supported now?\n",
    "\n",
    "| Training API      | `MirroredStrategy` | `TPUStrategy` | `MultiWorkerMirroredStrategy` | `ParameterServerStrategy` | `CentralStorageStrategy` |\n",
    "| ----------------- | ------------------ | ------------- | ----------------------------- | ------------------------- | ------------------------ |\n",
    "| Keras `Model.fit` | Supported          | Supported     | Supported                     | Experimental support      | Experimental support     |\n",
    "\n",
    "### Examples and tutorials\n",
    "\n",
    "Here is a list of tutorials and examples that illustrate the above integration end-to-end with Keras `Model.fit`:\n",
    "\n",
    "1. [Tutorial](../tutorials/distribute/keras.ipynb): Training with `Model.fit` and `MirroredStrategy`.\n",
    "2. [Tutorial](../tutorials/distribute/multi_worker_with_keras.ipynb): Training with `Model.fit` and `MultiWorkerMirroredStrategy`.\n",
    "3. [Guide](tpu.ipynb): Contains an example of using `Model.fit` and `TPUStrategy`.\n",
    "4. [Tutorial](../tutorials/distribute/parameter_server_training.ipynb): Parameter server training with `Model.fit` and `ParameterServerStrategy`.\n",
    "5. [Tutorial](https://www.tensorflow.org/text/tutorials/bert_glue): Fine-tuning BERT for many tasks from the GLUE benchmark with `Model.fit` and `TPUStrategy`.\n",
    "6. TensorFlow Model Garden [repository](https://github.com/tensorflow/models/tree/master/official) containing collections of state-of-the-art models implemented using various strategies."
   ]
  },
  {
   "cell_type": "markdown",
   "metadata": {
    "id": "IlYVC0goepdk"
   },
   "source": [
    "## Use tf.distribute.Strategy with custom training loops\n",
    "\n",
    "As demonstrated above, using `tf.distribute.Strategy` with Keras `Model.fit` requires changing only a couple lines of your code. With a little more effort, you can also use `tf.distribute.Strategy` [with custom training loops](https://www.tensorflow.org/guide/keras/writing_a_training_loop_from_scratch).\n",
    "\n",
    "If you need more flexibility and control over your training loops than is possible with Estimator or Keras, you can write custom training loops. For instance, when using a GAN, you may want to take a different number of generator or discriminator steps each round. Similarly, the high level frameworks are not very suitable for Reinforcement Learning training.\n",
    "\n",
    "The `tf.distribute.Strategy` classes provide a core set of methods to support custom training loops. Using these may require minor restructuring of the code initially, but once that is done, you should be able to switch between GPUs, TPUs, and multiple machines simply by changing the strategy instance.\n",
    "\n",
    "Below is a brief snippet illustrating this use case for a simple training example using the same Keras model as before.\n"
   ]
  },
  {
   "cell_type": "markdown",
   "metadata": {
    "id": "XNHvSY32nVBi"
   },
   "source": [
    "First, create the model and optimizer inside the strategy's scope. This ensures that any variables created with the model and optimizer are mirrored variables."
   ]
  },
  {
   "cell_type": "code",
   "execution_count": 20,
   "metadata": {
    "execution": {
     "iopub.execute_input": "2022-12-14T02:47:59.310073Z",
     "iopub.status.busy": "2022-12-14T02:47:59.309478Z",
     "iopub.status.idle": "2022-12-14T02:47:59.344649Z",
     "shell.execute_reply": "2022-12-14T02:47:59.344070Z"
    },
    "id": "W-3Bn-CaiPKD",
    "ExecuteTime": {
     "start_time": "2023-05-09T12:38:32.421669Z",
     "end_time": "2023-05-09T12:38:32.462107Z"
    }
   },
   "outputs": [],
   "source": [
    "with mirrored_strategy.scope():\n",
    "  model = tf.keras.Sequential([tf.keras.layers.Dense(1, input_shape=(1,))])\n",
    "  optimizer = tf.keras.optimizers.SGD()"
   ]
  },
  {
   "cell_type": "markdown",
   "metadata": {
    "id": "mYkAyPeYnlXk"
   },
   "source": [
    "Next, create the input dataset and call `tf.distribute.Strategy.experimental_distribute_dataset` to distribute the dataset based on the strategy."
   ]
  },
  {
   "cell_type": "code",
   "execution_count": 21,
   "metadata": {
    "execution": {
     "iopub.execute_input": "2022-12-14T02:47:59.348028Z",
     "iopub.status.busy": "2022-12-14T02:47:59.347799Z",
     "iopub.status.idle": "2022-12-14T02:47:59.365115Z",
     "shell.execute_reply": "2022-12-14T02:47:59.364276Z"
    },
    "id": "94BkvkLInkKd",
    "ExecuteTime": {
     "start_time": "2023-05-09T12:38:33.807080Z",
     "end_time": "2023-05-09T12:38:33.884604Z"
    }
   },
   "outputs": [
    {
     "name": "stderr",
     "output_type": "stream",
     "text": [
      "2023-05-09 13:38:33.814529: I tensorflow/core/common_runtime/executor.cc:1197] [/device:CPU:0] (DEBUG INFO) Executor start aborting (this does not indicate an error and you can ignore this message): INVALID_ARGUMENT: You must feed a value for placeholder tensor 'Placeholder/_1' with dtype float and shape [1]\n",
      "\t [[{{node Placeholder/_1}}]]\n",
      "2023-05-09 13:38:33.815787: W tensorflow/core/grappler/optimizers/data/auto_shard.cc:786] AUTO sharding policy will apply DATA sharding policy as it failed to apply FILE sharding policy because of the following reason: Found an unshardable source dataset: name: \"TensorDataset/_2\"\n",
      "op: \"TensorDataset\"\n",
      "input: \"Placeholder/_0\"\n",
      "input: \"Placeholder/_1\"\n",
      "attr {\n",
      "  key: \"Toutput_types\"\n",
      "  value {\n",
      "    list {\n",
      "      type: DT_FLOAT\n",
      "      type: DT_FLOAT\n",
      "    }\n",
      "  }\n",
      "}\n",
      "attr {\n",
      "  key: \"_cardinality\"\n",
      "  value {\n",
      "    i: 1\n",
      "  }\n",
      "}\n",
      "attr {\n",
      "  key: \"metadata\"\n",
      "  value {\n",
      "    s: \"\\n\\020TensorDataset:55\"\n",
      "  }\n",
      "}\n",
      "attr {\n",
      "  key: \"output_shapes\"\n",
      "  value {\n",
      "    list {\n",
      "      shape {\n",
      "        dim {\n",
      "          size: 1\n",
      "        }\n",
      "      }\n",
      "      shape {\n",
      "        dim {\n",
      "          size: 1\n",
      "        }\n",
      "      }\n",
      "    }\n",
      "  }\n",
      "}\n",
      "experimental_type {\n",
      "  type_id: TFT_PRODUCT\n",
      "  args {\n",
      "    type_id: TFT_DATASET\n",
      "    args {\n",
      "      type_id: TFT_PRODUCT\n",
      "      args {\n",
      "        type_id: TFT_TENSOR\n",
      "        args {\n",
      "          type_id: TFT_FLOAT\n",
      "        }\n",
      "      }\n",
      "      args {\n",
      "        type_id: TFT_TENSOR\n",
      "        args {\n",
      "          type_id: TFT_FLOAT\n",
      "        }\n",
      "      }\n",
      "    }\n",
      "  }\n",
      "}\n",
      "\n"
     ]
    }
   ],
   "source": [
    "dataset = tf.data.Dataset.from_tensors(([1.], [1.])).repeat(1000).batch(\n",
    "    global_batch_size)\n",
    "dist_dataset = mirrored_strategy.experimental_distribute_dataset(dataset)"
   ]
  },
  {
   "cell_type": "markdown",
   "metadata": {
    "id": "grzmTlSvn2j8"
   },
   "source": [
    "Then, define one step of the training. Use `tf.GradientTape` to compute gradients and optimizer to apply those gradients to update your model's variables. To distribute this training step, put it in a function `train_step` and pass it to `tf.distribute.Strategy.run` along with the dataset inputs you got from the `dist_dataset` created before:"
   ]
  },
  {
   "cell_type": "code",
   "execution_count": 22,
   "metadata": {
    "execution": {
     "iopub.execute_input": "2022-12-14T02:47:59.368584Z",
     "iopub.status.busy": "2022-12-14T02:47:59.368169Z",
     "iopub.status.idle": "2022-12-14T02:47:59.374025Z",
     "shell.execute_reply": "2022-12-14T02:47:59.373247Z"
    },
    "id": "NJxL5YrVniDe",
    "ExecuteTime": {
     "start_time": "2023-05-09T12:38:36.016383Z",
     "end_time": "2023-05-09T12:38:36.077815Z"
    }
   },
   "outputs": [],
   "source": [
    "loss_object = tf.keras.losses.BinaryCrossentropy(\n",
    "  from_logits=True,\n",
    "  reduction=tf.keras.losses.Reduction.NONE)\n",
    "\n",
    "def compute_loss(labels, predictions):\n",
    "  per_example_loss = loss_object(labels, predictions)\n",
    "  return tf.nn.compute_average_loss(per_example_loss, global_batch_size=global_batch_size)\n",
    "\n",
    "def train_step(inputs):\n",
    "  features, labels = inputs\n",
    "\n",
    "  with tf.GradientTape() as tape:\n",
    "    predictions = model(features, training=True)\n",
    "    loss = compute_loss(labels, predictions)\n",
    "\n",
    "  gradients = tape.gradient(loss, model.trainable_variables)\n",
    "  optimizer.apply_gradients(zip(gradients, model.trainable_variables))\n",
    "  return loss\n",
    "\n",
    "@tf.function\n",
    "def distributed_train_step(dist_inputs):\n",
    "  per_replica_losses = mirrored_strategy.run(train_step, args=(dist_inputs,))\n",
    "  return mirrored_strategy.reduce(tf.distribute.ReduceOp.SUM, per_replica_losses,\n",
    "                         axis=None)"
   ]
  },
  {
   "cell_type": "markdown",
   "metadata": {
    "id": "yRL5u_NLoTvq"
   },
   "source": [
    "A few other things to note in the code above:\n",
    "\n",
    "1. You used `tf.nn.compute_average_loss` to compute the loss. `tf.nn.compute_average_loss` sums the per example loss and divides the sum by the `global_batch_size`. This is important because later after the gradients are calculated on each replica, they are aggregated across the replicas by **summing** them.\n",
    "2. You also used the `tf.distribute.Strategy.reduce` API to aggregate the results returned by `tf.distribute.Strategy.run`. `tf.distribute.Strategy.run` returns results from each local replica in the strategy, and there are multiple ways to consume this result. You can `reduce` them to get an aggregated value. You can also do `tf.distribute.Strategy.experimental_local_results` to get the list of values contained in the result, one per local replica.\n",
    "3. When you call `apply_gradients` within a distribution strategy scope, its behavior is modified. Specifically, before applying gradients on each parallel instance during synchronous training, it performs a sum-over-all-replicas of the gradients.\n"
   ]
  },
  {
   "cell_type": "markdown",
   "metadata": {
    "id": "o9k_6-6vpQ-P"
   },
   "source": [
    "Finally, once you have defined the training step, you can iterate over `dist_dataset` and run the training in a loop:"
   ]
  },
  {
   "cell_type": "code",
   "execution_count": 23,
   "metadata": {
    "execution": {
     "iopub.execute_input": "2022-12-14T02:47:59.377511Z",
     "iopub.status.busy": "2022-12-14T02:47:59.377025Z",
     "iopub.status.idle": "2022-12-14T02:48:02.973478Z",
     "shell.execute_reply": "2022-12-14T02:48:02.972598Z"
    },
    "id": "Egq9eufToRf6",
    "ExecuteTime": {
     "start_time": "2023-05-09T12:38:37.732044Z",
     "end_time": "2023-05-09T12:38:39.992047Z"
    }
   },
   "outputs": [
    {
     "name": "stderr",
     "output_type": "stream",
     "text": [
      "2023-05-09 13:38:37.732314: I tensorflow/core/common_runtime/executor.cc:1197] [/device:CPU:0] (DEBUG INFO) Executor start aborting (this does not indicate an error and you can ignore this message): INVALID_ARGUMENT: You must feed a value for placeholder tensor 'Placeholder/_1' with dtype float and shape [1]\n",
      "\t [[{{node Placeholder/_1}}]]\n"
     ]
    },
    {
     "name": "stdout",
     "output_type": "stream",
     "text": [
      "tf.Tensor(0.7022619, shape=(), dtype=float32)\n",
      "tf.Tensor(0.69718355, shape=(), dtype=float32)\n",
      "tf.Tensor(0.6921558, shape=(), dtype=float32)\n",
      "tf.Tensor(0.6871782, shape=(), dtype=float32)\n",
      "tf.Tensor(0.6822502, shape=(), dtype=float32)\n",
      "tf.Tensor(0.67737144, shape=(), dtype=float32)\n",
      "tf.Tensor(0.67254126, shape=(), dtype=float32)\n",
      "tf.Tensor(0.66775924, shape=(), dtype=float32)\n",
      "tf.Tensor(0.66302496, shape=(), dtype=float32)\n",
      "tf.Tensor(0.65833783, shape=(), dtype=float32)\n",
      "tf.Tensor(0.65369743, shape=(), dtype=float32)\n",
      "tf.Tensor(0.64910316, shape=(), dtype=float32)\n",
      "tf.Tensor(0.6445547, shape=(), dtype=float32)\n",
      "tf.Tensor(0.6400515, shape=(), dtype=float32)\n",
      "tf.Tensor(0.63559306, shape=(), dtype=float32)\n",
      "tf.Tensor(0.6311789, shape=(), dtype=float32)\n",
      "tf.Tensor(0.6268087, shape=(), dtype=float32)\n",
      "tf.Tensor(0.6224818, shape=(), dtype=float32)\n",
      "tf.Tensor(0.6181979, shape=(), dtype=float32)\n",
      "tf.Tensor(0.6139565, shape=(), dtype=float32)\n",
      "tf.Tensor(0.6097571, shape=(), dtype=float32)\n",
      "tf.Tensor(0.60559934, shape=(), dtype=float32)\n",
      "tf.Tensor(0.6014826, shape=(), dtype=float32)\n",
      "tf.Tensor(0.5974066, shape=(), dtype=float32)\n",
      "tf.Tensor(0.5933709, shape=(), dtype=float32)\n",
      "tf.Tensor(0.589375, shape=(), dtype=float32)\n",
      "tf.Tensor(0.58541846, shape=(), dtype=float32)\n",
      "tf.Tensor(0.58150095, shape=(), dtype=float32)\n",
      "tf.Tensor(0.5776219, shape=(), dtype=float32)\n",
      "tf.Tensor(0.573781, shape=(), dtype=float32)\n",
      "tf.Tensor(0.5699779, shape=(), dtype=float32)\n",
      "tf.Tensor(0.56621194, shape=(), dtype=float32)\n",
      "tf.Tensor(0.56248295, shape=(), dtype=float32)\n",
      "tf.Tensor(0.5587905, shape=(), dtype=float32)\n",
      "tf.Tensor(0.55513406, shape=(), dtype=float32)\n",
      "tf.Tensor(0.5515134, shape=(), dtype=float32)\n",
      "tf.Tensor(0.5479279, shape=(), dtype=float32)\n",
      "tf.Tensor(0.5443774, shape=(), dtype=float32)\n",
      "tf.Tensor(0.54086137, shape=(), dtype=float32)\n",
      "tf.Tensor(0.5373795, shape=(), dtype=float32)\n",
      "tf.Tensor(0.5339314, shape=(), dtype=float32)\n",
      "tf.Tensor(0.5305167, shape=(), dtype=float32)\n",
      "tf.Tensor(0.5271349, shape=(), dtype=float32)\n",
      "tf.Tensor(0.5237859, shape=(), dtype=float32)\n",
      "tf.Tensor(0.5204691, shape=(), dtype=float32)\n",
      "tf.Tensor(0.5171842, shape=(), dtype=float32)\n",
      "tf.Tensor(0.5139309, shape=(), dtype=float32)\n",
      "tf.Tensor(0.5107088, shape=(), dtype=float32)\n",
      "tf.Tensor(0.50751776, shape=(), dtype=float32)\n",
      "tf.Tensor(0.504357, shape=(), dtype=float32)\n",
      "tf.Tensor(0.5012265, shape=(), dtype=float32)\n",
      "tf.Tensor(0.49812585, shape=(), dtype=float32)\n",
      "tf.Tensor(0.4950547, shape=(), dtype=float32)\n",
      "tf.Tensor(0.4920127, shape=(), dtype=float32)\n",
      "tf.Tensor(0.4889996, shape=(), dtype=float32)\n",
      "tf.Tensor(0.48601505, shape=(), dtype=float32)\n",
      "tf.Tensor(0.48305866, shape=(), dtype=float32)\n",
      "tf.Tensor(0.4801302, shape=(), dtype=float32)\n",
      "tf.Tensor(0.47722933, shape=(), dtype=float32)\n",
      "tf.Tensor(0.47435567, shape=(), dtype=float32)\n",
      "tf.Tensor(0.47150898, shape=(), dtype=float32)\n",
      "tf.Tensor(0.46868896, shape=(), dtype=float32)\n",
      "tf.Tensor(0.46589538, shape=(), dtype=float32)\n",
      "tf.Tensor(0.46312782, shape=(), dtype=float32)\n",
      "tf.Tensor(0.460386, shape=(), dtype=float32)\n",
      "tf.Tensor(0.45766973, shape=(), dtype=float32)\n",
      "tf.Tensor(0.45497867, shape=(), dtype=float32)\n",
      "tf.Tensor(0.45231247, shape=(), dtype=float32)\n",
      "tf.Tensor(0.449671, shape=(), dtype=float32)\n",
      "tf.Tensor(0.44705376, shape=(), dtype=float32)\n",
      "tf.Tensor(0.4444607, shape=(), dtype=float32)\n",
      "tf.Tensor(0.44189143, shape=(), dtype=float32)\n",
      "tf.Tensor(0.43934575, shape=(), dtype=float32)\n",
      "tf.Tensor(0.43682328, shape=(), dtype=float32)\n",
      "tf.Tensor(0.43432394, shape=(), dtype=float32)\n",
      "tf.Tensor(0.43184733, shape=(), dtype=float32)\n",
      "tf.Tensor(0.4293932, shape=(), dtype=float32)\n",
      "tf.Tensor(0.42696142, shape=(), dtype=float32)\n",
      "tf.Tensor(0.42455158, shape=(), dtype=float32)\n",
      "tf.Tensor(0.42216358, shape=(), dtype=float32)\n",
      "tf.Tensor(0.4197971, shape=(), dtype=float32)\n",
      "tf.Tensor(0.41745183, shape=(), dtype=float32)\n",
      "tf.Tensor(0.41512772, shape=(), dtype=float32)\n",
      "tf.Tensor(0.41282436, shape=(), dtype=float32)\n",
      "tf.Tensor(0.4105416, shape=(), dtype=float32)\n",
      "tf.Tensor(0.40827924, shape=(), dtype=float32)\n",
      "tf.Tensor(0.4060369, shape=(), dtype=float32)\n",
      "tf.Tensor(0.40381455, shape=(), dtype=float32)\n",
      "tf.Tensor(0.4016119, shape=(), dtype=float32)\n",
      "tf.Tensor(0.3994287, shape=(), dtype=float32)\n",
      "tf.Tensor(0.39726475, shape=(), dtype=float32)\n",
      "tf.Tensor(0.39511988, shape=(), dtype=float32)\n",
      "tf.Tensor(0.3929938, shape=(), dtype=float32)\n",
      "tf.Tensor(0.39088634, shape=(), dtype=float32)\n",
      "tf.Tensor(0.3887973, shape=(), dtype=float32)\n",
      "tf.Tensor(0.38672653, shape=(), dtype=float32)\n",
      "tf.Tensor(0.38467374, shape=(), dtype=float32)\n",
      "tf.Tensor(0.38263878, shape=(), dtype=float32)\n",
      "tf.Tensor(0.38062143, shape=(), dtype=float32)\n",
      "tf.Tensor(0.3786215, shape=(), dtype=float32)\n",
      "tf.Tensor(0.37663886, shape=(), dtype=float32)\n",
      "tf.Tensor(0.37467322, shape=(), dtype=float32)\n",
      "tf.Tensor(0.37272444, shape=(), dtype=float32)\n",
      "tf.Tensor(0.3707924, shape=(), dtype=float32)\n",
      "tf.Tensor(0.3688768, shape=(), dtype=float32)\n",
      "tf.Tensor(0.36697754, shape=(), dtype=float32)\n",
      "tf.Tensor(0.36509442, shape=(), dtype=float32)\n",
      "tf.Tensor(0.36322728, shape=(), dtype=float32)\n",
      "tf.Tensor(0.36137593, shape=(), dtype=float32)\n",
      "tf.Tensor(0.3595402, shape=(), dtype=float32)\n",
      "tf.Tensor(0.35771993, shape=(), dtype=float32)\n",
      "tf.Tensor(0.35591492, shape=(), dtype=float32)\n",
      "tf.Tensor(0.35412508, shape=(), dtype=float32)\n",
      "tf.Tensor(0.3523502, shape=(), dtype=float32)\n",
      "tf.Tensor(0.35059008, shape=(), dtype=float32)\n",
      "tf.Tensor(0.34884462, shape=(), dtype=float32)\n",
      "tf.Tensor(0.3471136, shape=(), dtype=float32)\n",
      "tf.Tensor(0.345397, shape=(), dtype=float32)\n",
      "tf.Tensor(0.34369454, shape=(), dtype=float32)\n",
      "tf.Tensor(0.3420061, shape=(), dtype=float32)\n",
      "tf.Tensor(0.34033152, shape=(), dtype=float32)\n",
      "tf.Tensor(0.3386707, shape=(), dtype=float32)\n",
      "tf.Tensor(0.33702347, shape=(), dtype=float32)\n",
      "tf.Tensor(0.3353896, shape=(), dtype=float32)\n",
      "tf.Tensor(0.3337691, shape=(), dtype=float32)\n",
      "tf.Tensor(0.33216175, shape=(), dtype=float32)\n",
      "tf.Tensor(0.33056742, shape=(), dtype=float32)\n",
      "tf.Tensor(0.32898596, shape=(), dtype=float32)\n",
      "tf.Tensor(0.32741725, shape=(), dtype=float32)\n",
      "tf.Tensor(0.32586113, shape=(), dtype=float32)\n",
      "tf.Tensor(0.3243175, shape=(), dtype=float32)\n",
      "tf.Tensor(0.3227862, shape=(), dtype=float32)\n",
      "tf.Tensor(0.32126713, shape=(), dtype=float32)\n",
      "tf.Tensor(0.31976017, shape=(), dtype=float32)\n",
      "tf.Tensor(0.31826517, shape=(), dtype=float32)\n",
      "tf.Tensor(0.31678203, shape=(), dtype=float32)\n",
      "tf.Tensor(0.31531057, shape=(), dtype=float32)\n",
      "tf.Tensor(0.3138507, shape=(), dtype=float32)\n",
      "tf.Tensor(0.31240234, shape=(), dtype=float32)\n",
      "tf.Tensor(0.31096533, shape=(), dtype=float32)\n",
      "tf.Tensor(0.3095396, shape=(), dtype=float32)\n",
      "tf.Tensor(0.3081249, shape=(), dtype=float32)\n",
      "tf.Tensor(0.30672133, shape=(), dtype=float32)\n",
      "tf.Tensor(0.30532858, shape=(), dtype=float32)\n",
      "tf.Tensor(0.3039466, shape=(), dtype=float32)\n",
      "tf.Tensor(0.30257532, shape=(), dtype=float32)\n",
      "tf.Tensor(0.30121467, shape=(), dtype=float32)\n",
      "tf.Tensor(0.2998644, shape=(), dtype=float32)\n",
      "tf.Tensor(0.29852447, shape=(), dtype=float32)\n",
      "tf.Tensor(0.29719487, shape=(), dtype=float32)\n",
      "tf.Tensor(0.29587537, shape=(), dtype=float32)\n",
      "tf.Tensor(0.2945659, shape=(), dtype=float32)\n",
      "tf.Tensor(0.2932664, shape=(), dtype=float32)\n",
      "tf.Tensor(0.29197675, shape=(), dtype=float32)\n",
      "tf.Tensor(0.29069683, shape=(), dtype=float32)\n",
      "tf.Tensor(0.28942654, shape=(), dtype=float32)\n",
      "tf.Tensor(0.2881658, shape=(), dtype=float32)\n",
      "tf.Tensor(0.28691456, shape=(), dtype=float32)\n",
      "tf.Tensor(0.28567263, shape=(), dtype=float32)\n",
      "tf.Tensor(0.28443995, shape=(), dtype=float32)\n",
      "tf.Tensor(0.2832165, shape=(), dtype=float32)\n",
      "tf.Tensor(0.2820021, shape=(), dtype=float32)\n",
      "tf.Tensor(0.28079674, shape=(), dtype=float32)\n",
      "tf.Tensor(0.27960017, shape=(), dtype=float32)\n",
      "tf.Tensor(0.27841246, shape=(), dtype=float32)\n",
      "tf.Tensor(0.2772336, shape=(), dtype=float32)\n",
      "tf.Tensor(0.27606323, shape=(), dtype=float32)\n",
      "tf.Tensor(0.2749015, shape=(), dtype=float32)\n",
      "tf.Tensor(0.27374816, shape=(), dtype=float32)\n",
      "tf.Tensor(0.2726033, shape=(), dtype=float32)\n",
      "tf.Tensor(0.27146673, shape=(), dtype=float32)\n",
      "tf.Tensor(0.2703384, shape=(), dtype=float32)\n",
      "tf.Tensor(0.26921818, shape=(), dtype=float32)\n",
      "tf.Tensor(0.268106, shape=(), dtype=float32)\n",
      "tf.Tensor(0.26700187, shape=(), dtype=float32)\n",
      "tf.Tensor(0.26590562, shape=(), dtype=float32)\n",
      "tf.Tensor(0.26481727, shape=(), dtype=float32)\n",
      "tf.Tensor(0.2637366, shape=(), dtype=float32)\n",
      "tf.Tensor(0.26266366, shape=(), dtype=float32)\n",
      "tf.Tensor(0.26159835, shape=(), dtype=float32)\n",
      "tf.Tensor(0.2605406, shape=(), dtype=float32)\n",
      "tf.Tensor(0.25949028, shape=(), dtype=float32)\n",
      "tf.Tensor(0.25844738, shape=(), dtype=float32)\n",
      "tf.Tensor(0.25741178, shape=(), dtype=float32)\n",
      "tf.Tensor(0.25638345, shape=(), dtype=float32)\n",
      "tf.Tensor(0.25536236, shape=(), dtype=float32)\n",
      "tf.Tensor(0.25434834, shape=(), dtype=float32)\n",
      "tf.Tensor(0.2533414, shape=(), dtype=float32)\n",
      "tf.Tensor(0.2523414, shape=(), dtype=float32)\n",
      "tf.Tensor(0.25134838, shape=(), dtype=float32)\n",
      "tf.Tensor(0.25036216, shape=(), dtype=float32)\n",
      "tf.Tensor(0.24938278, shape=(), dtype=float32)\n",
      "tf.Tensor(0.24841014, shape=(), dtype=float32)\n",
      "tf.Tensor(0.2474442, shape=(), dtype=float32)\n",
      "tf.Tensor(0.24648479, shape=(), dtype=float32)\n",
      "tf.Tensor(0.24553195, shape=(), dtype=float32)\n",
      "tf.Tensor(0.24458562, shape=(), dtype=float32)\n",
      "tf.Tensor(0.24364567, shape=(), dtype=float32)\n",
      "tf.Tensor(0.24271213, shape=(), dtype=float32)\n",
      "tf.Tensor(0.24178484, shape=(), dtype=float32)\n"
     ]
    }
   ],
   "source": [
    "for dist_inputs in dist_dataset:\n",
    "  print(distributed_train_step(dist_inputs))"
   ]
  },
  {
   "cell_type": "markdown",
   "metadata": {
    "id": "jK8eQXF_q1Zs"
   },
   "source": [
    "In the example above, you iterated over the `dist_dataset` to provide input to your training. You are also provided with the `tf.distribute.Strategy.make_experimental_numpy_dataset` to support NumPy inputs. You can use this API to create a dataset before calling `tf.distribute.Strategy.experimental_distribute_dataset`.\n",
    "\n",
    "Another way of iterating over your data is to explicitly use iterators. You may want to do this when you want to run for a given number of steps as opposed to iterating over the entire dataset. The above iteration would now be modified to first create an iterator and then explicitly call `next` on it to get the input data."
   ]
  },
  {
   "cell_type": "code",
   "execution_count": 24,
   "metadata": {
    "execution": {
     "iopub.execute_input": "2022-12-14T02:48:02.977402Z",
     "iopub.status.busy": "2022-12-14T02:48:02.976754Z",
     "iopub.status.idle": "2022-12-14T02:48:03.254816Z",
     "shell.execute_reply": "2022-12-14T02:48:03.253897Z"
    },
    "id": "e5BEvR0-LJAc",
    "ExecuteTime": {
     "start_time": "2023-05-09T12:38:39.992047Z",
     "end_time": "2023-05-09T12:38:40.159300Z"
    }
   },
   "outputs": [
    {
     "name": "stdout",
     "output_type": "stream",
     "text": [
      "tf.Tensor(0.24086384, shape=(), dtype=float32)\n",
      "tf.Tensor(0.23994903, shape=(), dtype=float32)\n",
      "tf.Tensor(0.23904033, shape=(), dtype=float32)\n",
      "tf.Tensor(0.23813775, shape=(), dtype=float32)\n",
      "tf.Tensor(0.23724115, shape=(), dtype=float32)\n",
      "tf.Tensor(0.23635054, shape=(), dtype=float32)\n",
      "tf.Tensor(0.23546587, shape=(), dtype=float32)\n",
      "tf.Tensor(0.23458703, shape=(), dtype=float32)\n",
      "tf.Tensor(0.23371401, shape=(), dtype=float32)\n",
      "tf.Tensor(0.23284669, shape=(), dtype=float32)\n"
     ]
    },
    {
     "name": "stderr",
     "output_type": "stream",
     "text": [
      "2023-05-09 13:38:39.992356: I tensorflow/core/common_runtime/executor.cc:1197] [/device:CPU:0] (DEBUG INFO) Executor start aborting (this does not indicate an error and you can ignore this message): INVALID_ARGUMENT: You must feed a value for placeholder tensor 'Placeholder/_0' with dtype float and shape [1]\n",
      "\t [[{{node Placeholder/_0}}]]\n"
     ]
    }
   ],
   "source": [
    "iterator = iter(dist_dataset)\n",
    "for _ in range(10):\n",
    "  print(distributed_train_step(next(iterator)))"
   ]
  },
  {
   "cell_type": "markdown",
   "metadata": {
    "id": "vDJO8mnypqBA"
   },
   "source": [
    "This covers the simplest case of using `tf.distribute.Strategy` API to distribute custom training loops."
   ]
  },
  {
   "cell_type": "markdown",
   "metadata": {
    "id": "BZjNwCt1qBdw"
   },
   "source": [
    "### What's supported now?\n",
    "\n",
    "| Training API         | `MirroredStrategy` | `TPUStrategy` | `MultiWorkerMirroredStrategy` | `ParameterServerStrategy` | `CentralStorageStrategy` |\n",
    "| :------------------- | :----------------- | :------------ | :---------------------------- | :------------------------ | :----------------------- |\n",
    "| Custom training loop | Supported          | Supported     | Supported                     | Experimental support      | Experimental support     |\n",
    "\n",
    "### Examples and tutorials\n",
    "\n",
    "Here are some examples for using distribution strategies with custom training loops:\n",
    "\n",
    "1. [Tutorial](../tutorials/distribute/custom_training.ipynb): Training with a custom training loop and `MirroredStrategy`.\n",
    "2. [Tutorial](../tutorials/distribute/multi_worker_with_ctl.ipynb): Training with a custom training loop and `MultiWorkerMirroredStrategy`.\n",
    "3. [Guide](tpu.ipynb): Contains an example of a custom training loop with `TPUStrategy`.\n",
    "4. [Tutorial](../tutorials/distribute/parameter_server_training.ipynb): Parameter server training with a custom training loop and `ParameterServerStrategy`.\n",
    "5. TensorFlow Model Garden [repository](https://github.com/tensorflow/models/tree/master/official) containing collections of state-of-the-art models implemented using various strategies.\n"
   ]
  },
  {
   "cell_type": "markdown",
   "metadata": {
    "id": "Xk0JdsTHyUnE"
   },
   "source": [
    "## Other topics\n",
    "\n",
    "This section covers some topics that are relevant to multiple use cases."
   ]
  },
  {
   "cell_type": "markdown",
   "metadata": {
    "id": "cP6BUIBtudRk"
   },
   "source": [
    "<a name=\"TF_CONFIG\"></a>\n",
    "### Setting up the TF\\_CONFIG environment variable\n",
    "\n",
    "For multi-worker training, as mentioned before, you need to set up the `'TF_CONFIG'` environment variable for each binary running in your cluster. The `'TF_CONFIG'` environment variable is a JSON string which specifies what tasks constitute a cluster, their addresses and each task's role in the cluster. The [`tensorflow/ecosystem`](https://github.com/tensorflow/ecosystem) repo provides a Kubernetes template, which sets up `'TF_CONFIG'` for your training tasks.\n",
    "\n",
    "There are two components of `'TF_CONFIG'`: a cluster and a task.\n",
    "\n",
    "- A cluster provides information about the training cluster, which is a dict consisting of different types of jobs such as workers. In multi-worker training, there is usually one worker that takes on a little more responsibility like saving checkpoint and writing summary file for TensorBoard in addition to what a regular worker does. Such worker is referred to as the \"chief\" worker, and it is customary that the worker with index `0` is appointed as the chief worker (in fact this is how `tf.distribute.Strategy` is implemented).\n",
    "- A task on the other hand provides information about the current task. The first component cluster is the same for all workers, and the second component task is different on each worker and specifies the type and index of that worker.\n",
    "\n",
    "One example of `'TF_CONFIG'` is:\n",
    "\n",
    "```python\n",
    "os.environ[\"TF_CONFIG\"] = json.dumps({\n",
    "    \"cluster\": {\n",
    "        \"worker\": [\"host1:port\", \"host2:port\", \"host3:port\"],\n",
    "        \"ps\": [\"host4:port\", \"host5:port\"]\n",
    "    },\n",
    "   \"task\": {\"type\": \"worker\", \"index\": 1}\n",
    "})\n",
    "```\n"
   ]
  },
  {
   "cell_type": "markdown",
   "metadata": {
    "id": "fezd3aF8wj9r"
   },
   "source": [
    "This `'TF_CONFIG'` specifies that there are three workers and two `\"ps\"` tasks in the `\"cluster\"` along with their hosts and ports. The `\"task\"` part specifies the role of the current task in the `\"cluster\"`—worker `1` (the second worker). Valid roles in a cluster are `\"chief\"`, `\"worker\"`, `\"ps\"`, and `\"evaluator\"`. There should be no `\"ps\"` job except when using `tf.distribute.experimental.ParameterServerStrategy`."
   ]
  },
  {
   "cell_type": "markdown",
   "metadata": {
    "id": "GXIbqSW-sFVg"
   },
   "source": [
    "## What's next?\n",
    "\n",
    "`tf.distribute.Strategy` is actively under development. Try it out and provide your feedback using [GitHub issues](https://github.com/tensorflow/tensorflow/issues/new)."
   ]
  },
  {
   "cell_type": "code",
   "execution_count": null,
   "outputs": [],
   "source": [],
   "metadata": {
    "collapsed": false
   }
  }
 ],
 "metadata": {
  "colab": {
   "collapsed_sections": [
    "Tce3stUlHN0L"
   ],
   "name": "distributed_training.ipynb",
   "toc_visible": true
  },
  "kernelspec": {
   "name": "python3",
   "language": "python",
   "display_name": "Python 3 (ipykernel)"
  },
  "language_info": {
   "codemirror_mode": {
    "name": "ipython",
    "version": 3
   },
   "file_extension": ".py",
   "mimetype": "text/x-python",
   "name": "python",
   "nbconvert_exporter": "python",
   "pygments_lexer": "ipython3",
   "version": "3.9.16"
  }
 },
 "nbformat": 4,
 "nbformat_minor": 0
}
