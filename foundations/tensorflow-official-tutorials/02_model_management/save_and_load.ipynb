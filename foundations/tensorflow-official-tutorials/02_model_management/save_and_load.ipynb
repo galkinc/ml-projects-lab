{
 "cells": [
  {
   "cell_type": "markdown",
   "metadata": {
    "id": "g_nWetWWd_ns"
   },
   "source": [
    "##### Copyright 2019 The TensorFlow Authors."
   ]
  },
  {
   "cell_type": "code",
   "execution_count": 1,
   "metadata": {
    "cellView": "form",
    "execution": {
     "iopub.execute_input": "2022-12-14T07:12:13.502081Z",
     "iopub.status.busy": "2022-12-14T07:12:13.501626Z",
     "iopub.status.idle": "2022-12-14T07:12:13.505826Z",
     "shell.execute_reply": "2022-12-14T07:12:13.505164Z"
    },
    "id": "2pHVBk_seED1"
   },
   "outputs": [],
   "source": [
    "#@title Licensed under the Apache License, Version 2.0 (the \"License\");\n",
    "# you may not use this file except in compliance with the License.\n",
    "# You may obtain a copy of the License at\n",
    "#\n",
    "# https://www.apache.org/licenses/LICENSE-2.0\n",
    "#\n",
    "# Unless required by applicable law or agreed to in writing, software\n",
    "# distributed under the License is distributed on an \"AS IS\" BASIS,\n",
    "# WITHOUT WARRANTIES OR CONDITIONS OF ANY KIND, either express or implied.\n",
    "# See the License for the specific language governing permissions and\n",
    "# limitations under the License."
   ]
  },
  {
   "cell_type": "code",
   "execution_count": 2,
   "metadata": {
    "cellView": "form",
    "execution": {
     "iopub.execute_input": "2022-12-14T07:12:13.508970Z",
     "iopub.status.busy": "2022-12-14T07:12:13.508504Z",
     "iopub.status.idle": "2022-12-14T07:12:13.511769Z",
     "shell.execute_reply": "2022-12-14T07:12:13.511249Z"
    },
    "id": "N_fMsQ-N8I7j"
   },
   "outputs": [],
   "source": [
    "#@title MIT License\n",
    "#\n",
    "# Copyright (c) 2017 François Chollet\n",
    "#\n",
    "# Permission is hereby granted, free of charge, to any person obtaining a\n",
    "# copy of this software and associated documentation files (the \"Software\"),\n",
    "# to deal in the Software without restriction, including without limitation\n",
    "# the rights to use, copy, modify, merge, publish, distribute, sublicense,\n",
    "# and/or sell copies of the Software, and to permit persons to whom the\n",
    "# Software is furnished to do so, subject to the following conditions:\n",
    "#\n",
    "# The above copyright notice and this permission notice shall be included in\n",
    "# all copies or substantial portions of the Software.\n",
    "#\n",
    "# THE SOFTWARE IS PROVIDED \"AS IS\", WITHOUT WARRANTY OF ANY KIND, EXPRESS OR\n",
    "# IMPLIED, INCLUDING BUT NOT LIMITED TO THE WARRANTIES OF MERCHANTABILITY,\n",
    "# FITNESS FOR A PARTICULAR PURPOSE AND NONINFRINGEMENT. IN NO EVENT SHALL\n",
    "# THE AUTHORS OR COPYRIGHT HOLDERS BE LIABLE FOR ANY CLAIM, DAMAGES OR OTHER\n",
    "# LIABILITY, WHETHER IN AN ACTION OF CONTRACT, TORT OR OTHERWISE, ARISING\n",
    "# FROM, OUT OF OR IN CONNECTION WITH THE SOFTWARE OR THE USE OR OTHER\n",
    "# DEALINGS IN THE SOFTWARE."
   ]
  },
  {
   "cell_type": "markdown",
   "metadata": {
    "id": "pZJ3uY9O17VN"
   },
   "source": [
    "# Save and load models"
   ]
  },
  {
   "cell_type": "markdown",
   "metadata": {
    "id": "M4Ata7_wMul1"
   },
   "source": [
    "<table class=\"tfo-notebook-buttons\" align=\"left\">\n",
    "  <td>\n",
    "    <a target=\"_blank\" href=\"https://www.tensorflow.org/tutorials/keras/save_and_load\"><img src=\"https://www.tensorflow.org/images/tf_logo_32px.png\" />View on TensorFlow.org</a>\n",
    "  </td>\n",
    "  <td>\n",
    "    <a target=\"_blank\" href=\"https://colab.research.google.com/github/tensorflow/docs/blob/master/site/en/tutorials/keras/save_and_load.ipynb\"><img src=\"https://www.tensorflow.org/images/colab_logo_32px.png\" />Run in Google Colab</a>\n",
    "  </td>\n",
    "  <td>\n",
    "    <a target=\"_blank\" href=\"https://github.com/tensorflow/docs/blob/master/site/en/tutorials/keras/save_and_load.ipynb\"><img src=\"https://www.tensorflow.org/images/GitHub-Mark-32px.png\" />View source on GitHub</a>\n",
    "  </td>\n",
    "  <td>\n",
    "    <a href=\"https://storage.googleapis.com/tensorflow_docs/docs/site/en/tutorials/keras/save_and_load.ipynb\"><img src=\"https://www.tensorflow.org/images/download_logo_32px.png\" />Download notebook</a>\n",
    "  </td>\n",
    "</table>"
   ]
  },
  {
   "cell_type": "markdown",
   "metadata": {
    "id": "mBdde4YJeJKF"
   },
   "source": [
    "Model progress can be saved during and after training. This means a model can resume where it left off and avoid long training times. Saving also means you can share your model and others can recreate your work. When publishing research models and techniques, most machine learning practitioners share:\n",
    "\n",
    "* code to create the model, and\n",
    "* the trained weights, or parameters, for the model\n",
    "\n",
    "Sharing this data helps others understand how the model works and try it themselves with new data.\n",
    "\n",
    "Caution: TensorFlow models are code and it is important to be careful with untrusted code. See [Using TensorFlow Securely](https://github.com/tensorflow/tensorflow/blob/master/SECURITY.md) for details.\n",
    "\n",
    "### Options\n",
    "\n",
    "There are different ways to save TensorFlow models depending on the API you're using. This guide uses [tf.keras](https://www.tensorflow.org/guide/keras)—a high-level API to build and train models in TensorFlow. For other approaches, refer to the [Using the SavedModel format guide](../../guide/saved_model.ipynb) and the [Save and load Keras models guide](https://www.tensorflow.org/guide/keras/save_and_serialize)."
   ]
  },
  {
   "cell_type": "markdown",
   "metadata": {
    "id": "xCUREq7WXgvg"
   },
   "source": [
    "## Setup\n",
    "\n",
    "### Installs and imports"
   ]
  },
  {
   "cell_type": "markdown",
   "metadata": {
    "id": "7l0MiTOrXtNv"
   },
   "source": [
    "Install and import TensorFlow and dependencies:"
   ]
  },
  {
   "cell_type": "code",
   "execution_count": 1,
   "metadata": {
    "execution": {
     "iopub.execute_input": "2022-12-14T07:12:13.515373Z",
     "iopub.status.busy": "2022-12-14T07:12:13.514835Z",
     "iopub.status.idle": "2022-12-14T07:12:15.032639Z",
     "shell.execute_reply": "2022-12-14T07:12:15.031847Z"
    },
    "id": "RzIOVSdnMYyO",
    "ExecuteTime": {
     "start_time": "2023-05-08T09:28:49.665423Z",
     "end_time": "2023-05-08T09:28:51.244213Z"
    }
   },
   "outputs": [
    {
     "name": "stdout",
     "output_type": "stream",
     "text": [
      "Requirement already satisfied: pyyaml in /home/galkinc/miniconda3/envs/tf/lib/python3.9/site-packages (6.0)\r\n",
      "Requirement already satisfied: h5py in /home/galkinc/miniconda3/envs/tf/lib/python3.9/site-packages (3.8.0)\r\n",
      "Requirement already satisfied: numpy>=1.14.5 in /home/galkinc/miniconda3/envs/tf/lib/python3.9/site-packages (from h5py) (1.23.5)\r\n"
     ]
    }
   ],
   "source": [
    "!pip install pyyaml h5py  # Required to save models in HDF5 format"
   ]
  },
  {
   "cell_type": "code",
   "execution_count": 2,
   "metadata": {
    "execution": {
     "iopub.execute_input": "2022-12-14T07:12:15.037484Z",
     "iopub.status.busy": "2022-12-14T07:12:15.036703Z",
     "iopub.status.idle": "2022-12-14T07:12:16.986786Z",
     "shell.execute_reply": "2022-12-14T07:12:16.986057Z"
    },
    "id": "7Nm7Tyb-gRt-",
    "ExecuteTime": {
     "start_time": "2023-05-08T09:29:00.427790Z",
     "end_time": "2023-05-08T09:29:03.525316Z"
    }
   },
   "outputs": [
    {
     "name": "stderr",
     "output_type": "stream",
     "text": [
      "2023-05-08 10:29:01.018211: I tensorflow/core/platform/cpu_feature_guard.cc:182] This TensorFlow binary is optimized to use available CPU instructions in performance-critical operations.\n",
      "To enable the following instructions: AVX2 FMA, in other operations, rebuild TensorFlow with the appropriate compiler flags.\n",
      "2023-05-08 10:29:02.069286: W tensorflow/compiler/tf2tensorrt/utils/py_utils.cc:38] TF-TRT Warning: Could not find TensorRT\n"
     ]
    },
    {
     "name": "stdout",
     "output_type": "stream",
     "text": [
      "2.12.0\n"
     ]
    }
   ],
   "source": [
    "import os\n",
    "\n",
    "import tensorflow as tf\n",
    "from tensorflow import keras\n",
    "\n",
    "print(tf.version.VERSION)"
   ]
  },
  {
   "cell_type": "markdown",
   "metadata": {
    "id": "SbGsznErXWt6"
   },
   "source": [
    "### Get an example dataset\n",
    "\n",
    "To demonstrate how to save and load weights, you'll use the [MNIST dataset](http://yann.lecun.com/exdb/mnist/). To speed up these runs, use the first 1000 examples:"
   ]
  },
  {
   "cell_type": "code",
   "execution_count": 3,
   "metadata": {
    "execution": {
     "iopub.execute_input": "2022-12-14T07:12:16.990722Z",
     "iopub.status.busy": "2022-12-14T07:12:16.990047Z",
     "iopub.status.idle": "2022-12-14T07:12:17.264265Z",
     "shell.execute_reply": "2022-12-14T07:12:17.263374Z"
    },
    "id": "9rGfFwE9XVwz",
    "ExecuteTime": {
     "start_time": "2023-05-08T09:29:22.794842Z",
     "end_time": "2023-05-08T09:29:28.654839Z"
    }
   },
   "outputs": [
    {
     "name": "stdout",
     "output_type": "stream",
     "text": [
      "Downloading data from https://storage.googleapis.com/tensorflow/tf-keras-datasets/mnist.npz\n",
      "11490434/11490434 [==============================] - 5s 0us/step\n"
     ]
    }
   ],
   "source": [
    "(train_images, train_labels), (test_images, test_labels) = tf.keras.datasets.mnist.load_data()\n",
    "\n",
    "train_labels = train_labels[:1000]\n",
    "test_labels = test_labels[:1000]\n",
    "\n",
    "train_images = train_images[:1000].reshape(-1, 28 * 28) / 255.0\n",
    "test_images = test_images[:1000].reshape(-1, 28 * 28) / 255.0"
   ]
  },
  {
   "cell_type": "code",
   "execution_count": 9,
   "outputs": [
    {
     "data": {
      "text/plain": "(10, 10, 784)"
     },
     "execution_count": 9,
     "metadata": {},
     "output_type": "execute_result"
    }
   ],
   "source": [
    "import numpy as np\n",
    "len(np.unique(train_labels)), len(np.unique(test_labels)), 28*28"
   ],
   "metadata": {
    "collapsed": false,
    "ExecuteTime": {
     "start_time": "2023-05-08T09:32:19.715105Z",
     "end_time": "2023-05-08T09:32:19.721103Z"
    }
   }
  },
  {
   "cell_type": "markdown",
   "metadata": {
    "id": "anG3iVoXyZGI"
   },
   "source": [
    "### Define a model"
   ]
  },
  {
   "cell_type": "markdown",
   "metadata": {
    "id": "wynsOBfby0Pa"
   },
   "source": [
    "Start by building a simple sequential model:"
   ]
  },
  {
   "cell_type": "code",
   "execution_count": 10,
   "metadata": {
    "execution": {
     "iopub.execute_input": "2022-12-14T07:12:17.269192Z",
     "iopub.status.busy": "2022-12-14T07:12:17.268465Z",
     "iopub.status.idle": "2022-12-14T07:12:20.716099Z",
     "shell.execute_reply": "2022-12-14T07:12:20.715445Z"
    },
    "id": "0HZbJIjxyX1S",
    "ExecuteTime": {
     "start_time": "2023-05-08T09:34:20.198604Z",
     "end_time": "2023-05-08T09:34:22.231910Z"
    }
   },
   "outputs": [
    {
     "name": "stderr",
     "output_type": "stream",
     "text": [
      "2023-05-08 10:34:20.382068: I tensorflow/compiler/xla/stream_executor/cuda/cuda_gpu_executor.cc:982] could not open file to read NUMA node: /sys/bus/pci/devices/0000:01:00.0/numa_node\n",
      "Your kernel may have been built without NUMA support.\n"
     ]
    },
    {
     "name": "stdout",
     "output_type": "stream",
     "text": [
      "Model: \"sequential\"\n",
      "_________________________________________________________________\n",
      " Layer (type)                Output Shape              Param #   \n",
      "=================================================================\n",
      " dense (Dense)               (None, 512)               401920    \n",
      "                                                                 \n",
      " dropout (Dropout)           (None, 512)               0         \n",
      "                                                                 \n",
      " dense_1 (Dense)             (None, 10)                5130      \n",
      "                                                                 \n",
      "=================================================================\n",
      "Total params: 407,050\n",
      "Trainable params: 407,050\n",
      "Non-trainable params: 0\n",
      "_________________________________________________________________\n",
      "CPU times: user 480 ms, sys: 342 ms, total: 822 ms\n",
      "Wall time: 2.03 s\n"
     ]
    },
    {
     "name": "stderr",
     "output_type": "stream",
     "text": [
      "2023-05-08 10:34:20.512542: I tensorflow/compiler/xla/stream_executor/cuda/cuda_gpu_executor.cc:982] could not open file to read NUMA node: /sys/bus/pci/devices/0000:01:00.0/numa_node\n",
      "Your kernel may have been built without NUMA support.\n",
      "2023-05-08 10:34:20.512593: I tensorflow/compiler/xla/stream_executor/cuda/cuda_gpu_executor.cc:982] could not open file to read NUMA node: /sys/bus/pci/devices/0000:01:00.0/numa_node\n",
      "Your kernel may have been built without NUMA support.\n",
      "2023-05-08 10:34:20.515283: I tensorflow/compiler/xla/stream_executor/cuda/cuda_gpu_executor.cc:982] could not open file to read NUMA node: /sys/bus/pci/devices/0000:01:00.0/numa_node\n",
      "Your kernel may have been built without NUMA support.\n",
      "2023-05-08 10:34:20.515342: I tensorflow/compiler/xla/stream_executor/cuda/cuda_gpu_executor.cc:982] could not open file to read NUMA node: /sys/bus/pci/devices/0000:01:00.0/numa_node\n",
      "Your kernel may have been built without NUMA support.\n",
      "2023-05-08 10:34:20.515368: I tensorflow/compiler/xla/stream_executor/cuda/cuda_gpu_executor.cc:982] could not open file to read NUMA node: /sys/bus/pci/devices/0000:01:00.0/numa_node\n",
      "Your kernel may have been built without NUMA support.\n",
      "2023-05-08 10:34:21.881991: I tensorflow/compiler/xla/stream_executor/cuda/cuda_gpu_executor.cc:982] could not open file to read NUMA node: /sys/bus/pci/devices/0000:01:00.0/numa_node\n",
      "Your kernel may have been built without NUMA support.\n",
      "2023-05-08 10:34:21.882129: I tensorflow/compiler/xla/stream_executor/cuda/cuda_gpu_executor.cc:982] could not open file to read NUMA node: /sys/bus/pci/devices/0000:01:00.0/numa_node\n",
      "Your kernel may have been built without NUMA support.\n",
      "2023-05-08 10:34:21.882138: I tensorflow/core/common_runtime/gpu/gpu_device.cc:1722] Could not identify NUMA node of platform GPU id 0, defaulting to 0.  Your kernel may not have been built with NUMA support.\n",
      "2023-05-08 10:34:21.882173: I tensorflow/compiler/xla/stream_executor/cuda/cuda_gpu_executor.cc:982] could not open file to read NUMA node: /sys/bus/pci/devices/0000:01:00.0/numa_node\n",
      "Your kernel may have been built without NUMA support.\n",
      "2023-05-08 10:34:21.882198: I tensorflow/core/common_runtime/gpu/gpu_device.cc:1635] Created device /job:localhost/replica:0/task:0/device:GPU:0 with 5897 MB memory:  -> device: 0, name: NVIDIA GeForce RTX 2070 with Max-Q Design, pci bus id: 0000:01:00.0, compute capability: 7.5\n"
     ]
    }
   ],
   "source": [
    "%%time\n",
    "# Define a simple sequential model\n",
    "def create_model():\n",
    "  model = tf.keras.Sequential([\n",
    "    keras.layers.Dense(512, activation='relu', input_shape=(784,)),\n",
    "    keras.layers.Dropout(0.2),\n",
    "    keras.layers.Dense(10)\n",
    "  ])\n",
    "\n",
    "  model.compile(optimizer='adam',\n",
    "                loss=tf.keras.losses.SparseCategoricalCrossentropy(from_logits=True),\n",
    "                metrics=[tf.keras.metrics.SparseCategoricalAccuracy()])\n",
    "\n",
    "  return model\n",
    "\n",
    "# Create a basic model instance\n",
    "model = create_model()\n",
    "\n",
    "# Display the model's architecture\n",
    "model.summary()"
   ]
  },
  {
   "cell_type": "markdown",
   "metadata": {
    "id": "soDE0W_KH8rG"
   },
   "source": [
    "## Save checkpoints during training"
   ]
  },
  {
   "cell_type": "markdown",
   "metadata": {
    "id": "mRyd5qQQIXZm"
   },
   "source": [
    "You can use a trained model without having to retrain it, or pick-up training where you left off in case the training process was interrupted. The `tf.keras.callbacks.ModelCheckpoint` callback allows you to continually save the model both *during* and at *the end* of training.\n",
    "\n",
    "### Checkpoint callback usage\n",
    "\n",
    "Create a `tf.keras.callbacks.ModelCheckpoint` callback that saves weights only during training:"
   ]
  },
  {
   "cell_type": "code",
   "execution_count": 12,
   "metadata": {
    "execution": {
     "iopub.execute_input": "2022-12-14T07:12:20.723307Z",
     "iopub.status.busy": "2022-12-14T07:12:20.722756Z",
     "iopub.status.idle": "2022-12-14T07:12:24.084746Z",
     "shell.execute_reply": "2022-12-14T07:12:24.084039Z"
    },
    "id": "IFPuhwntH8VH",
    "ExecuteTime": {
     "start_time": "2023-05-08T09:41:37.359618Z",
     "end_time": "2023-05-08T09:41:40.945335Z"
    }
   },
   "outputs": [
    {
     "name": "stdout",
     "output_type": "stream",
     "text": [
      "Epoch 1/10\n",
      "30/32 [===========================>..] - ETA: 0s - loss: 0.0315 - sparse_categorical_accuracy: 1.0000\n",
      "Epoch 1: saving model to training_1/cp.ckpt\n",
      "32/32 [==============================] - 0s 13ms/step - loss: 0.0319 - sparse_categorical_accuracy: 1.0000 - val_loss: 0.4068 - val_sparse_categorical_accuracy: 0.8730\n",
      "Epoch 2/10\n",
      "26/32 [=======================>......] - ETA: 0s - loss: 0.0241 - sparse_categorical_accuracy: 1.0000\n",
      "Epoch 2: saving model to training_1/cp.ckpt\n",
      "32/32 [==============================] - 0s 11ms/step - loss: 0.0245 - sparse_categorical_accuracy: 1.0000 - val_loss: 0.3882 - val_sparse_categorical_accuracy: 0.8790\n",
      "Epoch 3/10\n",
      "24/32 [=====================>........] - ETA: 0s - loss: 0.0207 - sparse_categorical_accuracy: 1.0000\n",
      "Epoch 3: saving model to training_1/cp.ckpt\n",
      "32/32 [==============================] - 0s 13ms/step - loss: 0.0211 - sparse_categorical_accuracy: 1.0000 - val_loss: 0.4036 - val_sparse_categorical_accuracy: 0.8750\n",
      "Epoch 4/10\n",
      "26/32 [=======================>......] - ETA: 0s - loss: 0.0161 - sparse_categorical_accuracy: 1.0000\n",
      "Epoch 4: saving model to training_1/cp.ckpt\n",
      "32/32 [==============================] - 0s 11ms/step - loss: 0.0165 - sparse_categorical_accuracy: 1.0000 - val_loss: 0.4153 - val_sparse_categorical_accuracy: 0.8730\n",
      "Epoch 5/10\n",
      "26/32 [=======================>......] - ETA: 0s - loss: 0.0159 - sparse_categorical_accuracy: 1.0000\n",
      "Epoch 5: saving model to training_1/cp.ckpt\n",
      "32/32 [==============================] - 0s 10ms/step - loss: 0.0160 - sparse_categorical_accuracy: 1.0000 - val_loss: 0.4115 - val_sparse_categorical_accuracy: 0.8740\n",
      "Epoch 6/10\n",
      "25/32 [======================>.......] - ETA: 0s - loss: 0.0127 - sparse_categorical_accuracy: 1.0000\n",
      "Epoch 6: saving model to training_1/cp.ckpt\n",
      "32/32 [==============================] - 0s 11ms/step - loss: 0.0132 - sparse_categorical_accuracy: 1.0000 - val_loss: 0.4081 - val_sparse_categorical_accuracy: 0.8760\n",
      "Epoch 7/10\n",
      "26/32 [=======================>......] - ETA: 0s - loss: 0.0121 - sparse_categorical_accuracy: 1.0000\n",
      "Epoch 7: saving model to training_1/cp.ckpt\n",
      "32/32 [==============================] - 0s 11ms/step - loss: 0.0115 - sparse_categorical_accuracy: 1.0000 - val_loss: 0.4179 - val_sparse_categorical_accuracy: 0.8740\n",
      "Epoch 8/10\n",
      "24/32 [=====================>........] - ETA: 0s - loss: 0.0122 - sparse_categorical_accuracy: 1.0000\n",
      "Epoch 8: saving model to training_1/cp.ckpt\n",
      "32/32 [==============================] - 0s 11ms/step - loss: 0.0119 - sparse_categorical_accuracy: 1.0000 - val_loss: 0.4146 - val_sparse_categorical_accuracy: 0.8750\n",
      "Epoch 9/10\n",
      "24/32 [=====================>........] - ETA: 0s - loss: 0.0108 - sparse_categorical_accuracy: 1.0000\n",
      "Epoch 9: saving model to training_1/cp.ckpt\n",
      "32/32 [==============================] - 0s 11ms/step - loss: 0.0103 - sparse_categorical_accuracy: 1.0000 - val_loss: 0.4114 - val_sparse_categorical_accuracy: 0.8750\n",
      "Epoch 10/10\n",
      "26/32 [=======================>......] - ETA: 0s - loss: 0.0090 - sparse_categorical_accuracy: 0.9988\n",
      "Epoch 10: saving model to training_1/cp.ckpt\n",
      "32/32 [==============================] - 0s 10ms/step - loss: 0.0091 - sparse_categorical_accuracy: 0.9990 - val_loss: 0.4331 - val_sparse_categorical_accuracy: 0.8770\n",
      "CPU times: user 2.43 s, sys: 998 ms, total: 3.43 s\n",
      "Wall time: 3.58 s\n"
     ]
    },
    {
     "data": {
      "text/plain": "<keras.callbacks.History at 0x7f5297138100>"
     },
     "execution_count": 12,
     "metadata": {},
     "output_type": "execute_result"
    }
   ],
   "source": [
    "%%time\n",
    "checkpoint_path = \"training_1/cp.ckpt\"\n",
    "checkpoint_dir = os.path.dirname(checkpoint_path)\n",
    "\n",
    "# Create a callback that saves the model's weights\n",
    "cp_callback = tf.keras.callbacks.ModelCheckpoint(filepath=checkpoint_path,\n",
    "                                                 save_weights_only=True,\n",
    "                                                 verbose=1)\n",
    "\n",
    "# Train the model with the new callback\n",
    "model.fit(train_images, \n",
    "          train_labels,  \n",
    "          epochs=10,\n",
    "          validation_data=(test_images, test_labels),\n",
    "          callbacks=[cp_callback])  # Pass callback to training\n",
    "\n",
    "# This may generate warnings related to saving the state of the optimizer.\n",
    "# These warnings (and similar warnings throughout this notebook)\n",
    "# are in place to discourage outdated usage, and can be ignored."
   ]
  },
  {
   "cell_type": "markdown",
   "metadata": {
    "id": "rlM-sgyJO084"
   },
   "source": [
    "This creates a single collection of TensorFlow checkpoint files that are updated at the end of each epoch:"
   ]
  },
  {
   "cell_type": "code",
   "execution_count": 13,
   "metadata": {
    "execution": {
     "iopub.execute_input": "2022-12-14T07:12:24.088539Z",
     "iopub.status.busy": "2022-12-14T07:12:24.088045Z",
     "iopub.status.idle": "2022-12-14T07:12:24.092476Z",
     "shell.execute_reply": "2022-12-14T07:12:24.091922Z"
    },
    "id": "gXG5FVKFOVQ3",
    "ExecuteTime": {
     "start_time": "2023-05-08T09:41:49.299813Z",
     "end_time": "2023-05-08T09:41:49.312834Z"
    }
   },
   "outputs": [
    {
     "data": {
      "text/plain": "['checkpoint', 'cp.ckpt.data-00000-of-00001', 'cp.ckpt.index']"
     },
     "execution_count": 13,
     "metadata": {},
     "output_type": "execute_result"
    }
   ],
   "source": [
    "os.listdir(checkpoint_dir)"
   ]
  },
  {
   "cell_type": "markdown",
   "metadata": {
    "id": "wlRN_f56Pqa9"
   },
   "source": [
    "As long as two models share the same architecture you can share weights between them. So, when restoring a model from weights-only, create a model with the same architecture as the original model and then set its weights. \n",
    "\n",
    "Now rebuild a fresh, untrained model and evaluate it on the test set. An untrained model will perform at chance levels (~10% accuracy):"
   ]
  },
  {
   "cell_type": "code",
   "execution_count": 14,
   "metadata": {
    "execution": {
     "iopub.execute_input": "2022-12-14T07:12:24.095907Z",
     "iopub.status.busy": "2022-12-14T07:12:24.095386Z",
     "iopub.status.idle": "2022-12-14T07:12:24.320087Z",
     "shell.execute_reply": "2022-12-14T07:12:24.319375Z"
    },
    "id": "Fp5gbuiaPqCT",
    "ExecuteTime": {
     "start_time": "2023-05-08T09:56:21.349279Z",
     "end_time": "2023-05-08T09:56:21.587237Z"
    }
   },
   "outputs": [
    {
     "name": "stdout",
     "output_type": "stream",
     "text": [
      "32/32 - 0s - loss: 2.3599 - sparse_categorical_accuracy: 0.1040 - 176ms/epoch - 5ms/step\n",
      "Untrained model, accuracy: 10.40%\n"
     ]
    }
   ],
   "source": [
    "# Create a basic model instance\n",
    "model = create_model()\n",
    "\n",
    "# Evaluate the model\n",
    "loss, acc = model.evaluate(test_images, test_labels, verbose=2)\n",
    "print(\"Untrained model, accuracy: {:5.2f}%\".format(100 * acc))"
   ]
  },
  {
   "cell_type": "markdown",
   "metadata": {
    "id": "1DTKpZssRSo3"
   },
   "source": [
    "Then load the weights from the checkpoint and re-evaluate:"
   ]
  },
  {
   "cell_type": "code",
   "execution_count": 15,
   "metadata": {
    "execution": {
     "iopub.execute_input": "2022-12-14T07:12:24.323830Z",
     "iopub.status.busy": "2022-12-14T07:12:24.323305Z",
     "iopub.status.idle": "2022-12-14T07:12:24.445623Z",
     "shell.execute_reply": "2022-12-14T07:12:24.444873Z"
    },
    "id": "2IZxbwiRRSD2",
    "ExecuteTime": {
     "start_time": "2023-05-08T09:56:48.742893Z",
     "end_time": "2023-05-08T09:56:48.926363Z"
    }
   },
   "outputs": [
    {
     "name": "stdout",
     "output_type": "stream",
     "text": [
      "32/32 - 0s - loss: 0.4331 - sparse_categorical_accuracy: 0.8770 - 117ms/epoch - 4ms/step\n",
      "Restored model, accuracy: 87.70%\n"
     ]
    }
   ],
   "source": [
    "# Loads the weights\n",
    "model.load_weights(checkpoint_path)\n",
    "\n",
    "# Re-evaluate the model\n",
    "loss, acc = model.evaluate(test_images, test_labels, verbose=2)\n",
    "print(\"Restored model, accuracy: {:5.2f}%\".format(100 * acc))"
   ]
  },
  {
   "cell_type": "markdown",
   "metadata": {
    "id": "bpAbKkAyVPV8"
   },
   "source": [
    "### Checkpoint callback options\n",
    "\n",
    "The callback provides several options to provide unique names for checkpoints and adjust the checkpointing frequency.\n",
    "\n",
    "Train a new model, and save uniquely named checkpoints once every five epochs:"
   ]
  },
  {
   "cell_type": "code",
   "execution_count": 16,
   "metadata": {
    "execution": {
     "iopub.execute_input": "2022-12-14T07:12:24.449207Z",
     "iopub.status.busy": "2022-12-14T07:12:24.448657Z",
     "iopub.status.idle": "2022-12-14T07:12:32.444584Z",
     "shell.execute_reply": "2022-12-14T07:12:32.443887Z"
    },
    "id": "mQF_dlgIVOvq",
    "ExecuteTime": {
     "start_time": "2023-05-08T10:03:00.293188Z",
     "end_time": "2023-05-08T10:03:13.173591Z"
    }
   },
   "outputs": [
    {
     "name": "stdout",
     "output_type": "stream",
     "text": [
      "\n",
      "Epoch 5: saving model to training_2/cp-0005.ckpt\n",
      "\n",
      "Epoch 10: saving model to training_2/cp-0010.ckpt\n",
      "\n",
      "Epoch 15: saving model to training_2/cp-0015.ckpt\n",
      "\n",
      "Epoch 20: saving model to training_2/cp-0020.ckpt\n",
      "\n",
      "Epoch 25: saving model to training_2/cp-0025.ckpt\n",
      "\n",
      "Epoch 30: saving model to training_2/cp-0030.ckpt\n",
      "\n",
      "Epoch 35: saving model to training_2/cp-0035.ckpt\n",
      "\n",
      "Epoch 40: saving model to training_2/cp-0040.ckpt\n",
      "\n",
      "Epoch 45: saving model to training_2/cp-0045.ckpt\n",
      "\n",
      "Epoch 50: saving model to training_2/cp-0050.ckpt\n"
     ]
    },
    {
     "data": {
      "text/plain": "<keras.callbacks.History at 0x7f52970cc7c0>"
     },
     "execution_count": 16,
     "metadata": {},
     "output_type": "execute_result"
    }
   ],
   "source": [
    "# Include the epoch in the file name (uses `str.format`)\n",
    "checkpoint_path = \"training_2/cp-{epoch:04d}.ckpt\"\n",
    "checkpoint_dir = os.path.dirname(checkpoint_path)\n",
    "\n",
    "batch_size = 32\n",
    "\n",
    "# Create a callback that saves the model's weights every 5 epochs\n",
    "cp_callback = tf.keras.callbacks.ModelCheckpoint(\n",
    "    filepath=checkpoint_path, \n",
    "    verbose=1, \n",
    "    save_weights_only=True,\n",
    "    save_freq=5*batch_size)\n",
    "\n",
    "# Create a new model instance\n",
    "model = create_model()\n",
    "\n",
    "# Save the weights using the `checkpoint_path` format\n",
    "model.save_weights(checkpoint_path.format(epoch=0))\n",
    "\n",
    "# Train the model with the new callback\n",
    "model.fit(train_images, \n",
    "          train_labels,\n",
    "          epochs=50, \n",
    "          batch_size=batch_size, \n",
    "          callbacks=[cp_callback],\n",
    "          validation_data=(test_images, test_labels),\n",
    "          verbose=0)"
   ]
  },
  {
   "cell_type": "markdown",
   "metadata": {
    "id": "1zFrKTjjavWI"
   },
   "source": [
    "Now, review the resulting checkpoints and choose the latest one:"
   ]
  },
  {
   "cell_type": "code",
   "execution_count": 17,
   "metadata": {
    "execution": {
     "iopub.execute_input": "2022-12-14T07:12:32.448557Z",
     "iopub.status.busy": "2022-12-14T07:12:32.447946Z",
     "iopub.status.idle": "2022-12-14T07:12:32.452873Z",
     "shell.execute_reply": "2022-12-14T07:12:32.452276Z"
    },
    "id": "p64q3-V4sXt0",
    "ExecuteTime": {
     "start_time": "2023-05-08T10:03:28.796798Z",
     "end_time": "2023-05-08T10:03:28.852218Z"
    }
   },
   "outputs": [
    {
     "data": {
      "text/plain": "['checkpoint',\n 'cp-0000.ckpt.data-00000-of-00001',\n 'cp-0000.ckpt.index',\n 'cp-0005.ckpt.data-00000-of-00001',\n 'cp-0005.ckpt.index',\n 'cp-0010.ckpt.data-00000-of-00001',\n 'cp-0010.ckpt.index',\n 'cp-0015.ckpt.data-00000-of-00001',\n 'cp-0015.ckpt.index',\n 'cp-0020.ckpt.data-00000-of-00001',\n 'cp-0020.ckpt.index',\n 'cp-0025.ckpt.data-00000-of-00001',\n 'cp-0025.ckpt.index',\n 'cp-0030.ckpt.data-00000-of-00001',\n 'cp-0030.ckpt.index',\n 'cp-0035.ckpt.data-00000-of-00001',\n 'cp-0035.ckpt.index',\n 'cp-0040.ckpt.data-00000-of-00001',\n 'cp-0040.ckpt.index',\n 'cp-0045.ckpt.data-00000-of-00001',\n 'cp-0045.ckpt.index',\n 'cp-0050.ckpt.data-00000-of-00001',\n 'cp-0050.ckpt.index']"
     },
     "execution_count": 17,
     "metadata": {},
     "output_type": "execute_result"
    }
   ],
   "source": [
    "os.listdir(checkpoint_dir)"
   ]
  },
  {
   "cell_type": "code",
   "execution_count": 18,
   "metadata": {
    "execution": {
     "iopub.execute_input": "2022-12-14T07:12:32.456314Z",
     "iopub.status.busy": "2022-12-14T07:12:32.455679Z",
     "iopub.status.idle": "2022-12-14T07:12:32.460532Z",
     "shell.execute_reply": "2022-12-14T07:12:32.459946Z"
    },
    "id": "1AN_fnuyR41H",
    "ExecuteTime": {
     "start_time": "2023-05-08T10:03:46.177591Z",
     "end_time": "2023-05-08T10:03:46.206625Z"
    }
   },
   "outputs": [
    {
     "data": {
      "text/plain": "'training_2/cp-0050.ckpt'"
     },
     "execution_count": 18,
     "metadata": {},
     "output_type": "execute_result"
    }
   ],
   "source": [
    "latest = tf.train.latest_checkpoint(checkpoint_dir)\n",
    "latest"
   ]
  },
  {
   "cell_type": "markdown",
   "metadata": {
    "id": "Zk2ciGbKg561"
   },
   "source": [
    "Note: The default TensorFlow format only saves the 5 most recent checkpoints.\n",
    "\n",
    "To test, reset the model, and load the latest checkpoint:"
   ]
  },
  {
   "cell_type": "code",
   "execution_count": 19,
   "metadata": {
    "execution": {
     "iopub.execute_input": "2022-12-14T07:12:32.464121Z",
     "iopub.status.busy": "2022-12-14T07:12:32.463586Z",
     "iopub.status.idle": "2022-12-14T07:12:32.695924Z",
     "shell.execute_reply": "2022-12-14T07:12:32.695192Z"
    },
    "id": "3M04jyK-H3QK",
    "ExecuteTime": {
     "start_time": "2023-05-08T10:06:03.774641Z",
     "end_time": "2023-05-08T10:06:04.044985Z"
    }
   },
   "outputs": [
    {
     "name": "stdout",
     "output_type": "stream",
     "text": [
      "32/32 - 0s - loss: 0.4760 - sparse_categorical_accuracy: 0.8700 - 179ms/epoch - 6ms/step\n",
      "Restored model, accuracy: 87.00%\n"
     ]
    }
   ],
   "source": [
    "# Create a new model instance\n",
    "model = create_model()\n",
    "\n",
    "# Load the previously saved weights\n",
    "model.load_weights(latest)\n",
    "\n",
    "# Re-evaluate the model\n",
    "loss, acc = model.evaluate(test_images, test_labels, verbose=2)\n",
    "print(\"Restored model, accuracy: {:5.2f}%\".format(100 * acc))"
   ]
  },
  {
   "cell_type": "markdown",
   "metadata": {
    "id": "c2OxsJOTHxia"
   },
   "source": [
    "## What are these files?"
   ]
  },
  {
   "cell_type": "markdown",
   "metadata": {
    "id": "JtdYhvWnH2ib"
   },
   "source": [
    "The above code stores the weights to a collection of [checkpoint](https://www.tensorflow.org/guide/checkpoint)-formatted files that contain only the trained weights in a binary format.\n",
    "Checkpoints contain:\n",
    "* One or more shards that contain your model's weights.\n",
    "* An index file that indicates which weights are stored in which shard.\n",
    "\n",
    "If you are training a model on a single machine, you'll have one shard with the suffix: `.data-00000-of-00001`"
   ]
  },
  {
   "cell_type": "markdown",
   "metadata": {
    "id": "S_FA-ZvxuXQV"
   },
   "source": [
    "## Manually save weights\n",
    "\n",
    "To save weights manually, use `tf.keras.Model.save_weights`. By default, `tf.keras`—and the `Model.save_weights` method in particular—uses the TensorFlow [Checkpoint](../../guide/checkpoint.ipynb) format with a `.ckpt` extension. To save in the HDF5 format with a `.h5` extension, refer to the [Save and load models](https://www.tensorflow.org/guide/keras/save_and_serialize) guide."
   ]
  },
  {
   "cell_type": "code",
   "execution_count": 20,
   "metadata": {
    "execution": {
     "iopub.execute_input": "2022-12-14T07:12:32.699959Z",
     "iopub.status.busy": "2022-12-14T07:12:32.699408Z",
     "iopub.status.idle": "2022-12-14T07:12:32.943828Z",
     "shell.execute_reply": "2022-12-14T07:12:32.943101Z"
    },
    "id": "R7W5plyZ-u9X",
    "ExecuteTime": {
     "start_time": "2023-05-08T10:15:35.930516Z",
     "end_time": "2023-05-08T10:15:36.405315Z"
    }
   },
   "outputs": [
    {
     "name": "stdout",
     "output_type": "stream",
     "text": [
      "32/32 - 0s - loss: 0.4760 - sparse_categorical_accuracy: 0.8700 - 184ms/epoch - 6ms/step\n",
      "Restored model, accuracy: 87.00%\n"
     ]
    }
   ],
   "source": [
    "# Save the weights\n",
    "model.save_weights('./checkpoints/my_checkpoint')\n",
    "\n",
    "# Create a new model instance\n",
    "model = create_model()\n",
    "\n",
    "# Restore the weights\n",
    "model.load_weights('./checkpoints/my_checkpoint')\n",
    "\n",
    "# Evaluate the model\n",
    "loss, acc = model.evaluate(test_images, test_labels, verbose=2)\n",
    "print(\"Restored model, accuracy: {:5.2f}%\".format(100 * acc))"
   ]
  },
  {
   "cell_type": "markdown",
   "metadata": {
    "id": "kOGlxPRBEvV1"
   },
   "source": [
    "## Save the entire model\n",
    "\n",
    "Call `tf.keras.Model.save` to save a model's architecture, weights, and training configuration in a single `file/folder`. This allows you to export a model so it can be used without access to the original Python code*. Since the optimizer-state is recovered, you can resume training from exactly where you left off.\n",
    "\n",
    "An entire model can be saved in two different file formats (`SavedModel` and `HDF5`). The TensorFlow `SavedModel` format is the default file format in TF2.x. However, models can be saved in `HDF5` format. More details on saving entire models in the two file formats is described below.\n",
    "\n",
    "Saving a fully-functional model is very useful—you can load them in TensorFlow.js ([Saved Model](https://www.tensorflow.org/js/tutorials/conversion/import_saved_model), [HDF5](https://www.tensorflow.org/js/tutorials/conversion/import_keras)) and then train and run them in web browsers, or convert them to run on mobile devices using TensorFlow Lite ([Saved Model](https://www.tensorflow.org/lite/models/convert/#convert_a_savedmodel_recommended_), [HDF5](https://www.tensorflow.org/lite/models/convert/#convert_a_keras_model_))\n",
    "\n",
    "\\*Custom objects (for example, subclassed models or layers) require special attention when saving and loading. Refer to the **Saving custom objects** section below."
   ]
  },
  {
   "cell_type": "markdown",
   "metadata": {
    "id": "kPyhgcoVzqUB"
   },
   "source": [
    "### SavedModel format"
   ]
  },
  {
   "cell_type": "markdown",
   "metadata": {
    "id": "LtcN4VIb7JkK"
   },
   "source": [
    "The SavedModel format is another way to serialize models. Models saved in this format can be restored using `tf.keras.models.load_model` and are compatible with TensorFlow Serving. The [SavedModel guide](../../guide/saved_model.ipynb) goes into detail about how to `serve/inspect` the SavedModel. The section below illustrates the steps to save and restore the model."
   ]
  },
  {
   "cell_type": "code",
   "execution_count": 21,
   "metadata": {
    "execution": {
     "iopub.execute_input": "2022-12-14T07:12:32.947565Z",
     "iopub.status.busy": "2022-12-14T07:12:32.947305Z",
     "iopub.status.idle": "2022-12-14T07:12:34.866861Z",
     "shell.execute_reply": "2022-12-14T07:12:34.866064Z"
    },
    "id": "sI1YvCDFzpl3",
    "ExecuteTime": {
     "start_time": "2023-05-08T10:25:13.280099Z",
     "end_time": "2023-05-08T10:25:15.559870Z"
    }
   },
   "outputs": [
    {
     "name": "stdout",
     "output_type": "stream",
     "text": [
      "Epoch 1/5\n",
      "32/32 [==============================] - 1s 5ms/step - loss: 1.1845 - sparse_categorical_accuracy: 0.6560\n",
      "Epoch 2/5\n",
      "32/32 [==============================] - 0s 5ms/step - loss: 0.4204 - sparse_categorical_accuracy: 0.8810\n",
      "Epoch 3/5\n",
      "32/32 [==============================] - 0s 4ms/step - loss: 0.2909 - sparse_categorical_accuracy: 0.9210\n",
      "Epoch 4/5\n",
      "32/32 [==============================] - 0s 4ms/step - loss: 0.2067 - sparse_categorical_accuracy: 0.9530\n",
      "Epoch 5/5\n",
      "32/32 [==============================] - 0s 4ms/step - loss: 0.1526 - sparse_categorical_accuracy: 0.9720\n"
     ]
    },
    {
     "name": "stderr",
     "output_type": "stream",
     "text": [
      "2023-05-08 11:25:15.082833: I tensorflow/core/common_runtime/executor.cc:1197] [/device:CPU:0] (DEBUG INFO) Executor start aborting (this does not indicate an error and you can ignore this message): INVALID_ARGUMENT: You must feed a value for placeholder tensor 'inputs' with dtype float and shape [?,512]\n",
      "\t [[{{node inputs}}]]\n",
      "2023-05-08 11:25:15.213134: I tensorflow/core/common_runtime/executor.cc:1197] [/device:CPU:0] (DEBUG INFO) Executor start aborting (this does not indicate an error and you can ignore this message): INVALID_ARGUMENT: You must feed a value for placeholder tensor 'inputs' with dtype float and shape [?,512]\n",
      "\t [[{{node inputs}}]]\n"
     ]
    },
    {
     "name": "stdout",
     "output_type": "stream",
     "text": [
      "INFO:tensorflow:Assets written to: saved_model/my_model/assets\n",
      "CPU times: user 1.87 s, sys: 282 ms, total: 2.15 s\n",
      "Wall time: 2.27 s\n"
     ]
    }
   ],
   "source": [
    "%%time\n",
    "# Create and train a new model instance.\n",
    "model = create_model()\n",
    "model.fit(train_images, train_labels, epochs=5)\n",
    "\n",
    "# Save the entire model as a SavedModel.\n",
    "!mkdir -p saved_model\n",
    "model.save('saved_model/my_model') "
   ]
  },
  {
   "cell_type": "markdown",
   "metadata": {
    "id": "iUvT_3qE8hV5"
   },
   "source": [
    "The SavedModel format is a directory containing a protobuf binary and a TensorFlow checkpoint. Inspect the saved model directory:"
   ]
  },
  {
   "cell_type": "code",
   "execution_count": 22,
   "metadata": {
    "execution": {
     "iopub.execute_input": "2022-12-14T07:12:34.870774Z",
     "iopub.status.busy": "2022-12-14T07:12:34.870410Z",
     "iopub.status.idle": "2022-12-14T07:12:35.218533Z",
     "shell.execute_reply": "2022-12-14T07:12:35.217410Z"
    },
    "id": "sq8fPglI1RWA",
    "ExecuteTime": {
     "start_time": "2023-05-08T10:25:34.788143Z",
     "end_time": "2023-05-08T10:25:35.062102Z"
    }
   },
   "outputs": [
    {
     "name": "stdout",
     "output_type": "stream",
     "text": [
      "my_model\r\n",
      "assets\tfingerprint.pb\tkeras_metadata.pb  saved_model.pb  variables\r\n"
     ]
    }
   ],
   "source": [
    "# my_model directory\n",
    "!ls saved_model\n",
    "\n",
    "# Contains an assets folder, saved_model.pb, and variables folder.\n",
    "!ls saved_model/my_model"
   ]
  },
  {
   "cell_type": "markdown",
   "metadata": {
    "id": "B7qfpvpY9HCe"
   },
   "source": [
    "Reload a fresh Keras model from the saved model:"
   ]
  },
  {
   "cell_type": "code",
   "execution_count": 23,
   "metadata": {
    "execution": {
     "iopub.execute_input": "2022-12-14T07:12:35.223158Z",
     "iopub.status.busy": "2022-12-14T07:12:35.222334Z",
     "iopub.status.idle": "2022-12-14T07:12:35.444300Z",
     "shell.execute_reply": "2022-12-14T07:12:35.443672Z"
    },
    "id": "0YofwHdN0pxa",
    "ExecuteTime": {
     "start_time": "2023-05-08T10:25:51.485903Z",
     "end_time": "2023-05-08T10:25:51.778533Z"
    }
   },
   "outputs": [
    {
     "name": "stdout",
     "output_type": "stream",
     "text": [
      "Model: \"sequential_5\"\n",
      "_________________________________________________________________\n",
      " Layer (type)                Output Shape              Param #   \n",
      "=================================================================\n",
      " dense_10 (Dense)            (None, 512)               401920    \n",
      "                                                                 \n",
      " dropout_5 (Dropout)         (None, 512)               0         \n",
      "                                                                 \n",
      " dense_11 (Dense)            (None, 10)                5130      \n",
      "                                                                 \n",
      "=================================================================\n",
      "Total params: 407,050\n",
      "Trainable params: 407,050\n",
      "Non-trainable params: 0\n",
      "_________________________________________________________________\n",
      "CPU times: user 145 ms, sys: 30.2 ms, total: 176 ms\n",
      "Wall time: 236 ms\n"
     ]
    }
   ],
   "source": [
    "%%time\n",
    "\n",
    "new_model = tf.keras.models.load_model('saved_model/my_model')\n",
    "\n",
    "# Check its architecture\n",
    "new_model.summary()"
   ]
  },
  {
   "cell_type": "markdown",
   "metadata": {
    "id": "uWwgNaz19TH2"
   },
   "source": [
    "The restored model is compiled with the same arguments as the original model. Try running evaluate and predict with the loaded model:"
   ]
  },
  {
   "cell_type": "code",
   "execution_count": 24,
   "metadata": {
    "execution": {
     "iopub.execute_input": "2022-12-14T07:12:35.451048Z",
     "iopub.status.busy": "2022-12-14T07:12:35.450562Z",
     "iopub.status.idle": "2022-12-14T07:12:35.850527Z",
     "shell.execute_reply": "2022-12-14T07:12:35.849747Z"
    },
    "id": "Yh5Mu0yOgE5J",
    "ExecuteTime": {
     "start_time": "2023-05-08T10:26:08.206721Z",
     "end_time": "2023-05-08T10:26:08.682017Z"
    }
   },
   "outputs": [
    {
     "name": "stdout",
     "output_type": "stream",
     "text": [
      "32/32 - 0s - loss: 0.4391 - sparse_categorical_accuracy: 0.8640 - 183ms/epoch - 6ms/step\n",
      "Restored model, accuracy: 86.40%\n",
      "32/32 [==============================] - 0s 2ms/step\n",
      "(1000, 10)\n"
     ]
    }
   ],
   "source": [
    "# Evaluate the restored model\n",
    "loss, acc = new_model.evaluate(test_images, test_labels, verbose=2)\n",
    "print('Restored model, accuracy: {:5.2f}%'.format(100 * acc))\n",
    "\n",
    "print(new_model.predict(test_images).shape)"
   ]
  },
  {
   "cell_type": "markdown",
   "metadata": {
    "id": "SkGwf-50zLNn"
   },
   "source": [
    "### HDF5 format\n",
    "\n",
    "Keras provides a basic save format using the [HDF5](https://en.wikipedia.org/wiki/Hierarchical_Data_Format) standard. "
   ]
  },
  {
   "cell_type": "code",
   "execution_count": 25,
   "metadata": {
    "execution": {
     "iopub.execute_input": "2022-12-14T07:12:35.854373Z",
     "iopub.status.busy": "2022-12-14T07:12:35.853808Z",
     "iopub.status.idle": "2022-12-14T07:12:37.045058Z",
     "shell.execute_reply": "2022-12-14T07:12:37.044398Z"
    },
    "id": "m2dkmJVCGUia",
    "ExecuteTime": {
     "start_time": "2023-05-08T10:27:58.879227Z",
     "end_time": "2023-05-08T10:28:00.450321Z"
    }
   },
   "outputs": [
    {
     "name": "stdout",
     "output_type": "stream",
     "text": [
      "Epoch 1/5\n",
      "32/32 [==============================] - 1s 5ms/step - loss: 1.1819 - sparse_categorical_accuracy: 0.6630\n",
      "Epoch 2/5\n",
      "32/32 [==============================] - 0s 5ms/step - loss: 0.4274 - sparse_categorical_accuracy: 0.8900\n",
      "Epoch 3/5\n",
      "32/32 [==============================] - 0s 4ms/step - loss: 0.2861 - sparse_categorical_accuracy: 0.9240\n",
      "Epoch 4/5\n",
      "32/32 [==============================] - 0s 4ms/step - loss: 0.2073 - sparse_categorical_accuracy: 0.9510\n",
      "Epoch 5/5\n",
      "32/32 [==============================] - 0s 4ms/step - loss: 0.1537 - sparse_categorical_accuracy: 0.9660\n"
     ]
    }
   ],
   "source": [
    "# Create and train a new model instance.\n",
    "model = create_model()\n",
    "model.fit(train_images, train_labels, epochs=5)\n",
    "\n",
    "# Save the entire model to a HDF5 file.\n",
    "# The '.h5' extension indicates that the model should be saved to HDF5.\n",
    "model.save('my_model.h5') "
   ]
  },
  {
   "cell_type": "markdown",
   "metadata": {
    "id": "GWmttMOqS68S"
   },
   "source": [
    "Now, recreate the model from that file:"
   ]
  },
  {
   "cell_type": "code",
   "execution_count": 26,
   "metadata": {
    "execution": {
     "iopub.execute_input": "2022-12-14T07:12:37.048970Z",
     "iopub.status.busy": "2022-12-14T07:12:37.048394Z",
     "iopub.status.idle": "2022-12-14T07:12:37.118798Z",
     "shell.execute_reply": "2022-12-14T07:12:37.118207Z"
    },
    "id": "5NDMO_7kS6Do",
    "ExecuteTime": {
     "start_time": "2023-05-08T10:28:54.415727Z",
     "end_time": "2023-05-08T10:28:54.527705Z"
    }
   },
   "outputs": [
    {
     "name": "stdout",
     "output_type": "stream",
     "text": [
      "Model: \"sequential_6\"\n",
      "_________________________________________________________________\n",
      " Layer (type)                Output Shape              Param #   \n",
      "=================================================================\n",
      " dense_12 (Dense)            (None, 512)               401920    \n",
      "                                                                 \n",
      " dropout_6 (Dropout)         (None, 512)               0         \n",
      "                                                                 \n",
      " dense_13 (Dense)            (None, 10)                5130      \n",
      "                                                                 \n",
      "=================================================================\n",
      "Total params: 407,050\n",
      "Trainable params: 407,050\n",
      "Non-trainable params: 0\n",
      "_________________________________________________________________\n"
     ]
    }
   ],
   "source": [
    "# Recreate the exact same model, including its weights and the optimizer\n",
    "new_model = tf.keras.models.load_model('my_model.h5')\n",
    "\n",
    "# Show the model architecture\n",
    "new_model.summary()"
   ]
  },
  {
   "cell_type": "markdown",
   "metadata": {
    "id": "JXQpbTicTBwt"
   },
   "source": [
    "Check its accuracy:"
   ]
  },
  {
   "cell_type": "code",
   "execution_count": 27,
   "metadata": {
    "execution": {
     "iopub.execute_input": "2022-12-14T07:12:37.125443Z",
     "iopub.status.busy": "2022-12-14T07:12:37.124975Z",
     "iopub.status.idle": "2022-12-14T07:12:37.318651Z",
     "shell.execute_reply": "2022-12-14T07:12:37.317957Z"
    },
    "id": "jwEaj9DnTCVA",
    "ExecuteTime": {
     "start_time": "2023-05-08T10:29:00.397110Z",
     "end_time": "2023-05-08T10:29:00.617970Z"
    }
   },
   "outputs": [
    {
     "name": "stdout",
     "output_type": "stream",
     "text": [
      "32/32 - 0s - loss: 0.4333 - sparse_categorical_accuracy: 0.8520 - 182ms/epoch - 6ms/step\n",
      "Restored model, accuracy: 85.20%\n"
     ]
    }
   ],
   "source": [
    "loss, acc = new_model.evaluate(test_images, test_labels, verbose=2)\n",
    "print('Restored model, accuracy: {:5.2f}%'.format(100 * acc))"
   ]
  },
  {
   "cell_type": "markdown",
   "metadata": {
    "id": "dGXqd4wWJl8O"
   },
   "source": [
    "Keras saves models by inspecting their architectures. This technique saves everything:\n",
    "\n",
    "* The weight values\n",
    "* The model's architecture\n",
    "* The model's training configuration (what you pass to the `.compile()` method)\n",
    "* The optimizer and its state, if any (this enables you to restart training where you left off)\n",
    "\n",
    "Keras is not able to save the `v1.x` optimizers (from `tf.compat.v1.train`) since they aren't compatible with checkpoints. For v1.x optimizers, you need to re-compile the model after loading—losing the state of the optimizer.\n"
   ]
  },
  {
   "cell_type": "markdown",
   "metadata": {
    "id": "kAUKJQyGqTNH"
   },
   "source": [
    "### Saving custom objects\n",
    "\n",
    "If you are using the SavedModel format, you can skip this section. The key difference between HDF5 and SavedModel is that HDF5 uses object configs to save the model architecture, while SavedModel saves the execution graph. Thus, SavedModels are able to save custom objects like subclassed models and custom layers without requiring the original code.\n",
    "\n",
    "To save custom objects to HDF5, you must do the following:\n",
    "\n",
    "1. Define a `get_config` method in your object, and optionally a `from_config` classmethod.\n",
    "  * `get_config(self)` returns a JSON-serializable dictionary of parameters needed to recreate the object.\n",
    "  * `from_config(cls, config)` uses the returned config from `get_config` to create a new object. By default, this function will use the config as initialization kwargs (`return cls(**config)`).\n",
    "2. Pass the object to the `custom_objects` argument when loading the model. The argument must be a dictionary mapping the string class name to the Python class. E.g. `tf.keras.models.load_model(path, custom_objects={'CustomLayer': CustomLayer})`\n",
    "\n",
    "Refer to the [Writing layers and models from scratch](https://www.tensorflow.org/guide/keras/custom_layers_and_models) tutorial for examples of custom objects and `get_config`.\n"
   ]
  },
  {
   "cell_type": "code",
   "execution_count": null,
   "outputs": [],
   "source": [],
   "metadata": {
    "collapsed": false
   }
  }
 ],
 "metadata": {
  "accelerator": "GPU",
  "colab": {
   "collapsed_sections": [],
   "name": "save_and_load.ipynb",
   "toc_visible": true
  },
  "kernelspec": {
   "name": "python3",
   "language": "python",
   "display_name": "Python 3 (ipykernel)"
  },
  "language_info": {
   "codemirror_mode": {
    "name": "ipython",
    "version": 3
   },
   "file_extension": ".py",
   "mimetype": "text/x-python",
   "name": "python",
   "nbconvert_exporter": "python",
   "pygments_lexer": "ipython3",
   "version": "3.9.16"
  }
 },
 "nbformat": 4,
 "nbformat_minor": 0
}
