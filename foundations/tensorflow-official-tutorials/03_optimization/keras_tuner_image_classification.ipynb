{
 "cells": [
  {
   "cell_type": "markdown",
   "metadata": {
    "id": "Tce3stUlHN0L"
   },
   "source": [
    "##### Copyright 2020 The TensorFlow Authors."
   ]
  },
  {
   "cell_type": "code",
   "execution_count": null,
   "metadata": {
    "cellView": "form",
    "execution": {
     "iopub.execute_input": "2022-12-14T06:54:15.966278Z",
     "iopub.status.busy": "2022-12-14T06:54:15.965788Z",
     "iopub.status.idle": "2022-12-14T06:54:15.969775Z",
     "shell.execute_reply": "2022-12-14T06:54:15.969104Z"
    },
    "id": "tuOe1ymfHZPu"
   },
   "outputs": [],
   "source": [
    "#@title Licensed under the Apache License, Version 2.0 (the \"License\");\n",
    "# you may not use this file except in compliance with the License.\n",
    "# You may obtain a copy of the License at\n",
    "#\n",
    "# https://www.apache.org/licenses/LICENSE-2.0\n",
    "#\n",
    "# Unless required by applicable law or agreed to in writing, software\n",
    "# distributed under the License is distributed on an \"AS IS\" BASIS,\n",
    "# WITHOUT WARRANTIES OR CONDITIONS OF ANY KIND, either express or implied.\n",
    "# See the License for the specific language governing permissions and\n",
    "# limitations under the License."
   ]
  },
  {
   "cell_type": "markdown",
   "metadata": {
    "id": "qFdPvlXBOdUN"
   },
   "source": [
    "# Introduction to the Keras Tuner"
   ]
  },
  {
   "cell_type": "markdown",
   "metadata": {
    "id": "MfBg1C5NB3X0"
   },
   "source": [
    "<table class=\"tfo-notebook-buttons\" align=\"left\">\n",
    "  <td>\n",
    "    <a target=\"_blank\" href=\"https://www.tensorflow.org/tutorials/keras/keras_tuner\"><img src=\"https://www.tensorflow.org/images/tf_logo_32px.png\" />View on TensorFlow.org</a>\n",
    "  </td>\n",
    "  <td>\n",
    "    <a target=\"_blank\" href=\"https://colab.research.google.com/github/tensorflow/docs/blob/master/site/en/tutorials/keras/keras_tuner.ipynb\"><img src=\"https://www.tensorflow.org/images/colab_logo_32px.png\" />Run in Google Colab</a>\n",
    "  </td>\n",
    "  <td>\n",
    "    <a target=\"_blank\" href=\"https://github.com/tensorflow/docs/blob/master/site/en/tutorials/keras/keras_tuner.ipynb\"><img src=\"https://www.tensorflow.org/images/GitHub-Mark-32px.png\" />View source on GitHub</a>\n",
    "  </td>\n",
    "  <td>\n",
    "    <a href=\"https://storage.googleapis.com/tensorflow_docs/docs/site/en/tutorials/keras/keras_tuner.ipynb\"><img src=\"https://www.tensorflow.org/images/download_logo_32px.png\" />Download notebook</a>\n",
    "  </td>\n",
    "</table>"
   ]
  },
  {
   "cell_type": "markdown",
   "metadata": {
    "id": "xHxb-dlhMIzW"
   },
   "source": [
    "## Overview\n",
    "\n",
    "The Keras Tuner is a library that helps you pick the optimal set of hyperparameters for your TensorFlow program. The process of selecting the right set of hyperparameters for your machine learning (ML) application is called *hyperparameter tuning* or *hypertuning*.\n",
    "\n",
    "Hyperparameters are the variables that govern the training process and the topology of an ML model. These variables remain constant over the training process and directly impact the performance of your ML program. Hyperparameters are of two types:\n",
    "1. **Model hyperparameters** which influence model selection such as the number and width of hidden layers\n",
    "2. **Algorithm hyperparameters** which influence the speed and quality of the learning algorithm such as the learning rate for Stochastic Gradient Descent (SGD) and the number of nearest neighbors for a k Nearest Neighbors (KNN) classifier\n",
    "\n",
    "In this tutorial, you will use the Keras Tuner to perform hypertuning for an image classification application."
   ]
  },
  {
   "cell_type": "markdown",
   "metadata": {
    "id": "MUXex9ctTuDB"
   },
   "source": [
    "## Setup"
   ]
  },
  {
   "cell_type": "code",
   "execution_count": 1,
   "metadata": {
    "execution": {
     "iopub.execute_input": "2022-12-14T06:54:15.973580Z",
     "iopub.status.busy": "2022-12-14T06:54:15.973027Z",
     "iopub.status.idle": "2022-12-14T06:54:17.934809Z",
     "shell.execute_reply": "2022-12-14T06:54:17.933877Z"
    },
    "id": "IqR2PQG4ZaZ0",
    "ExecuteTime": {
     "start_time": "2023-05-08T12:27:20.168161Z",
     "end_time": "2023-05-08T12:27:21.871223Z"
    }
   },
   "outputs": [
    {
     "name": "stderr",
     "output_type": "stream",
     "text": [
      "2023-05-08 13:27:20.391889: I tensorflow/core/platform/cpu_feature_guard.cc:182] This TensorFlow binary is optimized to use available CPU instructions in performance-critical operations.\n",
      "To enable the following instructions: AVX2 FMA, in other operations, rebuild TensorFlow with the appropriate compiler flags.\n",
      "2023-05-08 13:27:21.064611: W tensorflow/compiler/tf2tensorrt/utils/py_utils.cc:38] TF-TRT Warning: Could not find TensorRT\n"
     ]
    }
   ],
   "source": [
    "import tensorflow as tf\n",
    "from tensorflow import keras"
   ]
  },
  {
   "cell_type": "markdown",
   "metadata": {
    "id": "g83Lwsy-Aq2_"
   },
   "source": [
    "Install and import the Keras Tuner."
   ]
  },
  {
   "cell_type": "code",
   "execution_count": 2,
   "metadata": {
    "execution": {
     "iopub.execute_input": "2022-12-14T06:54:17.939480Z",
     "iopub.status.busy": "2022-12-14T06:54:17.938637Z",
     "iopub.status.idle": "2022-12-14T06:54:19.967960Z",
     "shell.execute_reply": "2022-12-14T06:54:19.966743Z"
    },
    "id": "hpMLpbt9jcO6",
    "ExecuteTime": {
     "start_time": "2023-05-08T12:27:21.874730Z",
     "end_time": "2023-05-08T12:27:23.769230Z"
    }
   },
   "outputs": [],
   "source": [
    "!pip install -q -U keras-tuner"
   ]
  },
  {
   "cell_type": "code",
   "execution_count": 3,
   "metadata": {
    "execution": {
     "iopub.execute_input": "2022-12-14T06:54:19.972752Z",
     "iopub.status.busy": "2022-12-14T06:54:19.971963Z",
     "iopub.status.idle": "2022-12-14T06:54:20.371711Z",
     "shell.execute_reply": "2022-12-14T06:54:20.370754Z"
    },
    "id": "_leAIdFKAxAD",
    "ExecuteTime": {
     "start_time": "2023-05-08T12:27:23.772226Z",
     "end_time": "2023-05-08T12:27:23.925833Z"
    }
   },
   "outputs": [],
   "source": [
    "import keras_tuner as kt"
   ]
  },
  {
   "cell_type": "markdown",
   "metadata": {
    "id": "ReV_UXOgCZvx"
   },
   "source": [
    "## Download and prepare the dataset\n",
    "\n",
    "In this tutorial, you will use the Keras Tuner to find the best hyperparameters for a machine learning model that classifies images of clothing from the [Fashion MNIST dataset](https://github.com/zalandoresearch/fashion-mnist)."
   ]
  },
  {
   "cell_type": "markdown",
   "metadata": {
    "id": "HljH_ENLEdHa"
   },
   "source": [
    "Load the data."
   ]
  },
  {
   "cell_type": "code",
   "execution_count": 4,
   "metadata": {
    "execution": {
     "iopub.execute_input": "2022-12-14T06:54:20.375831Z",
     "iopub.status.busy": "2022-12-14T06:54:20.375542Z",
     "iopub.status.idle": "2022-12-14T06:54:20.763563Z",
     "shell.execute_reply": "2022-12-14T06:54:20.762603Z"
    },
    "id": "OHlHs9Wj_PUM",
    "ExecuteTime": {
     "start_time": "2023-05-08T12:27:23.929294Z",
     "end_time": "2023-05-08T12:27:24.173777Z"
    }
   },
   "outputs": [],
   "source": [
    "(img_train, label_train), (img_test, label_test) = keras.datasets.fashion_mnist.load_data()"
   ]
  },
  {
   "cell_type": "code",
   "execution_count": 5,
   "metadata": {
    "execution": {
     "iopub.execute_input": "2022-12-14T06:54:20.768093Z",
     "iopub.status.busy": "2022-12-14T06:54:20.767523Z",
     "iopub.status.idle": "2022-12-14T06:54:20.862518Z",
     "shell.execute_reply": "2022-12-14T06:54:20.861486Z"
    },
    "id": "bLVhXs3xrUD0",
    "ExecuteTime": {
     "start_time": "2023-05-08T12:27:24.177779Z",
     "end_time": "2023-05-08T12:27:24.237295Z"
    }
   },
   "outputs": [],
   "source": [
    "# Normalize pixel values between 0 and 1\n",
    "img_train = img_train.astype('float32') / 255.0\n",
    "img_test = img_test.astype('float32') / 255.0"
   ]
  },
  {
   "cell_type": "markdown",
   "metadata": {
    "id": "K5YEL2H2Ax3e"
   },
   "source": [
    "## Define the model\n",
    "\n",
    "When you build a model for hypertuning, you also define the hyperparameter search space in addition to the model architecture. The model you set up for hypertuning is called a *hypermodel*.\n",
    "\n",
    "You can define a hypermodel through two approaches:\n",
    "\n",
    "* By using a model builder function\n",
    "* By subclassing the `HyperModel` class of the Keras Tuner API\n",
    "\n",
    "You can also use two pre-defined [HyperModel](https://keras.io/api/keras_tuner/hypermodels/) classes - [HyperXception](https://keras.io/api/keras_tuner/hypermodels/hyper_xception/) and [HyperResNet](https://keras.io/api/keras_tuner/hypermodels/hyper_resnet/) for computer vision applications.\n",
    "\n",
    "In this tutorial, you use a model builder function to define the image classification model. The model builder function returns a compiled model and uses hyperparameters you define inline to hypertune the model."
   ]
  },
  {
   "cell_type": "code",
   "execution_count": 6,
   "metadata": {
    "execution": {
     "iopub.execute_input": "2022-12-14T06:54:20.867222Z",
     "iopub.status.busy": "2022-12-14T06:54:20.866480Z",
     "iopub.status.idle": "2022-12-14T06:54:20.872539Z",
     "shell.execute_reply": "2022-12-14T06:54:20.871619Z"
    },
    "id": "ZQKodC-jtsva",
    "ExecuteTime": {
     "start_time": "2023-05-08T12:27:24.237295Z",
     "end_time": "2023-05-08T12:27:24.241300Z"
    }
   },
   "outputs": [],
   "source": [
    "def model_builder(hp):\n",
    "  model = keras.Sequential()\n",
    "  model.add(keras.layers.Flatten(input_shape=(28, 28)))\n",
    "\n",
    "  # Tune the number of units in the first Dense layer\n",
    "  # Choose an optimal value between 32-512\n",
    "  hp_units = hp.Int('units', min_value=32, max_value=512, step=32)\n",
    "  model.add(keras.layers.Dense(units=hp_units, activation='relu'))\n",
    "  model.add(keras.layers.Dense(10))\n",
    "\n",
    "  # Tune the learning rate for the optimizer\n",
    "  # Choose an optimal value from 0.01, 0.001, or 0.0001\n",
    "  hp_learning_rate = hp.Choice('learning_rate', values=[1e-2, 1e-3, 1e-4])\n",
    "\n",
    "  model.compile(optimizer=keras.optimizers.Adam(learning_rate=hp_learning_rate),\n",
    "                loss=keras.losses.SparseCategoricalCrossentropy(from_logits=True),\n",
    "                metrics=['accuracy'])\n",
    "\n",
    "  return model"
   ]
  },
  {
   "cell_type": "markdown",
   "metadata": {
    "id": "0J1VYw4q3x0b"
   },
   "source": [
    "## Instantiate the tuner and perform hypertuning\n",
    "\n",
    "Instantiate the tuner to perform the hypertuning. The Keras Tuner has four tuners available - `RandomSearch`, `Hyperband`, `BayesianOptimization`, and `Sklearn`. In this tutorial, you use the [Hyperband](https://arxiv.org/pdf/1603.06560.pdf) tuner.\n",
    "\n",
    "To instantiate the Hyperband tuner, you must specify the hypermodel, the `objective` to optimize and the maximum number of epochs to train (`max_epochs`)."
   ]
  },
  {
   "cell_type": "code",
   "execution_count": 7,
   "metadata": {
    "execution": {
     "iopub.execute_input": "2022-12-14T06:54:20.876254Z",
     "iopub.status.busy": "2022-12-14T06:54:20.875733Z",
     "iopub.status.idle": "2022-12-14T06:54:24.322560Z",
     "shell.execute_reply": "2022-12-14T06:54:24.321818Z"
    },
    "id": "oichQFly6Y46",
    "ExecuteTime": {
     "start_time": "2023-05-08T12:27:24.241300Z",
     "end_time": "2023-05-08T12:27:24.565493Z"
    }
   },
   "outputs": [
    {
     "name": "stdout",
     "output_type": "stream",
     "text": [
      "INFO:tensorflow:Reloading Tuner from my_dir/intro_to_kt/tuner0.json\n"
     ]
    }
   ],
   "source": [
    "tuner = kt.Hyperband(model_builder,\n",
    "                     objective='val_accuracy',\n",
    "                     max_epochs=10,\n",
    "                     factor=3,\n",
    "                     directory='my_dir',\n",
    "                     project_name='intro_to_kt')"
   ]
  },
  {
   "cell_type": "markdown",
   "metadata": {
    "id": "VaIhhdKf9VtI"
   },
   "source": [
    "The Hyperband tuning algorithm uses adaptive resource allocation and early-stopping to quickly converge on a high-performing model. This is done using a sports championship style bracket. The algorithm trains a large number of models for a few epochs and carries forward only the top-performing half of models to the next round. Hyperband determines the number of models to train in a bracket by computing 1 + log<sub>`factor`</sub>(`max_epochs`) and rounding it up to the nearest integer."
   ]
  },
  {
   "cell_type": "markdown",
   "metadata": {
    "id": "cwhBdXx0Ekj8"
   },
   "source": [
    "Create a callback to stop training early after reaching a certain value for the validation loss."
   ]
  },
  {
   "cell_type": "code",
   "execution_count": 8,
   "metadata": {
    "execution": {
     "iopub.execute_input": "2022-12-14T06:54:24.326862Z",
     "iopub.status.busy": "2022-12-14T06:54:24.326278Z",
     "iopub.status.idle": "2022-12-14T06:54:24.329689Z",
     "shell.execute_reply": "2022-12-14T06:54:24.329108Z"
    },
    "id": "WT9IkS9NEjLc",
    "ExecuteTime": {
     "start_time": "2023-05-08T12:27:24.568991Z",
     "end_time": "2023-05-08T12:27:24.574988Z"
    }
   },
   "outputs": [],
   "source": [
    "stop_early = tf.keras.callbacks.EarlyStopping(monitor='val_loss', patience=5)"
   ]
  },
  {
   "cell_type": "markdown",
   "metadata": {
    "id": "UKghEo15Tduy"
   },
   "source": [
    "Run the hyperparameter search. The arguments for the search method are the same as those used for `tf.keras.model.fit` in addition to the callback above."
   ]
  },
  {
   "cell_type": "code",
   "execution_count": 9,
   "metadata": {
    "execution": {
     "iopub.execute_input": "2022-12-14T06:54:24.332887Z",
     "iopub.status.busy": "2022-12-14T06:54:24.332314Z",
     "iopub.status.idle": "2022-12-14T07:02:37.141071Z",
     "shell.execute_reply": "2022-12-14T07:02:37.140362Z"
    },
    "id": "dSBQcTHF9cKt",
    "ExecuteTime": {
     "start_time": "2023-05-08T12:27:24.571991Z",
     "end_time": "2023-05-08T12:27:24.582490Z"
    }
   },
   "outputs": [
    {
     "name": "stdout",
     "output_type": "stream",
     "text": [
      "INFO:tensorflow:Oracle triggered exit\n",
      "\n",
      "The hyperparameter search is complete. The optimal number of units in the first densely-connected\n",
      "layer is 320 and the optimal learning rate for the optimizer\n",
      "is 0.001.\n",
      "\n",
      "CPU times: user 1.04 ms, sys: 628 µs, total: 1.67 ms\n",
      "Wall time: 1.34 ms\n"
     ]
    }
   ],
   "source": [
    "%%time\n",
    "\n",
    "tuner.search(img_train, label_train, epochs=50, validation_split=0.2, callbacks=[stop_early])\n",
    "\n",
    "# Get the optimal hyperparameters\n",
    "best_hps=tuner.get_best_hyperparameters(num_trials=1)[0]\n",
    "\n",
    "print(f\"\"\"\n",
    "The hyperparameter search is complete. The optimal number of units in the first densely-connected\n",
    "layer is {best_hps.get('units')} and the optimal learning rate for the optimizer\n",
    "is {best_hps.get('learning_rate')}.\n",
    "\"\"\")"
   ]
  },
  {
   "cell_type": "code",
   "execution_count": 15,
   "outputs": [
    {
     "data": {
      "text/plain": "{'units': 320,\n 'learning_rate': 0.001,\n 'tuner/epochs': 10,\n 'tuner/initial_epoch': 0,\n 'tuner/bracket': 0,\n 'tuner/round': 0}"
     },
     "execution_count": 15,
     "metadata": {},
     "output_type": "execute_result"
    }
   ],
   "source": [
    "best_hps.values"
   ],
   "metadata": {
    "collapsed": false,
    "ExecuteTime": {
     "start_time": "2023-05-08T12:35:16.415668Z",
     "end_time": "2023-05-08T12:35:16.421668Z"
    }
   }
  },
  {
   "cell_type": "markdown",
   "metadata": {
    "id": "Lak_ylf88xBv"
   },
   "source": [
    "## Train the model\n",
    "\n",
    "Find the optimal number of epochs to train the model with the hyperparameters obtained from the search."
   ]
  },
  {
   "cell_type": "code",
   "execution_count": 10,
   "metadata": {
    "execution": {
     "iopub.execute_input": "2022-12-14T07:02:37.145040Z",
     "iopub.status.busy": "2022-12-14T07:02:37.144327Z",
     "iopub.status.idle": "2022-12-14T07:05:37.446591Z",
     "shell.execute_reply": "2022-12-14T07:05:37.445743Z"
    },
    "id": "McO82AXOuxXh",
    "ExecuteTime": {
     "start_time": "2023-05-08T12:27:24.583988Z",
     "end_time": "2023-05-08T12:31:37.395289Z"
    }
   },
   "outputs": [
    {
     "name": "stderr",
     "output_type": "stream",
     "text": [
      "2023-05-08 13:27:24.609031: I tensorflow/compiler/xla/stream_executor/cuda/cuda_gpu_executor.cc:982] could not open file to read NUMA node: /sys/bus/pci/devices/0000:01:00.0/numa_node\n",
      "Your kernel may have been built without NUMA support.\n",
      "2023-05-08 13:27:24.643380: I tensorflow/compiler/xla/stream_executor/cuda/cuda_gpu_executor.cc:982] could not open file to read NUMA node: /sys/bus/pci/devices/0000:01:00.0/numa_node\n",
      "Your kernel may have been built without NUMA support.\n",
      "2023-05-08 13:27:24.643443: I tensorflow/compiler/xla/stream_executor/cuda/cuda_gpu_executor.cc:982] could not open file to read NUMA node: /sys/bus/pci/devices/0000:01:00.0/numa_node\n",
      "Your kernel may have been built without NUMA support.\n",
      "2023-05-08 13:27:24.645731: I tensorflow/compiler/xla/stream_executor/cuda/cuda_gpu_executor.cc:982] could not open file to read NUMA node: /sys/bus/pci/devices/0000:01:00.0/numa_node\n",
      "Your kernel may have been built without NUMA support.\n",
      "2023-05-08 13:27:24.645831: I tensorflow/compiler/xla/stream_executor/cuda/cuda_gpu_executor.cc:982] could not open file to read NUMA node: /sys/bus/pci/devices/0000:01:00.0/numa_node\n",
      "Your kernel may have been built without NUMA support.\n",
      "2023-05-08 13:27:24.645865: I tensorflow/compiler/xla/stream_executor/cuda/cuda_gpu_executor.cc:982] could not open file to read NUMA node: /sys/bus/pci/devices/0000:01:00.0/numa_node\n",
      "Your kernel may have been built without NUMA support.\n",
      "2023-05-08 13:27:25.305093: I tensorflow/compiler/xla/stream_executor/cuda/cuda_gpu_executor.cc:982] could not open file to read NUMA node: /sys/bus/pci/devices/0000:01:00.0/numa_node\n",
      "Your kernel may have been built without NUMA support.\n",
      "2023-05-08 13:27:25.305206: I tensorflow/compiler/xla/stream_executor/cuda/cuda_gpu_executor.cc:982] could not open file to read NUMA node: /sys/bus/pci/devices/0000:01:00.0/numa_node\n",
      "Your kernel may have been built without NUMA support.\n",
      "2023-05-08 13:27:25.305217: I tensorflow/core/common_runtime/gpu/gpu_device.cc:1722] Could not identify NUMA node of platform GPU id 0, defaulting to 0.  Your kernel may not have been built with NUMA support.\n",
      "2023-05-08 13:27:25.305252: I tensorflow/compiler/xla/stream_executor/cuda/cuda_gpu_executor.cc:982] could not open file to read NUMA node: /sys/bus/pci/devices/0000:01:00.0/numa_node\n",
      "Your kernel may have been built without NUMA support.\n",
      "2023-05-08 13:27:25.305279: I tensorflow/core/common_runtime/gpu/gpu_device.cc:1635] Created device /job:localhost/replica:0/task:0/device:GPU:0 with 5897 MB memory:  -> device: 0, name: NVIDIA GeForce RTX 2070 with Max-Q Design, pci bus id: 0000:01:00.0, compute capability: 7.5\n"
     ]
    },
    {
     "name": "stdout",
     "output_type": "stream",
     "text": [
      "Epoch 1/50\n"
     ]
    },
    {
     "name": "stderr",
     "output_type": "stream",
     "text": [
      "2023-05-08 13:27:26.677891: I tensorflow/compiler/xla/service/service.cc:169] XLA service 0x7f388396bb00 initialized for platform CUDA (this does not guarantee that XLA will be used). Devices:\n",
      "2023-05-08 13:27:26.677934: I tensorflow/compiler/xla/service/service.cc:177]   StreamExecutor device (0): NVIDIA GeForce RTX 2070 with Max-Q Design, Compute Capability 7.5\n",
      "2023-05-08 13:27:26.682240: I tensorflow/compiler/mlir/tensorflow/utils/dump_mlir_util.cc:269] disabling MLIR crash reproducer, set env var `MLIR_CRASH_REPRODUCER_DIRECTORY` to enable.\n",
      "2023-05-08 13:27:27.811763: I tensorflow/compiler/xla/stream_executor/cuda/cuda_dnn.cc:424] Loaded cuDNN version 8900\n",
      "2023-05-08 13:27:27.929672: I tensorflow/tsl/platform/default/subprocess.cc:304] Start cannot spawn child process: No such file or directory\n",
      "2023-05-08 13:27:27.994330: I ./tensorflow/compiler/jit/device_compiler.h:180] Compiled cluster using XLA!  This line is logged at most once for the lifetime of the process.\n"
     ]
    },
    {
     "name": "stdout",
     "output_type": "stream",
     "text": [
      "1500/1500 [==============================] - 8s 3ms/step - loss: 0.4997 - accuracy: 0.8223 - val_loss: 0.4035 - val_accuracy: 0.8553\n",
      "Epoch 2/50\n",
      "1500/1500 [==============================] - 5s 3ms/step - loss: 0.3714 - accuracy: 0.8665 - val_loss: 0.3572 - val_accuracy: 0.8695\n",
      "Epoch 3/50\n",
      "1500/1500 [==============================] - 5s 3ms/step - loss: 0.3314 - accuracy: 0.8770 - val_loss: 0.3530 - val_accuracy: 0.8731\n",
      "Epoch 4/50\n",
      "1500/1500 [==============================] - 5s 3ms/step - loss: 0.3059 - accuracy: 0.8865 - val_loss: 0.3530 - val_accuracy: 0.8731\n",
      "Epoch 5/50\n",
      "1500/1500 [==============================] - 5s 3ms/step - loss: 0.2858 - accuracy: 0.8946 - val_loss: 0.3240 - val_accuracy: 0.8857\n",
      "Epoch 6/50\n",
      "1500/1500 [==============================] - 5s 4ms/step - loss: 0.2736 - accuracy: 0.8976 - val_loss: 0.3344 - val_accuracy: 0.8783\n",
      "Epoch 7/50\n",
      "1500/1500 [==============================] - 5s 3ms/step - loss: 0.2578 - accuracy: 0.9044 - val_loss: 0.3201 - val_accuracy: 0.8863\n",
      "Epoch 8/50\n",
      "1500/1500 [==============================] - 5s 3ms/step - loss: 0.2460 - accuracy: 0.9082 - val_loss: 0.3432 - val_accuracy: 0.8806\n",
      "Epoch 9/50\n",
      "1500/1500 [==============================] - 5s 3ms/step - loss: 0.2355 - accuracy: 0.9113 - val_loss: 0.3153 - val_accuracy: 0.8891\n",
      "Epoch 10/50\n",
      "1500/1500 [==============================] - 5s 3ms/step - loss: 0.2284 - accuracy: 0.9146 - val_loss: 0.3402 - val_accuracy: 0.8813\n",
      "Epoch 11/50\n",
      "1500/1500 [==============================] - 5s 4ms/step - loss: 0.2172 - accuracy: 0.9190 - val_loss: 0.3282 - val_accuracy: 0.8926\n",
      "Epoch 12/50\n",
      "1500/1500 [==============================] - 5s 3ms/step - loss: 0.2114 - accuracy: 0.9206 - val_loss: 0.3400 - val_accuracy: 0.8824\n",
      "Epoch 13/50\n",
      "1500/1500 [==============================] - 5s 3ms/step - loss: 0.2017 - accuracy: 0.9239 - val_loss: 0.3279 - val_accuracy: 0.8903\n",
      "Epoch 14/50\n",
      "1500/1500 [==============================] - 5s 3ms/step - loss: 0.1948 - accuracy: 0.9264 - val_loss: 0.3098 - val_accuracy: 0.8950\n",
      "Epoch 15/50\n",
      "1500/1500 [==============================] - 5s 3ms/step - loss: 0.1879 - accuracy: 0.9285 - val_loss: 0.3106 - val_accuracy: 0.8929\n",
      "Epoch 16/50\n",
      "1500/1500 [==============================] - 5s 3ms/step - loss: 0.1826 - accuracy: 0.9317 - val_loss: 0.3515 - val_accuracy: 0.8882\n",
      "Epoch 17/50\n",
      "1500/1500 [==============================] - 5s 3ms/step - loss: 0.1761 - accuracy: 0.9333 - val_loss: 0.3397 - val_accuracy: 0.8911\n",
      "Epoch 18/50\n",
      "1500/1500 [==============================] - 5s 3ms/step - loss: 0.1716 - accuracy: 0.9353 - val_loss: 0.3262 - val_accuracy: 0.8980\n",
      "Epoch 19/50\n",
      "1500/1500 [==============================] - 5s 3ms/step - loss: 0.1636 - accuracy: 0.9386 - val_loss: 0.3467 - val_accuracy: 0.8939\n",
      "Epoch 20/50\n",
      "1500/1500 [==============================] - 5s 3ms/step - loss: 0.1578 - accuracy: 0.9398 - val_loss: 0.3420 - val_accuracy: 0.8940\n",
      "Epoch 21/50\n",
      "1500/1500 [==============================] - 5s 3ms/step - loss: 0.1542 - accuracy: 0.9417 - val_loss: 0.3609 - val_accuracy: 0.8871\n",
      "Epoch 22/50\n",
      "1500/1500 [==============================] - 5s 3ms/step - loss: 0.1500 - accuracy: 0.9437 - val_loss: 0.3600 - val_accuracy: 0.8928\n",
      "Epoch 23/50\n",
      "1500/1500 [==============================] - 5s 3ms/step - loss: 0.1443 - accuracy: 0.9457 - val_loss: 0.3501 - val_accuracy: 0.8959\n",
      "Epoch 24/50\n",
      "1500/1500 [==============================] - 5s 3ms/step - loss: 0.1414 - accuracy: 0.9448 - val_loss: 0.3669 - val_accuracy: 0.8952\n",
      "Epoch 25/50\n",
      "1500/1500 [==============================] - 5s 3ms/step - loss: 0.1367 - accuracy: 0.9481 - val_loss: 0.3770 - val_accuracy: 0.8909\n",
      "Epoch 26/50\n",
      "1500/1500 [==============================] - 5s 3ms/step - loss: 0.1345 - accuracy: 0.9484 - val_loss: 0.3882 - val_accuracy: 0.8895\n",
      "Epoch 27/50\n",
      "1500/1500 [==============================] - 5s 3ms/step - loss: 0.1304 - accuracy: 0.9520 - val_loss: 0.3809 - val_accuracy: 0.8957\n",
      "Epoch 28/50\n",
      "1500/1500 [==============================] - 5s 3ms/step - loss: 0.1258 - accuracy: 0.9528 - val_loss: 0.3904 - val_accuracy: 0.8946\n",
      "Epoch 29/50\n",
      "1500/1500 [==============================] - 5s 3ms/step - loss: 0.1225 - accuracy: 0.9535 - val_loss: 0.3799 - val_accuracy: 0.9007\n",
      "Epoch 30/50\n",
      "1500/1500 [==============================] - 5s 4ms/step - loss: 0.1194 - accuracy: 0.9554 - val_loss: 0.3950 - val_accuracy: 0.8937\n",
      "Epoch 31/50\n",
      "1500/1500 [==============================] - 5s 3ms/step - loss: 0.1185 - accuracy: 0.9554 - val_loss: 0.4099 - val_accuracy: 0.8917\n",
      "Epoch 32/50\n",
      "1500/1500 [==============================] - 5s 3ms/step - loss: 0.1129 - accuracy: 0.9573 - val_loss: 0.4436 - val_accuracy: 0.8857\n",
      "Epoch 33/50\n",
      "1500/1500 [==============================] - 5s 3ms/step - loss: 0.1105 - accuracy: 0.9587 - val_loss: 0.4370 - val_accuracy: 0.8918\n",
      "Epoch 34/50\n",
      "1500/1500 [==============================] - 5s 3ms/step - loss: 0.1092 - accuracy: 0.9595 - val_loss: 0.4222 - val_accuracy: 0.8939\n",
      "Epoch 35/50\n",
      "1500/1500 [==============================] - 5s 3ms/step - loss: 0.1062 - accuracy: 0.9605 - val_loss: 0.4297 - val_accuracy: 0.8915\n",
      "Epoch 36/50\n",
      "1500/1500 [==============================] - 5s 3ms/step - loss: 0.1053 - accuracy: 0.9606 - val_loss: 0.4148 - val_accuracy: 0.8962\n",
      "Epoch 37/50\n",
      "1500/1500 [==============================] - 5s 3ms/step - loss: 0.1015 - accuracy: 0.9619 - val_loss: 0.4282 - val_accuracy: 0.8964\n",
      "Epoch 38/50\n",
      "1500/1500 [==============================] - 5s 3ms/step - loss: 0.1006 - accuracy: 0.9625 - val_loss: 0.4309 - val_accuracy: 0.8964\n",
      "Epoch 39/50\n",
      "1500/1500 [==============================] - 5s 3ms/step - loss: 0.0963 - accuracy: 0.9642 - val_loss: 0.4292 - val_accuracy: 0.8948\n",
      "Epoch 40/50\n",
      "1500/1500 [==============================] - 5s 3ms/step - loss: 0.0978 - accuracy: 0.9633 - val_loss: 0.4963 - val_accuracy: 0.8857\n",
      "Epoch 41/50\n",
      "1500/1500 [==============================] - 5s 3ms/step - loss: 0.0950 - accuracy: 0.9639 - val_loss: 0.4694 - val_accuracy: 0.8938\n",
      "Epoch 42/50\n",
      "1500/1500 [==============================] - 5s 3ms/step - loss: 0.0917 - accuracy: 0.9654 - val_loss: 0.4773 - val_accuracy: 0.8935\n",
      "Epoch 43/50\n",
      "1500/1500 [==============================] - 5s 3ms/step - loss: 0.0877 - accuracy: 0.9665 - val_loss: 0.4732 - val_accuracy: 0.8936\n",
      "Epoch 44/50\n",
      "1500/1500 [==============================] - 5s 3ms/step - loss: 0.0873 - accuracy: 0.9677 - val_loss: 0.5103 - val_accuracy: 0.8944\n",
      "Epoch 45/50\n",
      "1500/1500 [==============================] - 5s 3ms/step - loss: 0.0871 - accuracy: 0.9675 - val_loss: 0.5554 - val_accuracy: 0.8852\n",
      "Epoch 46/50\n",
      "1500/1500 [==============================] - 5s 3ms/step - loss: 0.0844 - accuracy: 0.9685 - val_loss: 0.5196 - val_accuracy: 0.8916\n",
      "Epoch 47/50\n",
      "1500/1500 [==============================] - 5s 4ms/step - loss: 0.0804 - accuracy: 0.9701 - val_loss: 0.5370 - val_accuracy: 0.8907\n",
      "Epoch 48/50\n",
      "1500/1500 [==============================] - 5s 4ms/step - loss: 0.0827 - accuracy: 0.9688 - val_loss: 0.5323 - val_accuracy: 0.8933\n",
      "Epoch 49/50\n",
      "1500/1500 [==============================] - 5s 3ms/step - loss: 0.0791 - accuracy: 0.9700 - val_loss: 0.5149 - val_accuracy: 0.8950\n",
      "Epoch 50/50\n",
      "1500/1500 [==============================] - 5s 3ms/step - loss: 0.0757 - accuracy: 0.9717 - val_loss: 0.5043 - val_accuracy: 0.8978\n",
      "Best epoch: 29\n",
      "CPU times: user 3min 59s, sys: 1min 28s, total: 5min 28s\n",
      "Wall time: 4min 12s\n"
     ]
    }
   ],
   "source": [
    "%%time\n",
    "\n",
    "# Build the model with the optimal hyperparameters and train it on the data for 50 epochs\n",
    "model = tuner.hypermodel.build(best_hps)\n",
    "history = model.fit(img_train, label_train, epochs=50, validation_split=0.2)\n",
    "\n",
    "val_acc_per_epoch = history.history['val_accuracy']\n",
    "best_epoch = val_acc_per_epoch.index(max(val_acc_per_epoch)) + 1\n",
    "print('Best epoch: %d' % (best_epoch,))"
   ]
  },
  {
   "cell_type": "markdown",
   "metadata": {
    "id": "uOTSirSTI3Gp"
   },
   "source": [
    "Re-instantiate the hypermodel and train it with the optimal number of epochs from above."
   ]
  },
  {
   "cell_type": "code",
   "execution_count": 11,
   "metadata": {
    "execution": {
     "iopub.execute_input": "2022-12-14T07:05:37.450153Z",
     "iopub.status.busy": "2022-12-14T07:05:37.449572Z",
     "iopub.status.idle": "2022-12-14T07:06:53.363112Z",
     "shell.execute_reply": "2022-12-14T07:06:53.362475Z"
    },
    "id": "NoiPUEHmMhCe",
    "ExecuteTime": {
     "start_time": "2023-05-08T12:31:37.399012Z",
     "end_time": "2023-05-08T12:34:07.029433Z"
    }
   },
   "outputs": [
    {
     "name": "stdout",
     "output_type": "stream",
     "text": [
      "Epoch 1/29\n",
      "1500/1500 [==============================] - 6s 4ms/step - loss: 0.4991 - accuracy: 0.8234 - val_loss: 0.3871 - val_accuracy: 0.8605\n",
      "Epoch 2/29\n",
      "1500/1500 [==============================] - 5s 3ms/step - loss: 0.3716 - accuracy: 0.8651 - val_loss: 0.3592 - val_accuracy: 0.8725\n",
      "Epoch 3/29\n",
      "1500/1500 [==============================] - 5s 3ms/step - loss: 0.3359 - accuracy: 0.8764 - val_loss: 0.3498 - val_accuracy: 0.8761\n",
      "Epoch 4/29\n",
      "1500/1500 [==============================] - 5s 3ms/step - loss: 0.3086 - accuracy: 0.8870 - val_loss: 0.3696 - val_accuracy: 0.8633\n",
      "Epoch 5/29\n",
      "1500/1500 [==============================] - 5s 3ms/step - loss: 0.2882 - accuracy: 0.8913 - val_loss: 0.3184 - val_accuracy: 0.8833\n",
      "Epoch 6/29\n",
      "1500/1500 [==============================] - 5s 3ms/step - loss: 0.2726 - accuracy: 0.8985 - val_loss: 0.3321 - val_accuracy: 0.8817\n",
      "Epoch 7/29\n",
      "1500/1500 [==============================] - 5s 4ms/step - loss: 0.2602 - accuracy: 0.9027 - val_loss: 0.3120 - val_accuracy: 0.8892\n",
      "Epoch 8/29\n",
      "1500/1500 [==============================] - 5s 3ms/step - loss: 0.2488 - accuracy: 0.9066 - val_loss: 0.3211 - val_accuracy: 0.8870\n",
      "Epoch 9/29\n",
      "1500/1500 [==============================] - 5s 4ms/step - loss: 0.2376 - accuracy: 0.9114 - val_loss: 0.3152 - val_accuracy: 0.8897\n",
      "Epoch 10/29\n",
      "1500/1500 [==============================] - 5s 4ms/step - loss: 0.2280 - accuracy: 0.9149 - val_loss: 0.3440 - val_accuracy: 0.8835\n",
      "Epoch 11/29\n",
      "1500/1500 [==============================] - 5s 4ms/step - loss: 0.2192 - accuracy: 0.9184 - val_loss: 0.3066 - val_accuracy: 0.8932\n",
      "Epoch 12/29\n",
      "1500/1500 [==============================] - 5s 3ms/step - loss: 0.2092 - accuracy: 0.9215 - val_loss: 0.3089 - val_accuracy: 0.8960\n",
      "Epoch 13/29\n",
      "1500/1500 [==============================] - 5s 3ms/step - loss: 0.2045 - accuracy: 0.9225 - val_loss: 0.3148 - val_accuracy: 0.8940\n",
      "Epoch 14/29\n",
      "1500/1500 [==============================] - 5s 3ms/step - loss: 0.1945 - accuracy: 0.9266 - val_loss: 0.3301 - val_accuracy: 0.8913\n",
      "Epoch 15/29\n",
      "1500/1500 [==============================] - 5s 3ms/step - loss: 0.1895 - accuracy: 0.9290 - val_loss: 0.3134 - val_accuracy: 0.8953\n",
      "Epoch 16/29\n",
      "1500/1500 [==============================] - 5s 3ms/step - loss: 0.1814 - accuracy: 0.9312 - val_loss: 0.3286 - val_accuracy: 0.8955\n",
      "Epoch 17/29\n",
      "1500/1500 [==============================] - 5s 3ms/step - loss: 0.1751 - accuracy: 0.9335 - val_loss: 0.3295 - val_accuracy: 0.8946\n",
      "Epoch 18/29\n",
      "1500/1500 [==============================] - 5s 3ms/step - loss: 0.1712 - accuracy: 0.9369 - val_loss: 0.3568 - val_accuracy: 0.8910\n",
      "Epoch 19/29\n",
      "1500/1500 [==============================] - 5s 3ms/step - loss: 0.1668 - accuracy: 0.9389 - val_loss: 0.3456 - val_accuracy: 0.8920\n",
      "Epoch 20/29\n",
      "1500/1500 [==============================] - 6s 4ms/step - loss: 0.1615 - accuracy: 0.9392 - val_loss: 0.3511 - val_accuracy: 0.8922\n",
      "Epoch 21/29\n",
      "1500/1500 [==============================] - 6s 4ms/step - loss: 0.1558 - accuracy: 0.9416 - val_loss: 0.3606 - val_accuracy: 0.8930\n",
      "Epoch 22/29\n",
      "1500/1500 [==============================] - 5s 3ms/step - loss: 0.1500 - accuracy: 0.9432 - val_loss: 0.3422 - val_accuracy: 0.8949\n",
      "Epoch 23/29\n",
      "1500/1500 [==============================] - 5s 3ms/step - loss: 0.1470 - accuracy: 0.9441 - val_loss: 0.3656 - val_accuracy: 0.8933\n",
      "Epoch 24/29\n",
      "1500/1500 [==============================] - 5s 3ms/step - loss: 0.1398 - accuracy: 0.9472 - val_loss: 0.3657 - val_accuracy: 0.8956\n",
      "Epoch 25/29\n",
      "1500/1500 [==============================] - 5s 3ms/step - loss: 0.1368 - accuracy: 0.9485 - val_loss: 0.3896 - val_accuracy: 0.8909\n",
      "Epoch 26/29\n",
      "1500/1500 [==============================] - 5s 3ms/step - loss: 0.1356 - accuracy: 0.9500 - val_loss: 0.3884 - val_accuracy: 0.8907\n",
      "Epoch 27/29\n",
      "1500/1500 [==============================] - 5s 3ms/step - loss: 0.1308 - accuracy: 0.9511 - val_loss: 0.3806 - val_accuracy: 0.8941\n",
      "Epoch 28/29\n",
      "1500/1500 [==============================] - 5s 3ms/step - loss: 0.1276 - accuracy: 0.9534 - val_loss: 0.3919 - val_accuracy: 0.8934\n",
      "Epoch 29/29\n",
      "1500/1500 [==============================] - 5s 3ms/step - loss: 0.1258 - accuracy: 0.9532 - val_loss: 0.3804 - val_accuracy: 0.8955\n",
      "CPU times: user 2min 23s, sys: 50.9 s, total: 3min 14s\n",
      "Wall time: 2min 29s\n"
     ]
    },
    {
     "data": {
      "text/plain": "<keras.callbacks.History at 0x7f3a71b9f520>"
     },
     "execution_count": 11,
     "metadata": {},
     "output_type": "execute_result"
    }
   ],
   "source": [
    "%%time\n",
    "\n",
    "hypermodel = tuner.hypermodel.build(best_hps)\n",
    "\n",
    "# Retrain the model\n",
    "hypermodel.fit(img_train, label_train, epochs=best_epoch, validation_split=0.2)"
   ]
  },
  {
   "cell_type": "markdown",
   "metadata": {
    "id": "MqU5ZVAaag2v"
   },
   "source": [
    "To finish this tutorial, evaluate the hypermodel on the test data."
   ]
  },
  {
   "cell_type": "code",
   "execution_count": 12,
   "metadata": {
    "execution": {
     "iopub.execute_input": "2022-12-14T07:06:53.366689Z",
     "iopub.status.busy": "2022-12-14T07:06:53.366121Z",
     "iopub.status.idle": "2022-12-14T07:06:54.138879Z",
     "shell.execute_reply": "2022-12-14T07:06:54.138189Z"
    },
    "id": "9E0BTp9Ealjb",
    "ExecuteTime": {
     "start_time": "2023-05-08T12:34:07.049448Z",
     "end_time": "2023-05-08T12:34:08.124643Z"
    }
   },
   "outputs": [
    {
     "name": "stdout",
     "output_type": "stream",
     "text": [
      "313/313 [==============================] - 1s 3ms/step - loss: 0.4149 - accuracy: 0.8893\n",
      "[test loss, test accuracy]: [0.41488075256347656, 0.8892999887466431]\n"
     ]
    }
   ],
   "source": [
    "eval_result = hypermodel.evaluate(img_test, label_test)\n",
    "print(\"[test loss, test accuracy]:\", eval_result)"
   ]
  },
  {
   "cell_type": "markdown",
   "metadata": {
    "id": "EQRpPHZsz-eC"
   },
   "source": [
    "The `my_dir/intro_to_kt` directory contains detailed logs and checkpoints for every trial (model configuration) run during the hyperparameter search. If you re-run the hyperparameter search, the Keras Tuner uses the existing state from these logs to resume the search. To disable this behavior, pass an additional `overwrite=True` argument while instantiating the tuner."
   ]
  },
  {
   "cell_type": "markdown",
   "metadata": {
    "id": "sKwLOzKpFGAj"
   },
   "source": [
    "## Summary\n",
    "\n",
    "In this tutorial, you learned how to use the Keras Tuner to tune hyperparameters for a model. To learn more about the Keras Tuner, check out these additional resources:\n",
    "\n",
    "* [Keras Tuner on the TensorFlow blog](https://blog.tensorflow.org/2020/01/hyperparameter-tuning-with-keras-tuner.html)\n",
    "* [Keras Tuner website](https://keras-team.github.io/keras-tuner/)\n",
    "\n",
    "Also check out the [HParams Dashboard](https://www.tensorflow.org/tensorboard/hyperparameter_tuning_with_hparams) in TensorBoard to interactively tune your model hyperparameters."
   ]
  },
  {
   "cell_type": "code",
   "execution_count": null,
   "outputs": [],
   "source": [],
   "metadata": {
    "collapsed": false
   }
  }
 ],
 "metadata": {
  "accelerator": "GPU",
  "colab": {
   "collapsed_sections": [
    "Tce3stUlHN0L"
   ],
   "name": "keras_tuner.ipynb",
   "toc_visible": true
  },
  "kernelspec": {
   "name": "python3",
   "language": "python",
   "display_name": "Python 3 (ipykernel)"
  },
  "language_info": {
   "codemirror_mode": {
    "name": "ipython",
    "version": 3
   },
   "file_extension": ".py",
   "mimetype": "text/x-python",
   "name": "python",
   "nbconvert_exporter": "python",
   "pygments_lexer": "ipython3",
   "version": "3.9.16"
  }
 },
 "nbformat": 4,
 "nbformat_minor": 0
}
