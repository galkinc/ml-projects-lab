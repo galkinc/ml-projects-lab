{
 "cells": [
  {
   "cell_type": "markdown",
   "source": [
    "# Multi-class classification on Stack Overflow questions\n",
    "\n",
    "This tutorial showed how to train a binary classifier from scratch on the IMDB dataset. As an exercise, you can modify this notebook to train a multi-class classifier to predict the tag of a programming question on [Stack Overflow](http://stackoverflow.com/).\n",
    "\n",
    "A [dataset has](https://storage.googleapis.com/download.tensorflow.org/data/stack_overflow_16k.tar.gz) been prepared for you to use containing the body of several thousand programming questions (for example, \"How can I sort a dictionary by value in Python?\") posted to Stack Overflow. Each of these is labeled with exactly one tag (either Python, CSharp, JavaScript, or Java). Your task is to take a question as input, and predict the appropriate tag, in this case, Python.\n",
    "\n",
    "The dataset you will work with contains several thousand questions extracted from the much larger public Stack Overflow dataset on [BigQuery](https://console.cloud.google.com/marketplace/details/stack-exchange/stack-overflow), which contains more than 17 million posts.\n",
    "\n",
    "After downloading the dataset, you will find it has a similar directory structure to the IMDB dataset you worked with previously:\n",
    "\n",
    "train/\n",
    "...python/\n",
    "......0.txt\n",
    "......1.txt\n",
    "...javascript/\n",
    "......0.txt\n",
    "......1.txt\n",
    "...csharp/\n",
    "......0.txt\n",
    "......1.txt\n",
    "...java/\n",
    "......0.txt\n",
    "......1.txt\n",
    "\n",
    "Note: To increase the difficulty of the classification problem, occurrences of the words Python, CSharp, JavaScript, or Java in the programming questions have been replaced with the word blank (as many questions contain the language they're about).\n",
    "\n",
    "To complete this exercise, you should modify this notebook to work with the Stack Overflow dataset by making the following modifications:\n",
    "\n",
    "1. At the top of your notebook, update the code that downloads the IMDB dataset with code to download the [Stack Overflow dataset](https://storage.googleapis.com/download.tensorflow.org/data/stack_overflow_16k.tar.gz) that has already been prepared. As the Stack Overflow dataset has a similar directory structure, you will not need to make many modifications.\n",
    "\n",
    "2. Modify the last layer of your model to Dense(4), as there are now four output classes.\n",
    "\n",
    "3. When compiling the model, change the loss to tf.keras.losses.SparseCategoricalCrossentropy(from_logits=True). This is the correct loss function to use for a multi-class classification problem, when the labels for each class are integers (in this case, they can be 0, 1, 2, or 3). In addition, change the metrics to metrics=\\['accuracy'], since this is a multi-class classification problem (tf.metrics.BinaryAccuracy is only used for binary classifiers).\n",
    "\n",
    "4. When plotting accuracy over time, change binary_accuracy and val_binary_accuracy to accuracy and val_accuracy, respectively.\n",
    "\n",
    "5. Once these changes are complete, you will be able to train a multi-class classifier."
   ],
   "metadata": {
    "collapsed": false
   }
  },
  {
   "cell_type": "code",
   "execution_count": 3,
   "outputs": [
    {
     "name": "stderr",
     "output_type": "stream",
     "text": [
      "2023-05-02 12:11:20.410759: I tensorflow/core/platform/cpu_feature_guard.cc:182] This TensorFlow binary is optimized to use available CPU instructions in performance-critical operations.\n",
      "To enable the following instructions: AVX2 FMA, in other operations, rebuild TensorFlow with the appropriate compiler flags.\n",
      "2023-05-02 12:11:21.309028: W tensorflow/compiler/tf2tensorrt/utils/py_utils.cc:38] TF-TRT Warning: Could not find TensorRT\n"
     ]
    }
   ],
   "source": [
    "import matplotlib.pyplot as plt\n",
    "import os\n",
    "import re\n",
    "import shutil # The shutil module offers a number of high-level operations on files and collections of files\n",
    "import string # he built-in string class provides the ability to do complex variable substitutions and value formatting via the format() method described in PEP 3101.\n",
    "import tensorflow as tf\n",
    "\n",
    "from tensorflow.keras import layers\n",
    "from tensorflow.keras import losses"
   ],
   "metadata": {
    "collapsed": false,
    "ExecuteTime": {
     "start_time": "2023-05-02T11:11:19.390613Z",
     "end_time": "2023-05-02T11:11:22.369892Z"
    }
   }
  },
  {
   "cell_type": "markdown",
   "source": [
    "## Download and explore the IMDB dataset"
   ],
   "metadata": {
    "collapsed": false
   }
  },
  {
   "cell_type": "code",
   "execution_count": 6,
   "outputs": [
    {
     "name": "stdout",
     "output_type": "stream",
     "text": [
      "Downloading data from https://storage.googleapis.com/download.tensorflow.org/data/stack_overflow_16k.tar.gz\n",
      "6053168/6053168 [==============================] - 2s 0us/step\n"
     ]
    }
   ],
   "source": [
    "url = \"https://storage.googleapis.com/download.tensorflow.org/data/stack_overflow_16k.tar.gz\"\n",
    "\n",
    "dataset = tf.keras.utils.get_file(\"stack_overflow\", url,\n",
    "                                  untar=True, cache_dir='.',\n",
    "                                  cache_subdir='')\n",
    "\n",
    "dataset_dir = os.path.join(os.path.dirname(dataset), 'stack_overflow')"
   ],
   "metadata": {
    "collapsed": false,
    "ExecuteTime": {
     "start_time": "2023-05-02T11:16:35.253380Z",
     "end_time": "2023-05-02T11:21:30.026700Z"
    }
   }
  },
  {
   "cell_type": "code",
   "execution_count": 8,
   "outputs": [
    {
     "data": {
      "text/plain": "('./stack_overflow', ['test', 'train'])"
     },
     "execution_count": 8,
     "metadata": {},
     "output_type": "execute_result"
    }
   ],
   "source": [
    "dataset_dir, os.listdir(dataset_dir)"
   ],
   "metadata": {
    "collapsed": false,
    "ExecuteTime": {
     "start_time": "2023-05-02T11:23:26.594700Z",
     "end_time": "2023-05-02T11:23:26.602715Z"
    }
   }
  },
  {
   "cell_type": "code",
   "execution_count": 9,
   "outputs": [
    {
     "data": {
      "text/plain": "['csharp', 'java', 'javascript', 'python']"
     },
     "execution_count": 9,
     "metadata": {},
     "output_type": "execute_result"
    }
   ],
   "source": [
    "train_dir = os.path.join(dataset_dir, 'train')\n",
    "os.listdir(train_dir)"
   ],
   "metadata": {
    "collapsed": false,
    "ExecuteTime": {
     "start_time": "2023-05-02T11:23:52.860636Z",
     "end_time": "2023-05-02T11:23:52.868635Z"
    }
   }
  },
  {
   "cell_type": "code",
   "execution_count": 27,
   "outputs": [
    {
     "name": "stdout",
     "output_type": "stream",
     "text": [
      "\"how to iterate through a blank defaultdict? i have a dictionary that looks like this...defaultdict(&lt;type 'list'&gt;,.{. 2012: [counter({1: 1, 2: 1, 4: 1}), 3],. 2013: [counter({4: 2, 12: 1, 5: 1, 6: 1}), 5],. 2014: [counter({4: 3, 1: 1, 2: 1, 3: 1}), 6]}.)...i am trying to iterate the through counter dict. like this...2012.1 1.2 1.1 4.3..2013.4 2.12 1.5 1.6 1.5...here is the code i tried...for key, value in d.iteritems():.    for k, v in value:.        print k, v...here is the error:..traceback (most recent call last):.  file \"\"c:/test.py\"\", line 42, in &lt;module&gt;.    for k, v in value:.valueerror: too many values to unpack...jinja2 solution:..{% extends \"\"base.html\"\" %}.{% block title %}archive{% endblock %}.{% block content %}..&lt;dl&gt;.{% for key, value in d.iteritems() %}.    &lt;dt&gt;&lt;a href=\"\"/{{ key }}\"\"&gt;{{ key }}&lt;/a&gt; ({{ value[1] }})&lt;/dt&gt;.    {% for m, c in value[0].items() %}.       &lt;dd&gt;&lt;a href=\"\"/{{ key }}/{{ m }}\"\"&gt;{{m|month_number}}&lt;/a&gt; ({{ c }})&lt;/a&gt;&lt;/dd&gt;.        {{ a }}.    {% endfor %}.{% endfor %}.&lt;/dl&gt;...{% endblock %}\"\n",
      "\n"
     ]
    }
   ],
   "source": [
    "sample_file = os.path.join(train_dir, 'python/2.txt')\n",
    "with open(sample_file) as f:\n",
    "    print(f.read())"
   ],
   "metadata": {
    "collapsed": false,
    "ExecuteTime": {
     "start_time": "2023-05-02T11:47:47.835371Z",
     "end_time": "2023-05-02T11:47:47.888608Z"
    }
   }
  },
  {
   "cell_type": "markdown",
   "source": [
    "## Load the dataset"
   ],
   "metadata": {
    "collapsed": false
   }
  },
  {
   "cell_type": "raw",
   "source": [
    "train/\n",
    "...python/\n",
    "......0.txt\n",
    "......1.txt\n",
    "...javascript/\n",
    "......0.txt\n",
    "......1.txt\n",
    "...csharp/\n",
    "......0.txt\n",
    "......1.txt\n",
    "...java/\n",
    "......0.txt\n",
    "......1.txt"
   ],
   "metadata": {
    "collapsed": false
   }
  },
  {
   "cell_type": "code",
   "execution_count": 15,
   "outputs": [
    {
     "name": "stdout",
     "output_type": "stream",
     "text": [
      "Found 8000 files belonging to 4 classes.\n",
      "Using 6400 files for training.\n"
     ]
    },
    {
     "name": "stderr",
     "output_type": "stream",
     "text": [
      "2023-05-02 12:33:20.171285: I tensorflow/compiler/xla/stream_executor/cuda/cuda_gpu_executor.cc:982] could not open file to read NUMA node: /sys/bus/pci/devices/0000:01:00.0/numa_node\n",
      "Your kernel may have been built without NUMA support.\n",
      "2023-05-02 12:33:20.313867: I tensorflow/compiler/xla/stream_executor/cuda/cuda_gpu_executor.cc:982] could not open file to read NUMA node: /sys/bus/pci/devices/0000:01:00.0/numa_node\n",
      "Your kernel may have been built without NUMA support.\n",
      "2023-05-02 12:33:20.313964: I tensorflow/compiler/xla/stream_executor/cuda/cuda_gpu_executor.cc:982] could not open file to read NUMA node: /sys/bus/pci/devices/0000:01:00.0/numa_node\n",
      "Your kernel may have been built without NUMA support.\n",
      "2023-05-02 12:33:20.316230: I tensorflow/compiler/xla/stream_executor/cuda/cuda_gpu_executor.cc:982] could not open file to read NUMA node: /sys/bus/pci/devices/0000:01:00.0/numa_node\n",
      "Your kernel may have been built without NUMA support.\n",
      "2023-05-02 12:33:20.316281: I tensorflow/compiler/xla/stream_executor/cuda/cuda_gpu_executor.cc:982] could not open file to read NUMA node: /sys/bus/pci/devices/0000:01:00.0/numa_node\n",
      "Your kernel may have been built without NUMA support.\n",
      "2023-05-02 12:33:20.316304: I tensorflow/compiler/xla/stream_executor/cuda/cuda_gpu_executor.cc:982] could not open file to read NUMA node: /sys/bus/pci/devices/0000:01:00.0/numa_node\n",
      "Your kernel may have been built without NUMA support.\n",
      "2023-05-02 12:33:21.530883: I tensorflow/compiler/xla/stream_executor/cuda/cuda_gpu_executor.cc:982] could not open file to read NUMA node: /sys/bus/pci/devices/0000:01:00.0/numa_node\n",
      "Your kernel may have been built without NUMA support.\n",
      "2023-05-02 12:33:21.530978: I tensorflow/compiler/xla/stream_executor/cuda/cuda_gpu_executor.cc:982] could not open file to read NUMA node: /sys/bus/pci/devices/0000:01:00.0/numa_node\n",
      "Your kernel may have been built without NUMA support.\n",
      "2023-05-02 12:33:21.530987: I tensorflow/core/common_runtime/gpu/gpu_device.cc:1722] Could not identify NUMA node of platform GPU id 0, defaulting to 0.  Your kernel may not have been built with NUMA support.\n",
      "2023-05-02 12:33:21.531017: I tensorflow/compiler/xla/stream_executor/cuda/cuda_gpu_executor.cc:982] could not open file to read NUMA node: /sys/bus/pci/devices/0000:01:00.0/numa_node\n",
      "Your kernel may have been built without NUMA support.\n",
      "2023-05-02 12:33:21.531046: I tensorflow/core/common_runtime/gpu/gpu_device.cc:1635] Created device /job:localhost/replica:0/task:0/device:GPU:0 with 5897 MB memory:  -> device: 0, name: NVIDIA GeForce RTX 2070 with Max-Q Design, pci bus id: 0000:01:00.0, compute capability: 7.5\n"
     ]
    }
   ],
   "source": [
    "# Dataset has already been divided into train and test, but it lacks a validation set.\n",
    "# Get for validation 20% of the training data\n",
    "\n",
    "batch_size = 32\n",
    "seed = 42\n",
    "\n",
    "raw_train_ds = tf.keras.utils.text_dataset_from_directory(\n",
    "    dataset_dir+'/train',\n",
    "    batch_size=batch_size,\n",
    "    validation_split=0.2,\n",
    "    subset='training',\n",
    "    seed=seed)"
   ],
   "metadata": {
    "collapsed": false,
    "ExecuteTime": {
     "start_time": "2023-05-02T11:33:08.411017Z",
     "end_time": "2023-05-02T11:33:21.881957Z"
    }
   }
  },
  {
   "cell_type": "code",
   "execution_count": 22,
   "outputs": [
    {
     "name": "stderr",
     "output_type": "stream",
     "text": [
      "2023-05-02 12:40:40.134725: I tensorflow/core/common_runtime/executor.cc:1197] [/device:CPU:0] (DEBUG INFO) Executor start aborting (this does not indicate an error and you can ignore this message): INVALID_ARGUMENT: You must feed a value for placeholder tensor 'Placeholder/_0' with dtype string and shape [6400]\n",
      "\t [[{{node Placeholder/_0}}]]\n",
      "2023-05-02 12:40:40.135012: I tensorflow/core/common_runtime/executor.cc:1197] [/device:CPU:0] (DEBUG INFO) Executor start aborting (this does not indicate an error and you can ignore this message): INVALID_ARGUMENT: You must feed a value for placeholder tensor 'Placeholder/_0' with dtype string and shape [6400]\n",
      "\t [[{{node Placeholder/_0}}]]\n"
     ]
    },
    {
     "name": "stdout",
     "output_type": "stream",
     "text": [
      "Label #: 2\n",
      "Label: csharp\n",
      "Text part: b'\"what is the difference between these two ways to create an element? var a = document.createelement(' ...\n",
      "Label #: 0\n",
      "Label: java\n",
      "Text part: b'\"is it possible to add a static object to a list in blank? i have a bunch of static classes i would ' ...\n",
      "Label #: 1\n",
      "Label: javascript\n",
      "Text part: b'\"discount sale gui i\\'m encountering problems with my discount sale program. this program is supposed' ...\n"
     ]
    }
   ],
   "source": [
    "for text_batch, label_batch in raw_train_ds.take(1):\n",
    "    for i in range(3):\n",
    "        print(\"Label #:\", label_batch.numpy()[i])\n",
    "        print(\"Label:\", raw_train_ds.class_names[i])\n",
    "        print(\"Text part:\", text_batch.numpy()[i][:100], '...')"
   ],
   "metadata": {
    "collapsed": false,
    "ExecuteTime": {
     "start_time": "2023-05-02T11:40:40.134301Z",
     "end_time": "2023-05-02T11:40:40.521870Z"
    }
   }
  },
  {
   "cell_type": "code",
   "execution_count": 23,
   "outputs": [
    {
     "data": {
      "text/plain": "['csharp', 'java', 'javascript', 'python']"
     },
     "execution_count": 23,
     "metadata": {},
     "output_type": "execute_result"
    }
   ],
   "source": [
    "raw_train_ds.class_names"
   ],
   "metadata": {
    "collapsed": false,
    "ExecuteTime": {
     "start_time": "2023-05-02T11:40:56.922201Z",
     "end_time": "2023-05-02T11:40:56.935201Z"
    }
   }
  },
  {
   "cell_type": "code",
   "execution_count": 24,
   "outputs": [
    {
     "name": "stdout",
     "output_type": "stream",
     "text": [
      "Found 8000 files belonging to 4 classes.\n",
      "Using 1600 files for validation.\n"
     ]
    }
   ],
   "source": [
    "# Get for validation 20%\n",
    "\n",
    "raw_val_ds = tf.keras.utils.text_dataset_from_directory(\n",
    "    dataset_dir+'/train',\n",
    "    batch_size=batch_size,\n",
    "    validation_split=0.2,\n",
    "    subset='validation',\n",
    "    seed=seed)"
   ],
   "metadata": {
    "collapsed": false,
    "ExecuteTime": {
     "start_time": "2023-05-02T11:43:32.623049Z",
     "end_time": "2023-05-02T11:43:44.564448Z"
    }
   }
  },
  {
   "cell_type": "code",
   "execution_count": 25,
   "outputs": [
    {
     "name": "stdout",
     "output_type": "stream",
     "text": [
      "Found 8000 files belonging to 4 classes.\n"
     ]
    }
   ],
   "source": [
    "raw_test_ds = tf.keras.utils.text_dataset_from_directory(\n",
    "    dataset_dir+'/test',\n",
    "    batch_size=batch_size)"
   ],
   "metadata": {
    "collapsed": false,
    "ExecuteTime": {
     "start_time": "2023-05-02T11:44:09.393869Z",
     "end_time": "2023-05-02T11:44:21.080042Z"
    }
   }
  },
  {
   "cell_type": "markdown",
   "source": [
    "There are 8000 files, 6400 for traning and 1600 for validation."
   ],
   "metadata": {
    "collapsed": false
   }
  },
  {
   "cell_type": "markdown",
   "source": [
    "## Prepare the dataset for training\n",
    "\n",
    "Optional specification for [standardization](https://www.tensorflow.org/api_docs/python/tf/keras/layers/TextVectorization) to apply to the input text. Values can be:\n",
    "None: No standardization.\n",
    "\"lower_and_strip_punctuation\": Text will be lowercased and all punctuation removed.\n",
    "\"lower\": Text will be lowercased.\n",
    "\"strip_punctuation\": All punctuation will be removed.\n",
    "Callable: Inputs will passed to the callable function, which should standardized and returned."
   ],
   "metadata": {
    "collapsed": false
   }
  },
  {
   "cell_type": "code",
   "execution_count": 38,
   "outputs": [],
   "source": [
    "max_features = 100000\n",
    "sequence_length = 250\n",
    "\n",
    "vectorize_layer = layers.TextVectorization(\n",
    "    standardize=None,\n",
    "    max_tokens=max_features,\n",
    "    output_mode='int',\n",
    "    output_sequence_length=sequence_length)"
   ],
   "metadata": {
    "collapsed": false,
    "ExecuteTime": {
     "start_time": "2023-05-02T11:54:51.298937Z",
     "end_time": "2023-05-02T11:54:51.304435Z"
    }
   }
  },
  {
   "cell_type": "code",
   "execution_count": 39,
   "outputs": [
    {
     "name": "stderr",
     "output_type": "stream",
     "text": [
      "2023-05-02 12:54:52.785724: I tensorflow/core/common_runtime/executor.cc:1197] [/device:CPU:0] (DEBUG INFO) Executor start aborting (this does not indicate an error and you can ignore this message): INVALID_ARGUMENT: You must feed a value for placeholder tensor 'Placeholder/_4' with dtype int32 and shape [6400]\n",
      "\t [[{{node Placeholder/_4}}]]\n",
      "2023-05-02 12:54:52.786036: I tensorflow/core/common_runtime/executor.cc:1197] [/device:CPU:0] (DEBUG INFO) Executor start aborting (this does not indicate an error and you can ignore this message): INVALID_ARGUMENT: You must feed a value for placeholder tensor 'Placeholder/_4' with dtype int32 and shape [6400]\n",
      "\t [[{{node Placeholder/_4}}]]\n"
     ]
    }
   ],
   "source": [
    "# Make a text-only dataset (without labels), then call adapt\n",
    "train_text = raw_train_ds.map(lambda x, y: x)\n",
    "vectorize_layer.adapt(train_text)"
   ],
   "metadata": {
    "collapsed": false,
    "ExecuteTime": {
     "start_time": "2023-05-02T11:54:52.775764Z",
     "end_time": "2023-05-02T11:54:58.826490Z"
    }
   }
  },
  {
   "cell_type": "code",
   "execution_count": 40,
   "outputs": [
    {
     "name": "stdout",
     "output_type": "stream",
     "text": [
      "Review tf.Tensor(b'\"my tester is going to the wrong constructor i am new to programming so if i ask a question that can be easily fixed, please forgive me. my program has a tester class with a main. when i send that to my regularpolygon class, it sends it to the wrong constructor. i have two constructors. 1 without perameters..public regularpolygon().    {.       mynumsides = 5;.       mysidelength = 30;.    }//end default constructor...and my second, with perameters. ..public regularpolygon(int numsides, double sidelength).    {.        mynumsides = numsides;.        mysidelength = sidelength;.    }// end constructor...in my tester class i have these two lines:..regularpolygon shape = new regularpolygon(numsides, sidelength);.        shape.menu();...numsides and sidelength were declared and initialized earlier in the testing class...so what i want to happen, is the tester class sends numsides and sidelength to the second constructor and use it in that class. but it only uses the default constructor, which therefor ruins the whole rest of the program. can somebody help me?..for those of you who want to see more of my code: here you go..public double vertexangle().    {.        system.out.println(\"\"the vertex angle method: \"\" + mynumsides);// prints out 5.        system.out.println(\"\"the vertex angle method: \"\" + mysidelength); // prints out 30..        double vertexangle;.        vertexangle = ((mynumsides - 2.0) / mynumsides) * 180.0;.        return vertexangle;.    }//end method vertexangle..public void menu().{.    system.out.println(mynumsides); // prints out what the user puts in.    system.out.println(mysidelength); // prints out what the user puts in.    gotographic();.    calcr(mynumsides, mysidelength);.    calcr(mynumsides, mysidelength);.    print(); .}// end menu...this is my entire tester class:..public static void main(string[] arg).{.    int numsides;.    double sidelength;.    scanner keyboard = new scanner(system.in);..    system.out.println(\"\"welcome to the regular polygon program!\"\");.    system.out.println();..    system.out.print(\"\"enter the number of sides of the polygon ==&gt; \"\");.    numsides = keyboard.nextint();.    system.out.println();..    system.out.print(\"\"enter the side length of each side ==&gt; \"\");.    sidelength = keyboard.nextdouble();.    system.out.println();..    regularpolygon shape = new regularpolygon(numsides, sidelength);.    shape.menu();.}//end main...for testing it i sent it numsides 4 and sidelength 100.\"\\n', shape=(), dtype=string)\n",
      "Label java\n",
      "Vectorized review (<tf.Tensor: shape=(1, 250), dtype=int64, numpy=\n",
      "array([[ 2722,  3111,     8,   394,     4,     2,   206,   461,     5,\n",
      "           33,    18,     4,   703,    59,    12,     5,   714,     6,\n",
      "          185,    15,    35,    32,  2674, 15989,   182,  6940,  1054,\n",
      "           24,   104,    97,     6,  3111,    34,    21,     6,  2376,\n",
      "           47,     5,   485,    15,     4,    24, 22379,   632,    14,\n",
      "         1970,    14,     4,     2,   206,  1387,     5,    19,   117,\n",
      "        16582,   107,   197, 68570, 62517,     9, 24319,     3,  1526,\n",
      "        24311,     3,  4720,  2508,   482,     1,    24,  4477,    21,\n",
      "        68571,   725, 62516, 73381,   118, 56473,     9, 24319,     3,\n",
      "        23816, 24311,     3, 21551,  7400,   270,     1,    24,  3111,\n",
      "           34,     5,    19,   220,   117, 82627,  4134,     3,    18,\n",
      "        22378, 21552, 56865,    10, 10859,   584,  1208,    10,  2308,\n",
      "         2675,     7,     2,   908, 16769,    63,     5,    45,     4,\n",
      "         7924,     8,     2,  3111,    34,  1970, 14840,    10, 10859,\n",
      "            4,     2,   209,   461,    10,    70,    14,     7,    15,\n",
      "          554,    26,    14,    96,   718,     2,   482,  5097,    66,\n",
      "        13714, 60451,     2,   625,   915,    11,     2,   742,    35,\n",
      "         2032,   119, 79241,   408,    11,    65,   885,    45,     4,\n",
      "          192,   177,    11,    24,  1389,   161,    65, 94060,   118,\n",
      "        41380,     9,  1000,  5828,  4330,  4201,    57,    17, 76542,\n",
      "          528,   103,  2272,  1000,  5828,  4330,  4201,    57,    17,\n",
      "        76416,    52,   528,   103,     1,   118, 19377, 41381,     3,\n",
      "            1,    58, 17561,   171, 76543,    56,     1,    27, 19377,\n",
      "         2508,    75, 41379,    42, 24653, 50517,    52,   528,   103,\n",
      "           63,     2,   111,  3285,  2382, 50515,    52,   528,   103,\n",
      "           63,     2,   111,  3285,  2382, 93937, 29726, 24310, 29726,\n",
      "        24310, 66357,     1,   270, 78994,     8,    24,   939,  3111,\n",
      "         2484,    55,    42,   189,     1,    40, 23816]])>, <tf.Tensor: shape=(), dtype=int32, numpy=1>)\n"
     ]
    }
   ],
   "source": [
    "# Let’s create a function to see the result of using this layer to preprocess some data.\n",
    "def vectorize_text(text, label):\n",
    "    text = tf.expand_dims(text, -1)\n",
    "    return vectorize_layer(text), label\n",
    "\n",
    "# retrieve a batch (of 32 reviews and labels) from the dataset\n",
    "text_batch, label_batch = next(iter(raw_train_ds))\n",
    "first_review, first_label = text_batch[0], label_batch[0]\n",
    "print(\"Review\", first_review)\n",
    "print(\"Label\", raw_train_ds.class_names[first_label])\n",
    "print(\"Vectorized review\", vectorize_text(first_review, first_label))"
   ],
   "metadata": {
    "collapsed": false,
    "ExecuteTime": {
     "start_time": "2023-05-02T11:55:00.819061Z",
     "end_time": "2023-05-02T11:55:01.118566Z"
    }
   }
  },
  {
   "cell_type": "code",
   "execution_count": 41,
   "outputs": [
    {
     "name": "stdout",
     "output_type": "stream",
     "text": [
      "2722 --->  \"trying\n",
      "3111 --->  to\n",
      "   8 --->  convert\n",
      " 394 --->  a\n",
      "   4 --->  list\n",
      "Vocabulary size: 100000\n"
     ]
    }
   ],
   "source": [
    "print(\"2722 ---> \",vectorize_layer.get_vocabulary()[1886])\n",
    "print(\"3111 ---> \",vectorize_layer.get_vocabulary()[4])\n",
    "print(\"   8 ---> \",vectorize_layer.get_vocabulary()[216])\n",
    "print(\" 394 ---> \",vectorize_layer.get_vocabulary()[6])\n",
    "print(\"   4 ---> \",vectorize_layer.get_vocabulary()[71])\n",
    "print('Vocabulary size: {}'.format(len(vectorize_layer.get_vocabulary())))"
   ],
   "metadata": {
    "collapsed": false,
    "ExecuteTime": {
     "start_time": "2023-05-02T11:55:31.003469Z",
     "end_time": "2023-05-02T11:55:35.014290Z"
    }
   }
  },
  {
   "cell_type": "code",
   "execution_count": 42,
   "outputs": [],
   "source": [
    "train_ds = raw_train_ds.map(vectorize_text)\n",
    "val_ds = raw_val_ds.map(vectorize_text)\n",
    "test_ds = raw_test_ds.map(vectorize_text)"
   ],
   "metadata": {
    "collapsed": false,
    "ExecuteTime": {
     "start_time": "2023-05-02T11:55:51.802190Z",
     "end_time": "2023-05-02T11:55:51.898675Z"
    }
   }
  },
  {
   "cell_type": "markdown",
   "source": [
    "## Configure the dataset for performance"
   ],
   "metadata": {
    "collapsed": false
   }
  },
  {
   "cell_type": "code",
   "execution_count": 44,
   "outputs": [],
   "source": [
    "AUTOTUNE = tf.data.AUTOTUNE\n",
    "\n",
    "train_ds = train_ds.cache().prefetch(buffer_size=AUTOTUNE)\n",
    "val_ds = val_ds.cache().prefetch(buffer_size=AUTOTUNE)\n",
    "test_ds = test_ds.cache().prefetch(buffer_size=AUTOTUNE)"
   ],
   "metadata": {
    "collapsed": false,
    "ExecuteTime": {
     "start_time": "2023-05-02T11:59:04.912787Z",
     "end_time": "2023-05-02T11:59:04.934546Z"
    }
   }
  },
  {
   "cell_type": "markdown",
   "source": [
    "## Create and compile the model"
   ],
   "metadata": {
    "collapsed": false
   }
  },
  {
   "cell_type": "code",
   "execution_count": 81,
   "outputs": [
    {
     "name": "stdout",
     "output_type": "stream",
     "text": [
      "Model: \"sequential_10\"\n",
      "_________________________________________________________________\n",
      " Layer (type)                Output Shape              Param #   \n",
      "=================================================================\n",
      " embedding_8 (Embedding)     (None, None, 16)          1600016   \n",
      "                                                                 \n",
      " dropout_15 (Dropout)        (None, None, 16)          0         \n",
      "                                                                 \n",
      " global_average_pooling1d_3   (None, 16)               0         \n",
      " (GlobalAveragePooling1D)                                        \n",
      "                                                                 \n",
      " dropout_16 (Dropout)        (None, 16)                0         \n",
      "                                                                 \n",
      " dense_11 (Dense)            (None, 4)                 68        \n",
      "                                                                 \n",
      "=================================================================\n",
      "Total params: 1,600,084\n",
      "Trainable params: 1,600,084\n",
      "Non-trainable params: 0\n",
      "_________________________________________________________________\n"
     ]
    }
   ],
   "source": [
    "embedding_dim = 16\n",
    "\n",
    "model = tf.keras.Sequential([\n",
    "    layers.Embedding(max_features + 1, embedding_dim),\n",
    "    layers.Dropout(0.2),\n",
    "    layers.GlobalAveragePooling1D(),\n",
    "    # layers.Dense(128, activation='relu'),\n",
    "    # layers.Flatten(),\n",
    "    # layers.Dense(256, activation='relu'),\n",
    "    layers.Dropout(0.2),\n",
    "    layers.Dense(4)])\n",
    "\n",
    "model.summary()"
   ],
   "metadata": {
    "collapsed": false,
    "ExecuteTime": {
     "start_time": "2023-05-02T12:22:15.505376Z",
     "end_time": "2023-05-02T12:22:15.548328Z"
    }
   }
  },
  {
   "cell_type": "code",
   "execution_count": 82,
   "outputs": [],
   "source": [
    "# When compiling the model, change the loss to tf.keras.losses.SparseCategoricalCrossentropy(from_logits=True). This is the correct\n",
    "# loss function to use for a multi-class classification problem, when the labels for each class are integers (in this case, they can\n",
    "# be 0, 1, 2, or 3). In addition, change the metrics to metrics=['accuracy'], since this is a multi-class classification problem\n",
    "# (tf.metrics.BinaryAccuracy is only used for binary classifiers).\n",
    "\n",
    "model.compile(loss=tf.keras.losses.SparseCategoricalCrossentropy(from_logits=True),\n",
    "              optimizer='adam',\n",
    "              metrics=['accuracy'])"
   ],
   "metadata": {
    "collapsed": false,
    "ExecuteTime": {
     "start_time": "2023-05-02T12:22:15.686815Z",
     "end_time": "2023-05-02T12:22:15.699665Z"
    }
   }
  },
  {
   "cell_type": "markdown",
   "source": [
    "## Train the model"
   ],
   "metadata": {
    "collapsed": false
   }
  },
  {
   "cell_type": "code",
   "execution_count": 83,
   "outputs": [
    {
     "name": "stdout",
     "output_type": "stream",
     "text": [
      "Epoch 1/10\n",
      "200/200 [==============================] - 20s 100ms/step - loss: 1.3774 - accuracy: 0.3536 - val_loss: 1.3649 - val_accuracy: 0.4737\n",
      "Epoch 2/10\n",
      "200/200 [==============================] - 1s 7ms/step - loss: 1.3461 - accuracy: 0.4906 - val_loss: 1.3250 - val_accuracy: 0.5281\n",
      "Epoch 3/10\n",
      "200/200 [==============================] - 1s 5ms/step - loss: 1.2900 - accuracy: 0.5661 - val_loss: 1.2638 - val_accuracy: 0.5663\n",
      "Epoch 4/10\n",
      "200/200 [==============================] - 1s 7ms/step - loss: 1.2109 - accuracy: 0.6278 - val_loss: 1.1933 - val_accuracy: 0.6044\n",
      "Epoch 5/10\n",
      "200/200 [==============================] - 1s 5ms/step - loss: 1.1187 - accuracy: 0.6881 - val_loss: 1.1253 - val_accuracy: 0.6212\n",
      "Epoch 6/10\n",
      "200/200 [==============================] - 1s 6ms/step - loss: 1.0302 - accuracy: 0.7311 - val_loss: 1.0635 - val_accuracy: 0.6525\n",
      "Epoch 7/10\n",
      "200/200 [==============================] - 1s 6ms/step - loss: 0.9443 - accuracy: 0.7714 - val_loss: 1.0066 - val_accuracy: 0.6719\n",
      "Epoch 8/10\n",
      "200/200 [==============================] - 1s 5ms/step - loss: 0.8684 - accuracy: 0.8002 - val_loss: 0.9549 - val_accuracy: 0.6894\n",
      "Epoch 9/10\n",
      "200/200 [==============================] - 1s 7ms/step - loss: 0.7999 - accuracy: 0.8277 - val_loss: 0.9056 - val_accuracy: 0.7094\n",
      "Epoch 10/10\n",
      "200/200 [==============================] - 1s 6ms/step - loss: 0.7421 - accuracy: 0.8442 - val_loss: 0.8640 - val_accuracy: 0.7212\n"
     ]
    }
   ],
   "source": [
    "epochs = 10\n",
    "history = model.fit(\n",
    "    train_ds,\n",
    "    validation_data=val_ds,\n",
    "    epochs=epochs)"
   ],
   "metadata": {
    "collapsed": false,
    "ExecuteTime": {
     "start_time": "2023-05-02T12:22:16.005748Z",
     "end_time": "2023-05-02T12:22:47.582630Z"
    }
   }
  },
  {
   "cell_type": "markdown",
   "source": [
    "## Evaluate the model and create a plot"
   ],
   "metadata": {
    "collapsed": false
   }
  },
  {
   "cell_type": "code",
   "execution_count": 84,
   "outputs": [
    {
     "name": "stdout",
     "output_type": "stream",
     "text": [
      "250/250 [==============================] - 1s 3ms/step - loss: 0.8888 - accuracy: 0.7057\n",
      "Loss:  0.8888326287269592\n",
      "Accuracy:  0.7057499885559082\n"
     ]
    }
   ],
   "source": [
    "loss, accuracy = model.evaluate(test_ds)\n",
    "\n",
    "print(\"Loss: \", loss)\n",
    "print(\"Accuracy: \", accuracy)"
   ],
   "metadata": {
    "collapsed": false,
    "ExecuteTime": {
     "start_time": "2023-05-02T12:22:47.582630Z",
     "end_time": "2023-05-02T12:22:48.234961Z"
    }
   }
  },
  {
   "cell_type": "code",
   "execution_count": 85,
   "outputs": [
    {
     "data": {
      "text/plain": "dict_keys(['loss', 'accuracy', 'val_loss', 'val_accuracy'])"
     },
     "execution_count": 85,
     "metadata": {},
     "output_type": "execute_result"
    }
   ],
   "source": [
    "history_dict = history.history\n",
    "history_dict.keys()"
   ],
   "metadata": {
    "collapsed": false,
    "ExecuteTime": {
     "start_time": "2023-05-02T12:22:48.234961Z",
     "end_time": "2023-05-02T12:22:48.242267Z"
    }
   }
  },
  {
   "cell_type": "code",
   "execution_count": 86,
   "outputs": [
    {
     "data": {
      "text/plain": "<Figure size 640x480 with 1 Axes>",
      "image/png": "[encoded data removed]"
     },
     "metadata": {},
     "output_type": "display_data"
    },
    {
     "data": {
      "text/plain": "<Figure size 640x480 with 1 Axes>",
      "image/png": "[encoded data removed]"
     },
     "metadata": {},
     "output_type": "display_data"
    }
   ],
   "source": [
    "acc = history_dict['accuracy']\n",
    "val_acc = history_dict['val_accuracy']\n",
    "loss = history_dict['loss']\n",
    "val_loss = history_dict['val_loss']\n",
    "\n",
    "epochs = range(1, len(acc) + 1)\n",
    "\n",
    "\n",
    "plt.plot(epochs, loss, 'r--', label='Training loss')\n",
    "plt.plot(epochs, val_loss, 'b', label='Validation loss')\n",
    "plt.title('Training and validation loss')\n",
    "plt.xlabel('Epochs')\n",
    "plt.ylabel('Loss')\n",
    "plt.legend()\n",
    "\n",
    "plt.show()\n",
    "\n",
    "plt.plot(epochs, acc, 'r--', label='Training acc')\n",
    "plt.plot(epochs, val_acc, 'b', label='Validation acc')\n",
    "plt.title('Training and validation accuracy')\n",
    "plt.xlabel('Epochs')\n",
    "plt.ylabel('Accuracy')\n",
    "plt.legend(loc='lower right')\n",
    "\n",
    "plt.show()"
   ],
   "metadata": {
    "collapsed": false,
    "ExecuteTime": {
     "start_time": "2023-05-02T12:22:48.242267Z",
     "end_time": "2023-05-02T12:22:48.511774Z"
    }
   }
  },
  {
   "cell_type": "markdown",
   "source": [
    "## Export the model"
   ],
   "metadata": {
    "collapsed": false
   }
  },
  {
   "cell_type": "code",
   "execution_count": 87,
   "outputs": [
    {
     "name": "stdout",
     "output_type": "stream",
     "text": [
      "250/250 [==============================] - 8s 29ms/step - loss: 0.8888 - accuracy: 0.7057\n",
      "0.7057499885559082\n"
     ]
    }
   ],
   "source": [
    "export_model = tf.keras.Sequential([\n",
    "    vectorize_layer,\n",
    "    model,\n",
    "    layers.Activation('sigmoid')\n",
    "])\n",
    "\n",
    "export_model.compile(\n",
    "    loss=tf.keras.losses.SparseCategoricalCrossentropy(from_logits=True), optimizer=\"adam\", metrics=['accuracy']\n",
    ")\n",
    "\n",
    "# Test it with `raw_test_ds`, which yields raw strings\n",
    "loss, accuracy = export_model.evaluate(raw_test_ds)\n",
    "print(accuracy)"
   ],
   "metadata": {
    "collapsed": false,
    "ExecuteTime": {
     "start_time": "2023-05-02T12:22:48.511774Z",
     "end_time": "2023-05-02T12:22:56.301415Z"
    }
   }
  },
  {
   "cell_type": "markdown",
   "source": [
    "## Inference on new data"
   ],
   "metadata": {
    "collapsed": false
   }
  },
  {
   "cell_type": "code",
   "execution_count": 88,
   "outputs": [
    {
     "name": "stdout",
     "output_type": "stream",
     "text": [
      "['csharp', 'java', 'javascript', 'python']\n",
      "1/1 [==============================] - 0s 81ms/step\n"
     ]
    },
    {
     "data": {
      "text/plain": "array([[0.49966377, 0.45333838, 0.54903746, 0.48337188],\n       [0.5201182 , 0.49127275, 0.5171596 , 0.44792902],\n       [0.49847212, 0.44519553, 0.56987315, 0.4708217 ],\n       [0.50336355, 0.47094923, 0.55004674, 0.45331997],\n       [0.51156497, 0.47295606, 0.54158986, 0.4503061 ],\n       [0.5301451 , 0.4834898 , 0.52390355, 0.43428728],\n       [0.5064612 , 0.48138592, 0.53824407, 0.45039788],\n       [0.5172998 , 0.4858914 , 0.5322869 , 0.43742254],\n       [0.5138473 , 0.4765437 , 0.53652495, 0.44886452],\n       [0.5041683 , 0.4735905 , 0.540268  , 0.4616965 ],\n       [0.51071334, 0.4830744 , 0.5392512 , 0.441256  ],\n       [0.51402223, 0.4805074 , 0.5358988 , 0.44410208],\n       [0.5048659 , 0.4729626 , 0.5464193 , 0.45295975]], dtype=float32)"
     },
     "execution_count": 88,
     "metadata": {},
     "output_type": "execute_result"
    }
   ],
   "source": [
    "examples = [\n",
    "    \"How can I get keys from the dataframe\",\n",
    "    \"During defining a class I got an error\",\n",
    "    \"in chrome I can get access to the variable\",\n",
    "    \"print('hello world')\",\n",
    "    \"using Oracle\",\n",
    "    \"microsoft windows\",\n",
    "    'ubuntu',\n",
    "    'server',\n",
    "    'data',\n",
    "    'pandas',\n",
    "    'python',\n",
    "    'javascript',\n",
    "    'C#'\n",
    "]\n",
    "\n",
    "print(raw_train_ds.class_names)\n",
    "export_model.predict(examples)"
   ],
   "metadata": {
    "collapsed": false,
    "ExecuteTime": {
     "start_time": "2023-05-02T12:22:56.301415Z",
     "end_time": "2023-05-02T12:22:56.452787Z"
    }
   }
  },
  {
   "cell_type": "code",
   "execution_count": null,
   "outputs": [],
   "source": [],
   "metadata": {
    "collapsed": false
   }
  }
 ],
 "metadata": {
  "kernelspec": {
   "display_name": "Python 3",
   "language": "python",
   "name": "python3"
  },
  "language_info": {
   "codemirror_mode": {
    "name": "ipython",
    "version": 2
   },
   "file_extension": ".py",
   "mimetype": "text/x-python",
   "name": "python",
   "nbconvert_exporter": "python",
   "pygments_lexer": "ipython2",
   "version": "2.7.6"
  }
 },
 "nbformat": 4,
 "nbformat_minor": 0
}
